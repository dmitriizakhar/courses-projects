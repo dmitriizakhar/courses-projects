{
 "cells": [
  {
   "cell_type": "markdown",
   "metadata": {},
   "source": [
    "## Определение перспективного тарифа для телеком компании\n",
    "Клиентам предлагают два тарифных плана: «Смарт» и «Ультра». Чтобы скорректировать рекламный бюджет, коммерческий департамент хочет понять, какой тариф приносит больше денег.  \n",
    "Предстоит сделать предварительный анализ тарифов на небольшой выборке клиентов. В вашем распоряжении данные 500 пользователей «Мегалайна»: кто они, откуда, каким тарифом пользуются, сколько звонков и сообщений каждый отправил за 2018 год. Нужно проанализировать поведение клиентов и сделать вывод — какой тариф лучше.  \n",
    "\n",
    "### Описание тарифов\n",
    "##### Тариф «Смарт»\n",
    "Ежемесячная плата: 550 рублей  \n",
    "Включено 500 минут разговора, 50 сообщений и 15 Гб интернет-трафика  \n",
    "Стоимость услуг сверх тарифного пакета:  \n",
    "минута разговора: 3 рубля  \n",
    "сообщение: 3 рубля  \n",
    "1 Гб интернет-трафика: 200 рублей  \n",
    "##### Тариф «Ультра»\n",
    "Ежемесячная плата: 1950 рублей  \n",
    "Включено 3000 минут разговора, 1000 сообщений и 30 Гб интернет-трафика  \n",
    "Стоимость услуг сверх тарифного пакета:  \n",
    "минута разговора: 1 рубль  \n",
    "сообщение: 1 рубль  \n",
    "1 Гб интернет-трафика: 150 рублей  \n",
    "\n",
    "Обратите внимание: «Мегалайн» всегда округляет вверх значения минут и мегабайтов. Если пользователь проговорил всего 1 секунду, в тарифе засчитывается целая минута."
   ]
  },
  {
   "cell_type": "markdown",
   "metadata": {},
   "source": [
    "### Описание данных\n",
    "\n",
    "Таблица `users` (информация о пользователях):  \n",
    "- user_id — уникальный идентификатор пользователя  \n",
    "- first_name — имя пользователя  \n",
    "- last_name — фамилия пользователя  \n",
    "- age — возраст пользователя (годы)  \n",
    "- reg_date — дата подключения тарифа (день, месяц, год)  \n",
    "- churn_date — дата прекращения пользования тарифом (если значение пропущено, то тариф ещё действовал на момент выгрузки данных) \n",
    "- city — город проживания пользователя  \n",
    "- tariff — название тарифного плана  \n",
    "\n",
    "Таблица `calls` (информация о звонках):  \n",
    "- id — уникальный номер звонка  \n",
    "- call_date — дата звонка  \n",
    "- duration — длительность звонка в минутах  \n",
    "- user_id — идентификатор пользователя, сделавшего звонок  \n",
    "\n",
    "Таблица `messages` (информация о сообщениях):  \n",
    "- id — уникальный номер сообщения  \n",
    "- message_date — дата сообщения  \n",
    "- user_id — идентификатор пользователя, отправившего сообщение \n",
    "\n",
    "Таблица `internet` (информация об интернет-сессиях):  \n",
    "- id — уникальный номер сессии  \n",
    "- mb_used — объём потраченного за сессию интернет-трафика (в мегабайтах)  \n",
    "- session_date — дата интернет-сессии  \n",
    "- user_id — идентификатор пользователя  \n",
    "\n",
    "Таблица `tariffs` (информация о тарифах):  \n",
    "- tariff_name — название тарифа  \n",
    "- rub_monthly_fee — ежемесячная абонентская плата в рублях  \n",
    "- minutes_included — количество минут разговора в месяц, включённых в абонентскую плату  \n",
    "- messages_included — количество сообщений в месяц, включённых в абонентскую плату  \n",
    "- mb_per_month_included — объём интернет-трафика, включённого в абонентскую плату (в мегабайтах)  \n",
    "- rub_per_minute — стоимость минуты разговора сверх тарифного пакета (например, если в тарифе 100 минут разговора в месяц, то со 101 минуты будет взиматься плата)  \n",
    "- rub_per_message — стоимость отправки сообщения сверх тарифного пакета  \n",
    "- rub_per_gb — стоимость дополнительного гигабайта интернет-трафика сверх тарифного пакета (1 гигабайт = 1024 мегабайта)  "
   ]
  },
  {
   "cell_type": "markdown",
   "metadata": {},
   "source": [
    "### Оглавление\n",
    "1 <a href = '#open'>Изучение общей информации</a>  \n",
    "2 <a href = '#preparation'>Подготовка данных</a>  \n",
    "&ensp; 2.1 <a href = '#feature'>Добавление новых данных</a>  \n",
    "3 <a href = '#analysis'>Анализ данных</a>  \n",
    "4 <a href = '#hypothesis_testing'>Тестирование гипотез</a>  \n",
    "5 <a href = '#conclusion'>Вывод</a>  "
   ]
  },
  {
   "cell_type": "markdown",
   "metadata": {},
   "source": [
    "### Шаг 1. Изучение общей информации\n",
    "<a id = open></a>"
   ]
  },
  {
   "cell_type": "code",
   "execution_count": 1,
   "metadata": {},
   "outputs": [],
   "source": [
    "import pandas as pd\n",
    "import matplotlib.pyplot as plt\n",
    "import numpy as np\n",
    "from scipy import stats as st"
   ]
  },
  {
   "cell_type": "code",
   "execution_count": 2,
   "metadata": {},
   "outputs": [],
   "source": [
    "calls = pd.read_csv('/datasets/calls.csv')\n",
    "internet = pd.read_csv('/datasets/internet.csv')\n",
    "messages = pd.read_csv('/datasets/messages.csv')\n",
    "tariffs = pd.read_csv('/datasets/tariffs.csv')\n",
    "users = pd.read_csv('/datasets/users.csv')"
   ]
  },
  {
   "cell_type": "code",
   "execution_count": 3,
   "metadata": {},
   "outputs": [
    {
     "data": {
      "text/html": [
       "<div>\n",
       "<style scoped>\n",
       "    .dataframe tbody tr th:only-of-type {\n",
       "        vertical-align: middle;\n",
       "    }\n",
       "\n",
       "    .dataframe tbody tr th {\n",
       "        vertical-align: top;\n",
       "    }\n",
       "\n",
       "    .dataframe thead th {\n",
       "        text-align: right;\n",
       "    }\n",
       "</style>\n",
       "<table border=\"1\" class=\"dataframe\">\n",
       "  <thead>\n",
       "    <tr style=\"text-align: right;\">\n",
       "      <th></th>\n",
       "      <th>id</th>\n",
       "      <th>call_date</th>\n",
       "      <th>duration</th>\n",
       "      <th>user_id</th>\n",
       "    </tr>\n",
       "  </thead>\n",
       "  <tbody>\n",
       "    <tr>\n",
       "      <td>0</td>\n",
       "      <td>1000_0</td>\n",
       "      <td>2018-07-25</td>\n",
       "      <td>0.00</td>\n",
       "      <td>1000</td>\n",
       "    </tr>\n",
       "    <tr>\n",
       "      <td>1</td>\n",
       "      <td>1000_1</td>\n",
       "      <td>2018-08-17</td>\n",
       "      <td>0.00</td>\n",
       "      <td>1000</td>\n",
       "    </tr>\n",
       "    <tr>\n",
       "      <td>2</td>\n",
       "      <td>1000_2</td>\n",
       "      <td>2018-06-11</td>\n",
       "      <td>2.85</td>\n",
       "      <td>1000</td>\n",
       "    </tr>\n",
       "    <tr>\n",
       "      <td>3</td>\n",
       "      <td>1000_3</td>\n",
       "      <td>2018-09-21</td>\n",
       "      <td>13.80</td>\n",
       "      <td>1000</td>\n",
       "    </tr>\n",
       "    <tr>\n",
       "      <td>4</td>\n",
       "      <td>1000_4</td>\n",
       "      <td>2018-12-15</td>\n",
       "      <td>5.18</td>\n",
       "      <td>1000</td>\n",
       "    </tr>\n",
       "  </tbody>\n",
       "</table>\n",
       "</div>"
      ],
      "text/plain": [
       "       id   call_date  duration  user_id\n",
       "0  1000_0  2018-07-25      0.00     1000\n",
       "1  1000_1  2018-08-17      0.00     1000\n",
       "2  1000_2  2018-06-11      2.85     1000\n",
       "3  1000_3  2018-09-21     13.80     1000\n",
       "4  1000_4  2018-12-15      5.18     1000"
      ]
     },
     "execution_count": 3,
     "metadata": {},
     "output_type": "execute_result"
    }
   ],
   "source": [
    "calls.head()"
   ]
  },
  {
   "cell_type": "code",
   "execution_count": 4,
   "metadata": {},
   "outputs": [
    {
     "name": "stdout",
     "output_type": "stream",
     "text": [
      "<class 'pandas.core.frame.DataFrame'>\n",
      "RangeIndex: 202607 entries, 0 to 202606\n",
      "Data columns (total 4 columns):\n",
      "id           202607 non-null object\n",
      "call_date    202607 non-null object\n",
      "duration     202607 non-null float64\n",
      "user_id      202607 non-null int64\n",
      "dtypes: float64(1), int64(1), object(2)\n",
      "memory usage: 6.2+ MB\n"
     ]
    }
   ],
   "source": [
    "calls.info()"
   ]
  },
  {
   "cell_type": "code",
   "execution_count": 5,
   "metadata": {},
   "outputs": [
    {
     "data": {
      "text/html": [
       "<div>\n",
       "<style scoped>\n",
       "    .dataframe tbody tr th:only-of-type {\n",
       "        vertical-align: middle;\n",
       "    }\n",
       "\n",
       "    .dataframe tbody tr th {\n",
       "        vertical-align: top;\n",
       "    }\n",
       "\n",
       "    .dataframe thead th {\n",
       "        text-align: right;\n",
       "    }\n",
       "</style>\n",
       "<table border=\"1\" class=\"dataframe\">\n",
       "  <thead>\n",
       "    <tr style=\"text-align: right;\">\n",
       "      <th></th>\n",
       "      <th>Unnamed: 0</th>\n",
       "      <th>id</th>\n",
       "      <th>mb_used</th>\n",
       "      <th>session_date</th>\n",
       "      <th>user_id</th>\n",
       "    </tr>\n",
       "  </thead>\n",
       "  <tbody>\n",
       "    <tr>\n",
       "      <td>0</td>\n",
       "      <td>0</td>\n",
       "      <td>1000_0</td>\n",
       "      <td>112.95</td>\n",
       "      <td>2018-11-25</td>\n",
       "      <td>1000</td>\n",
       "    </tr>\n",
       "    <tr>\n",
       "      <td>1</td>\n",
       "      <td>1</td>\n",
       "      <td>1000_1</td>\n",
       "      <td>1052.81</td>\n",
       "      <td>2018-09-07</td>\n",
       "      <td>1000</td>\n",
       "    </tr>\n",
       "    <tr>\n",
       "      <td>2</td>\n",
       "      <td>2</td>\n",
       "      <td>1000_2</td>\n",
       "      <td>1197.26</td>\n",
       "      <td>2018-06-25</td>\n",
       "      <td>1000</td>\n",
       "    </tr>\n",
       "    <tr>\n",
       "      <td>3</td>\n",
       "      <td>3</td>\n",
       "      <td>1000_3</td>\n",
       "      <td>550.27</td>\n",
       "      <td>2018-08-22</td>\n",
       "      <td>1000</td>\n",
       "    </tr>\n",
       "    <tr>\n",
       "      <td>4</td>\n",
       "      <td>4</td>\n",
       "      <td>1000_4</td>\n",
       "      <td>302.56</td>\n",
       "      <td>2018-09-24</td>\n",
       "      <td>1000</td>\n",
       "    </tr>\n",
       "  </tbody>\n",
       "</table>\n",
       "</div>"
      ],
      "text/plain": [
       "   Unnamed: 0      id  mb_used session_date  user_id\n",
       "0           0  1000_0   112.95   2018-11-25     1000\n",
       "1           1  1000_1  1052.81   2018-09-07     1000\n",
       "2           2  1000_2  1197.26   2018-06-25     1000\n",
       "3           3  1000_3   550.27   2018-08-22     1000\n",
       "4           4  1000_4   302.56   2018-09-24     1000"
      ]
     },
     "execution_count": 5,
     "metadata": {},
     "output_type": "execute_result"
    }
   ],
   "source": [
    "internet.head()"
   ]
  },
  {
   "cell_type": "code",
   "execution_count": 6,
   "metadata": {},
   "outputs": [
    {
     "name": "stdout",
     "output_type": "stream",
     "text": [
      "<class 'pandas.core.frame.DataFrame'>\n",
      "RangeIndex: 149396 entries, 0 to 149395\n",
      "Data columns (total 5 columns):\n",
      "Unnamed: 0      149396 non-null int64\n",
      "id              149396 non-null object\n",
      "mb_used         149396 non-null float64\n",
      "session_date    149396 non-null object\n",
      "user_id         149396 non-null int64\n",
      "dtypes: float64(1), int64(2), object(2)\n",
      "memory usage: 5.7+ MB\n"
     ]
    }
   ],
   "source": [
    "internet.info()"
   ]
  },
  {
   "cell_type": "code",
   "execution_count": 7,
   "metadata": {},
   "outputs": [
    {
     "data": {
      "text/html": [
       "<div>\n",
       "<style scoped>\n",
       "    .dataframe tbody tr th:only-of-type {\n",
       "        vertical-align: middle;\n",
       "    }\n",
       "\n",
       "    .dataframe tbody tr th {\n",
       "        vertical-align: top;\n",
       "    }\n",
       "\n",
       "    .dataframe thead th {\n",
       "        text-align: right;\n",
       "    }\n",
       "</style>\n",
       "<table border=\"1\" class=\"dataframe\">\n",
       "  <thead>\n",
       "    <tr style=\"text-align: right;\">\n",
       "      <th></th>\n",
       "      <th>id</th>\n",
       "      <th>message_date</th>\n",
       "      <th>user_id</th>\n",
       "    </tr>\n",
       "  </thead>\n",
       "  <tbody>\n",
       "    <tr>\n",
       "      <td>0</td>\n",
       "      <td>1000_0</td>\n",
       "      <td>2018-06-27</td>\n",
       "      <td>1000</td>\n",
       "    </tr>\n",
       "    <tr>\n",
       "      <td>1</td>\n",
       "      <td>1000_1</td>\n",
       "      <td>2018-10-08</td>\n",
       "      <td>1000</td>\n",
       "    </tr>\n",
       "    <tr>\n",
       "      <td>2</td>\n",
       "      <td>1000_2</td>\n",
       "      <td>2018-08-04</td>\n",
       "      <td>1000</td>\n",
       "    </tr>\n",
       "    <tr>\n",
       "      <td>3</td>\n",
       "      <td>1000_3</td>\n",
       "      <td>2018-06-16</td>\n",
       "      <td>1000</td>\n",
       "    </tr>\n",
       "    <tr>\n",
       "      <td>4</td>\n",
       "      <td>1000_4</td>\n",
       "      <td>2018-12-05</td>\n",
       "      <td>1000</td>\n",
       "    </tr>\n",
       "  </tbody>\n",
       "</table>\n",
       "</div>"
      ],
      "text/plain": [
       "       id message_date  user_id\n",
       "0  1000_0   2018-06-27     1000\n",
       "1  1000_1   2018-10-08     1000\n",
       "2  1000_2   2018-08-04     1000\n",
       "3  1000_3   2018-06-16     1000\n",
       "4  1000_4   2018-12-05     1000"
      ]
     },
     "execution_count": 7,
     "metadata": {},
     "output_type": "execute_result"
    }
   ],
   "source": [
    "messages.head()"
   ]
  },
  {
   "cell_type": "code",
   "execution_count": 8,
   "metadata": {},
   "outputs": [
    {
     "name": "stdout",
     "output_type": "stream",
     "text": [
      "<class 'pandas.core.frame.DataFrame'>\n",
      "RangeIndex: 123036 entries, 0 to 123035\n",
      "Data columns (total 3 columns):\n",
      "id              123036 non-null object\n",
      "message_date    123036 non-null object\n",
      "user_id         123036 non-null int64\n",
      "dtypes: int64(1), object(2)\n",
      "memory usage: 2.8+ MB\n"
     ]
    }
   ],
   "source": [
    "messages.info()"
   ]
  },
  {
   "cell_type": "code",
   "execution_count": 9,
   "metadata": {},
   "outputs": [
    {
     "data": {
      "text/html": [
       "<div>\n",
       "<style scoped>\n",
       "    .dataframe tbody tr th:only-of-type {\n",
       "        vertical-align: middle;\n",
       "    }\n",
       "\n",
       "    .dataframe tbody tr th {\n",
       "        vertical-align: top;\n",
       "    }\n",
       "\n",
       "    .dataframe thead th {\n",
       "        text-align: right;\n",
       "    }\n",
       "</style>\n",
       "<table border=\"1\" class=\"dataframe\">\n",
       "  <thead>\n",
       "    <tr style=\"text-align: right;\">\n",
       "      <th></th>\n",
       "      <th>messages_included</th>\n",
       "      <th>mb_per_month_included</th>\n",
       "      <th>minutes_included</th>\n",
       "      <th>rub_monthly_fee</th>\n",
       "      <th>rub_per_gb</th>\n",
       "      <th>rub_per_message</th>\n",
       "      <th>rub_per_minute</th>\n",
       "      <th>tariff_name</th>\n",
       "    </tr>\n",
       "  </thead>\n",
       "  <tbody>\n",
       "    <tr>\n",
       "      <td>0</td>\n",
       "      <td>50</td>\n",
       "      <td>15360</td>\n",
       "      <td>500</td>\n",
       "      <td>550</td>\n",
       "      <td>200</td>\n",
       "      <td>3</td>\n",
       "      <td>3</td>\n",
       "      <td>smart</td>\n",
       "    </tr>\n",
       "    <tr>\n",
       "      <td>1</td>\n",
       "      <td>1000</td>\n",
       "      <td>30720</td>\n",
       "      <td>3000</td>\n",
       "      <td>1950</td>\n",
       "      <td>150</td>\n",
       "      <td>1</td>\n",
       "      <td>1</td>\n",
       "      <td>ultra</td>\n",
       "    </tr>\n",
       "  </tbody>\n",
       "</table>\n",
       "</div>"
      ],
      "text/plain": [
       "   messages_included  mb_per_month_included  minutes_included  \\\n",
       "0                 50                  15360               500   \n",
       "1               1000                  30720              3000   \n",
       "\n",
       "   rub_monthly_fee  rub_per_gb  rub_per_message  rub_per_minute tariff_name  \n",
       "0              550         200                3               3       smart  \n",
       "1             1950         150                1               1       ultra  "
      ]
     },
     "execution_count": 9,
     "metadata": {},
     "output_type": "execute_result"
    }
   ],
   "source": [
    "tariffs"
   ]
  },
  {
   "cell_type": "code",
   "execution_count": 10,
   "metadata": {},
   "outputs": [
    {
     "data": {
      "text/html": [
       "<div>\n",
       "<style scoped>\n",
       "    .dataframe tbody tr th:only-of-type {\n",
       "        vertical-align: middle;\n",
       "    }\n",
       "\n",
       "    .dataframe tbody tr th {\n",
       "        vertical-align: top;\n",
       "    }\n",
       "\n",
       "    .dataframe thead th {\n",
       "        text-align: right;\n",
       "    }\n",
       "</style>\n",
       "<table border=\"1\" class=\"dataframe\">\n",
       "  <thead>\n",
       "    <tr style=\"text-align: right;\">\n",
       "      <th></th>\n",
       "      <th>user_id</th>\n",
       "      <th>age</th>\n",
       "      <th>churn_date</th>\n",
       "      <th>city</th>\n",
       "      <th>first_name</th>\n",
       "      <th>last_name</th>\n",
       "      <th>reg_date</th>\n",
       "      <th>tariff</th>\n",
       "    </tr>\n",
       "  </thead>\n",
       "  <tbody>\n",
       "    <tr>\n",
       "      <td>0</td>\n",
       "      <td>1000</td>\n",
       "      <td>52</td>\n",
       "      <td>NaN</td>\n",
       "      <td>Краснодар</td>\n",
       "      <td>Рафаил</td>\n",
       "      <td>Верещагин</td>\n",
       "      <td>2018-05-25</td>\n",
       "      <td>ultra</td>\n",
       "    </tr>\n",
       "    <tr>\n",
       "      <td>1</td>\n",
       "      <td>1001</td>\n",
       "      <td>41</td>\n",
       "      <td>NaN</td>\n",
       "      <td>Москва</td>\n",
       "      <td>Иван</td>\n",
       "      <td>Ежов</td>\n",
       "      <td>2018-11-01</td>\n",
       "      <td>smart</td>\n",
       "    </tr>\n",
       "    <tr>\n",
       "      <td>2</td>\n",
       "      <td>1002</td>\n",
       "      <td>59</td>\n",
       "      <td>NaN</td>\n",
       "      <td>Стерлитамак</td>\n",
       "      <td>Евгений</td>\n",
       "      <td>Абрамович</td>\n",
       "      <td>2018-06-17</td>\n",
       "      <td>smart</td>\n",
       "    </tr>\n",
       "    <tr>\n",
       "      <td>3</td>\n",
       "      <td>1003</td>\n",
       "      <td>23</td>\n",
       "      <td>NaN</td>\n",
       "      <td>Москва</td>\n",
       "      <td>Белла</td>\n",
       "      <td>Белякова</td>\n",
       "      <td>2018-08-17</td>\n",
       "      <td>ultra</td>\n",
       "    </tr>\n",
       "    <tr>\n",
       "      <td>4</td>\n",
       "      <td>1004</td>\n",
       "      <td>68</td>\n",
       "      <td>NaN</td>\n",
       "      <td>Новокузнецк</td>\n",
       "      <td>Татьяна</td>\n",
       "      <td>Авдеенко</td>\n",
       "      <td>2018-05-14</td>\n",
       "      <td>ultra</td>\n",
       "    </tr>\n",
       "  </tbody>\n",
       "</table>\n",
       "</div>"
      ],
      "text/plain": [
       "   user_id  age churn_date         city first_name  last_name    reg_date  \\\n",
       "0     1000   52        NaN    Краснодар     Рафаил  Верещагин  2018-05-25   \n",
       "1     1001   41        NaN       Москва       Иван       Ежов  2018-11-01   \n",
       "2     1002   59        NaN  Стерлитамак    Евгений  Абрамович  2018-06-17   \n",
       "3     1003   23        NaN       Москва      Белла   Белякова  2018-08-17   \n",
       "4     1004   68        NaN  Новокузнецк    Татьяна   Авдеенко  2018-05-14   \n",
       "\n",
       "  tariff  \n",
       "0  ultra  \n",
       "1  smart  \n",
       "2  smart  \n",
       "3  ultra  \n",
       "4  ultra  "
      ]
     },
     "execution_count": 10,
     "metadata": {},
     "output_type": "execute_result"
    }
   ],
   "source": [
    "users.head()"
   ]
  },
  {
   "cell_type": "code",
   "execution_count": 11,
   "metadata": {},
   "outputs": [
    {
     "name": "stdout",
     "output_type": "stream",
     "text": [
      "<class 'pandas.core.frame.DataFrame'>\n",
      "RangeIndex: 500 entries, 0 to 499\n",
      "Data columns (total 8 columns):\n",
      "user_id       500 non-null int64\n",
      "age           500 non-null int64\n",
      "churn_date    38 non-null object\n",
      "city          500 non-null object\n",
      "first_name    500 non-null object\n",
      "last_name     500 non-null object\n",
      "reg_date      500 non-null object\n",
      "tariff        500 non-null object\n",
      "dtypes: int64(2), object(6)\n",
      "memory usage: 31.4+ KB\n"
     ]
    }
   ],
   "source": [
    "users.info()"
   ]
  },
  {
   "cell_type": "markdown",
   "metadata": {},
   "source": [
    "#### Вывод\n",
    "Пропуски обнаружены только в таблице `users`, колонке `churn_date`. Пропуски в этой колонке означают продолжение использования тарифа.  \n",
    "Неверные типы имеют столбцы с датами."
   ]
  },
  {
   "cell_type": "markdown",
   "metadata": {},
   "source": [
    "### Шаг 2. Подготовка данных\n",
    "<a id = 'preparation'></a>"
   ]
  },
  {
   "cell_type": "markdown",
   "metadata": {},
   "source": [
    "Изменим тип столбцов с датами с object на datetime"
   ]
  },
  {
   "cell_type": "code",
   "execution_count": 12,
   "metadata": {},
   "outputs": [],
   "source": [
    "calls['call_date'] = pd.to_datetime(calls['call_date'])\n",
    "internet['session_date'] = pd.to_datetime(internet['session_date'])\n",
    "messages['message_date'] = pd.to_datetime(messages['message_date'])\n",
    "users['reg_date'] = pd.to_datetime(users['reg_date'])\n",
    "users['churn_date'] = pd.to_datetime(users['churn_date'])"
   ]
  },
  {
   "cell_type": "markdown",
   "metadata": {},
   "source": [
    "Приведем значения текстовых столбцов таблицы `users` к нижнему регистру."
   ]
  },
  {
   "cell_type": "code",
   "execution_count": 13,
   "metadata": {},
   "outputs": [],
   "source": [
    "users['city'] = users['city'].str.lower()\n",
    "users['first_name'] = users['first_name'].str.lower()\n",
    "users['last_name'] = users['last_name'].str.lower()\n",
    "users['tariff'] = users['tariff'].str.lower()"
   ]
  },
  {
   "cell_type": "code",
   "execution_count": 14,
   "metadata": {},
   "outputs": [
    {
     "data": {
      "image/png": "[encoded data removed]",
      "text/plain": [
       "<Figure size 432x288 with 1 Axes>"
      ]
     },
     "metadata": {
      "needs_background": "light"
     },
     "output_type": "display_data"
    }
   ],
   "source": [
    "calls['duration'].hist(bins = 40)\n",
    "plt.title('Гистограмма распределения длительности звонка')\n",
    "plt.xlabel('Число минут')\n",
    "plt.ylabel('Количество звонков')\n",
    "plt.show()"
   ]
  },
  {
   "cell_type": "code",
   "execution_count": 15,
   "metadata": {},
   "outputs": [
    {
     "data": {
      "text/plain": [
       "0.19551644316336553"
      ]
     },
     "execution_count": 15,
     "metadata": {},
     "output_type": "execute_result"
    }
   ],
   "source": [
    "len(calls[calls['duration']==0])/len(calls['duration'])"
   ]
  },
  {
   "cell_type": "code",
   "execution_count": 16,
   "metadata": {},
   "outputs": [],
   "source": [
    "calls = calls.query('duration!=0')"
   ]
  },
  {
   "cell_type": "markdown",
   "metadata": {},
   "source": [
    "#### Вывод\n",
    "Столбец `duration` содержит множество нулей, такие значения составляют 20%, это пользователи, которые не дозвонились. Мы удалили эти значения, чтобы получить впоследствии точнее среднее значение и не учитывать такие звонки в общем числе звонков.\n",
    "Заполнить столбец мы `churn_date` мы не можем, отсутствие значения в этом стоблце показывает, что тарифом еще пользуются.\n"
   ]
  },
  {
   "cell_type": "code",
   "execution_count": 17,
   "metadata": {},
   "outputs": [
    {
     "data": {
      "text/plain": [
       "0.13118155773916304"
      ]
     },
     "execution_count": 17,
     "metadata": {},
     "output_type": "execute_result"
    }
   ],
   "source": [
    "len(internet[internet['mb_used']==0])/len(internet)"
   ]
  },
  {
   "cell_type": "code",
   "execution_count": 18,
   "metadata": {},
   "outputs": [],
   "source": [
    "internet = internet.query('mb_used!=0')"
   ]
  },
  {
   "cell_type": "markdown",
   "metadata": {},
   "source": [
    "Обнаружены значения использованных Мб 0 на сессию. Похоже, что это сбои сети и в эти сессии не был использован трафик. Таких значений немного, удалим их."
   ]
  },
  {
   "cell_type": "code",
   "execution_count": 19,
   "metadata": {},
   "outputs": [],
   "source": [
    "calls['duration'] = np.ceil(calls['duration']).astype(int)"
   ]
  },
  {
   "cell_type": "code",
   "execution_count": 20,
   "metadata": {},
   "outputs": [],
   "source": [
    "internet['mb_used'] = np.ceil(internet['mb_used'])"
   ]
  },
  {
   "cell_type": "markdown",
   "metadata": {},
   "source": [
    "### Добавление новых данных\n",
    "<a id = 'feature'></a>"
   ]
  },
  {
   "cell_type": "markdown",
   "metadata": {},
   "source": [
    "Посчитаем количество сделанных звонков и израсходованных минут разговора по месяцам"
   ]
  },
  {
   "cell_type": "code",
   "execution_count": 21,
   "metadata": {},
   "outputs": [],
   "source": [
    "calls['month'] = calls['call_date'].dt.month"
   ]
  },
  {
   "cell_type": "code",
   "execution_count": 22,
   "metadata": {},
   "outputs": [],
   "source": [
    "df = calls.groupby(['user_id','month']).sum()\n",
    "count_call = calls.groupby(['user_id','month'])['id'].count()\n",
    "df_call = df.join(count_call, how = 'outer', on = ['user_id','month'])"
   ]
  },
  {
   "cell_type": "code",
   "execution_count": 23,
   "metadata": {},
   "outputs": [],
   "source": [
    "df_call.columns = ['sum_minutes', 'count_calls']"
   ]
  },
  {
   "cell_type": "code",
   "execution_count": 24,
   "metadata": {},
   "outputs": [],
   "source": [
    "df_call = df_call.reset_index()"
   ]
  },
  {
   "cell_type": "markdown",
   "metadata": {},
   "source": [
    "Посчитаем количество отправленных сообщений по месяцам"
   ]
  },
  {
   "cell_type": "code",
   "execution_count": 25,
   "metadata": {},
   "outputs": [],
   "source": [
    "messages['month'] = messages['message_date'].dt.month"
   ]
  },
  {
   "cell_type": "code",
   "execution_count": 26,
   "metadata": {},
   "outputs": [],
   "source": [
    "df_message = messages.groupby(['user_id','month'])['id'].count()\n",
    "df_message = df_message.reset_index()\n",
    "df_message.columns = ['user_id', 'month', 'count_message']"
   ]
  },
  {
   "cell_type": "markdown",
   "metadata": {},
   "source": [
    "Посчитаем объем израсходованного интернет-трафика по месяцам"
   ]
  },
  {
   "cell_type": "code",
   "execution_count": 27,
   "metadata": {},
   "outputs": [],
   "source": [
    "internet['month'] = internet['session_date'].dt.month\n",
    "internet = internet.drop(['Unnamed: 0'], axis = 1)\n",
    "df_internet = internet.groupby(['user_id','month']).sum()\n",
    "df_internet.columns = ['sum_internet']\n",
    "df_internet = df_internet.reset_index()"
   ]
  },
  {
   "cell_type": "code",
   "execution_count": 28,
   "metadata": {},
   "outputs": [],
   "source": [
    "df_internet['sum_internet'] = df_internet['sum_internet'] / 1024"
   ]
  },
  {
   "cell_type": "markdown",
   "metadata": {},
   "source": [
    "Объединим таблицы"
   ]
  },
  {
   "cell_type": "code",
   "execution_count": 29,
   "metadata": {},
   "outputs": [],
   "source": [
    "data = df_call.merge(df_message, on = ['user_id', 'month'],  how = 'outer')\n",
    "data = data.merge(df_internet, on = ['user_id', 'month'],  how = 'outer')\n",
    "data = data.merge(users, on = ['user_id'], how = 'outer')"
   ]
  },
  {
   "cell_type": "markdown",
   "metadata": {},
   "source": [
    "Нашли людей, подключившихся и не воспользовавшись тарифом отключившихся, удалим их"
   ]
  },
  {
   "cell_type": "code",
   "execution_count": 30,
   "metadata": {},
   "outputs": [],
   "source": [
    "data = data.drop(data[data['month'].isna()].index,axis = 0)"
   ]
  },
  {
   "cell_type": "markdown",
   "metadata": {},
   "source": [
    "Столбцы sum_minutes, count_calls, count_message, sum_internet содержат пропуски. Их мы получили при объединении таблиц. Nan в этих колонках означает, что минуты, Гб или сообщения не использовались. Заменим эти значения на 0."
   ]
  },
  {
   "cell_type": "code",
   "execution_count": 31,
   "metadata": {},
   "outputs": [],
   "source": [
    "data = data.fillna(0)\n",
    "data['month'] = data['month'].astype(int)\n",
    "data['count_calls'] = data['count_calls'].astype(int)\n",
    "data['count_message'] = data['count_message'].astype(int)\n",
    "data['sum_minutes'] = data['sum_minutes'].astype(int)"
   ]
  },
  {
   "cell_type": "code",
   "execution_count": 32,
   "metadata": {},
   "outputs": [
    {
     "data": {
      "text/html": [
       "<div>\n",
       "<style scoped>\n",
       "    .dataframe tbody tr th:only-of-type {\n",
       "        vertical-align: middle;\n",
       "    }\n",
       "\n",
       "    .dataframe tbody tr th {\n",
       "        vertical-align: top;\n",
       "    }\n",
       "\n",
       "    .dataframe thead th {\n",
       "        text-align: right;\n",
       "    }\n",
       "</style>\n",
       "<table border=\"1\" class=\"dataframe\">\n",
       "  <thead>\n",
       "    <tr style=\"text-align: right;\">\n",
       "      <th></th>\n",
       "      <th>user_id</th>\n",
       "      <th>month</th>\n",
       "      <th>sum_minutes</th>\n",
       "      <th>count_calls</th>\n",
       "      <th>count_message</th>\n",
       "      <th>sum_internet</th>\n",
       "      <th>age</th>\n",
       "      <th>churn_date</th>\n",
       "      <th>city</th>\n",
       "      <th>first_name</th>\n",
       "      <th>last_name</th>\n",
       "      <th>reg_date</th>\n",
       "      <th>tariff</th>\n",
       "    </tr>\n",
       "  </thead>\n",
       "  <tbody>\n",
       "    <tr>\n",
       "      <td>0</td>\n",
       "      <td>1000</td>\n",
       "      <td>5</td>\n",
       "      <td>159</td>\n",
       "      <td>17</td>\n",
       "      <td>22</td>\n",
       "      <td>2.203125</td>\n",
       "      <td>52</td>\n",
       "      <td>0</td>\n",
       "      <td>краснодар</td>\n",
       "      <td>рафаил</td>\n",
       "      <td>верещагин</td>\n",
       "      <td>2018-05-25</td>\n",
       "      <td>ultra</td>\n",
       "    </tr>\n",
       "    <tr>\n",
       "      <td>1</td>\n",
       "      <td>1000</td>\n",
       "      <td>6</td>\n",
       "      <td>172</td>\n",
       "      <td>28</td>\n",
       "      <td>60</td>\n",
       "      <td>22.711914</td>\n",
       "      <td>52</td>\n",
       "      <td>0</td>\n",
       "      <td>краснодар</td>\n",
       "      <td>рафаил</td>\n",
       "      <td>верещагин</td>\n",
       "      <td>2018-05-25</td>\n",
       "      <td>ultra</td>\n",
       "    </tr>\n",
       "    <tr>\n",
       "      <td>2</td>\n",
       "      <td>1000</td>\n",
       "      <td>7</td>\n",
       "      <td>340</td>\n",
       "      <td>41</td>\n",
       "      <td>75</td>\n",
       "      <td>13.687500</td>\n",
       "      <td>52</td>\n",
       "      <td>0</td>\n",
       "      <td>краснодар</td>\n",
       "      <td>рафаил</td>\n",
       "      <td>верещагин</td>\n",
       "      <td>2018-05-25</td>\n",
       "      <td>ultra</td>\n",
       "    </tr>\n",
       "    <tr>\n",
       "      <td>3</td>\n",
       "      <td>1000</td>\n",
       "      <td>8</td>\n",
       "      <td>408</td>\n",
       "      <td>42</td>\n",
       "      <td>81</td>\n",
       "      <td>13.740234</td>\n",
       "      <td>52</td>\n",
       "      <td>0</td>\n",
       "      <td>краснодар</td>\n",
       "      <td>рафаил</td>\n",
       "      <td>верещагин</td>\n",
       "      <td>2018-05-25</td>\n",
       "      <td>ultra</td>\n",
       "    </tr>\n",
       "    <tr>\n",
       "      <td>4</td>\n",
       "      <td>1000</td>\n",
       "      <td>9</td>\n",
       "      <td>466</td>\n",
       "      <td>46</td>\n",
       "      <td>57</td>\n",
       "      <td>14.239258</td>\n",
       "      <td>52</td>\n",
       "      <td>0</td>\n",
       "      <td>краснодар</td>\n",
       "      <td>рафаил</td>\n",
       "      <td>верещагин</td>\n",
       "      <td>2018-05-25</td>\n",
       "      <td>ultra</td>\n",
       "    </tr>\n",
       "    <tr>\n",
       "      <td>5</td>\n",
       "      <td>1000</td>\n",
       "      <td>10</td>\n",
       "      <td>350</td>\n",
       "      <td>44</td>\n",
       "      <td>73</td>\n",
       "      <td>14.372070</td>\n",
       "      <td>52</td>\n",
       "      <td>0</td>\n",
       "      <td>краснодар</td>\n",
       "      <td>рафаил</td>\n",
       "      <td>верещагин</td>\n",
       "      <td>2018-05-25</td>\n",
       "      <td>ultra</td>\n",
       "    </tr>\n",
       "    <tr>\n",
       "      <td>6</td>\n",
       "      <td>1000</td>\n",
       "      <td>11</td>\n",
       "      <td>338</td>\n",
       "      <td>37</td>\n",
       "      <td>58</td>\n",
       "      <td>14.421875</td>\n",
       "      <td>52</td>\n",
       "      <td>0</td>\n",
       "      <td>краснодар</td>\n",
       "      <td>рафаил</td>\n",
       "      <td>верещагин</td>\n",
       "      <td>2018-05-25</td>\n",
       "      <td>ultra</td>\n",
       "    </tr>\n",
       "    <tr>\n",
       "      <td>7</td>\n",
       "      <td>1000</td>\n",
       "      <td>12</td>\n",
       "      <td>333</td>\n",
       "      <td>38</td>\n",
       "      <td>70</td>\n",
       "      <td>9.596680</td>\n",
       "      <td>52</td>\n",
       "      <td>0</td>\n",
       "      <td>краснодар</td>\n",
       "      <td>рафаил</td>\n",
       "      <td>верещагин</td>\n",
       "      <td>2018-05-25</td>\n",
       "      <td>ultra</td>\n",
       "    </tr>\n",
       "    <tr>\n",
       "      <td>8</td>\n",
       "      <td>1001</td>\n",
       "      <td>11</td>\n",
       "      <td>430</td>\n",
       "      <td>45</td>\n",
       "      <td>0</td>\n",
       "      <td>18.019531</td>\n",
       "      <td>41</td>\n",
       "      <td>0</td>\n",
       "      <td>москва</td>\n",
       "      <td>иван</td>\n",
       "      <td>ежов</td>\n",
       "      <td>2018-11-01</td>\n",
       "      <td>smart</td>\n",
       "    </tr>\n",
       "    <tr>\n",
       "      <td>9</td>\n",
       "      <td>1001</td>\n",
       "      <td>12</td>\n",
       "      <td>414</td>\n",
       "      <td>47</td>\n",
       "      <td>0</td>\n",
       "      <td>13.723633</td>\n",
       "      <td>41</td>\n",
       "      <td>0</td>\n",
       "      <td>москва</td>\n",
       "      <td>иван</td>\n",
       "      <td>ежов</td>\n",
       "      <td>2018-11-01</td>\n",
       "      <td>smart</td>\n",
       "    </tr>\n",
       "  </tbody>\n",
       "</table>\n",
       "</div>"
      ],
      "text/plain": [
       "   user_id  month  sum_minutes  count_calls  count_message  sum_internet  age  \\\n",
       "0     1000      5          159           17             22      2.203125   52   \n",
       "1     1000      6          172           28             60     22.711914   52   \n",
       "2     1000      7          340           41             75     13.687500   52   \n",
       "3     1000      8          408           42             81     13.740234   52   \n",
       "4     1000      9          466           46             57     14.239258   52   \n",
       "5     1000     10          350           44             73     14.372070   52   \n",
       "6     1000     11          338           37             58     14.421875   52   \n",
       "7     1000     12          333           38             70      9.596680   52   \n",
       "8     1001     11          430           45              0     18.019531   41   \n",
       "9     1001     12          414           47              0     13.723633   41   \n",
       "\n",
       "  churn_date       city first_name  last_name   reg_date tariff  \n",
       "0          0  краснодар     рафаил  верещагин 2018-05-25  ultra  \n",
       "1          0  краснодар     рафаил  верещагин 2018-05-25  ultra  \n",
       "2          0  краснодар     рафаил  верещагин 2018-05-25  ultra  \n",
       "3          0  краснодар     рафаил  верещагин 2018-05-25  ultra  \n",
       "4          0  краснодар     рафаил  верещагин 2018-05-25  ultra  \n",
       "5          0  краснодар     рафаил  верещагин 2018-05-25  ultra  \n",
       "6          0  краснодар     рафаил  верещагин 2018-05-25  ultra  \n",
       "7          0  краснодар     рафаил  верещагин 2018-05-25  ultra  \n",
       "8          0     москва       иван       ежов 2018-11-01  smart  \n",
       "9          0     москва       иван       ежов 2018-11-01  smart  "
      ]
     },
     "execution_count": 32,
     "metadata": {},
     "output_type": "execute_result"
    }
   ],
   "source": [
    "data.head(10)"
   ]
  },
  {
   "cell_type": "markdown",
   "metadata": {},
   "source": [
    "Посчитаем помесячную выручку каждого с пользователя "
   ]
  },
  {
   "cell_type": "code",
   "execution_count": 33,
   "metadata": {},
   "outputs": [],
   "source": [
    "tariffs.index = ['smart','ultra']\n",
    "dict_tariffs =  tariffs.to_dict()"
   ]
  },
  {
   "cell_type": "code",
   "execution_count": 34,
   "metadata": {},
   "outputs": [],
   "source": [
    "def revenue_month_user(row):\n",
    "    tarif_name = row['tariff']\n",
    "    unpaid_minutes = row['sum_minutes'] - dict_tariffs['minutes_included'][tarif_name] \n",
    "    unpaid_message = row['count_message'] - dict_tariffs['messages_included'][tarif_name]\n",
    "    unpaid_internet = row['sum_internet'] - dict_tariffs['mb_per_month_included'][tarif_name] / 1024\n",
    "    addFee_minutes, addFee_message, addFee_internet = 0,0,0\n",
    "    if unpaid_minutes > 0:\n",
    "        addFee_minutes = unpaid_minutes * dict_tariffs['rub_per_minute'][tarif_name]\n",
    "    if unpaid_message > 0:\n",
    "        addFee_message = unpaid_message * dict_tariffs['rub_per_message'][tarif_name]\n",
    "    if unpaid_internet > 0:\n",
    "        addFee_internet = unpaid_internet * dict_tariffs['rub_per_gb'][tarif_name]\n",
    "    revenue = addFee_minutes + addFee_message + addFee_internet + dict_tariffs['rub_monthly_fee'][tarif_name]\n",
    "    return revenue"
   ]
  },
  {
   "cell_type": "code",
   "execution_count": 35,
   "metadata": {},
   "outputs": [],
   "source": [
    "data['revenue'] = data.apply(revenue_month_user, axis = 1).astype(int)"
   ]
  },
  {
   "cell_type": "code",
   "execution_count": 36,
   "metadata": {},
   "outputs": [
    {
     "data": {
      "text/html": [
       "<div>\n",
       "<style scoped>\n",
       "    .dataframe tbody tr th:only-of-type {\n",
       "        vertical-align: middle;\n",
       "    }\n",
       "\n",
       "    .dataframe tbody tr th {\n",
       "        vertical-align: top;\n",
       "    }\n",
       "\n",
       "    .dataframe thead th {\n",
       "        text-align: right;\n",
       "    }\n",
       "</style>\n",
       "<table border=\"1\" class=\"dataframe\">\n",
       "  <thead>\n",
       "    <tr style=\"text-align: right;\">\n",
       "      <th></th>\n",
       "      <th>user_id</th>\n",
       "      <th>month</th>\n",
       "      <th>sum_minutes</th>\n",
       "      <th>count_calls</th>\n",
       "      <th>count_message</th>\n",
       "      <th>sum_internet</th>\n",
       "      <th>age</th>\n",
       "      <th>churn_date</th>\n",
       "      <th>city</th>\n",
       "      <th>first_name</th>\n",
       "      <th>last_name</th>\n",
       "      <th>reg_date</th>\n",
       "      <th>tariff</th>\n",
       "      <th>revenue</th>\n",
       "    </tr>\n",
       "  </thead>\n",
       "  <tbody>\n",
       "    <tr>\n",
       "      <td>0</td>\n",
       "      <td>1000</td>\n",
       "      <td>5</td>\n",
       "      <td>159</td>\n",
       "      <td>17</td>\n",
       "      <td>22</td>\n",
       "      <td>2.203125</td>\n",
       "      <td>52</td>\n",
       "      <td>0</td>\n",
       "      <td>краснодар</td>\n",
       "      <td>рафаил</td>\n",
       "      <td>верещагин</td>\n",
       "      <td>2018-05-25</td>\n",
       "      <td>ultra</td>\n",
       "      <td>1950</td>\n",
       "    </tr>\n",
       "    <tr>\n",
       "      <td>1</td>\n",
       "      <td>1000</td>\n",
       "      <td>6</td>\n",
       "      <td>172</td>\n",
       "      <td>28</td>\n",
       "      <td>60</td>\n",
       "      <td>22.711914</td>\n",
       "      <td>52</td>\n",
       "      <td>0</td>\n",
       "      <td>краснодар</td>\n",
       "      <td>рафаил</td>\n",
       "      <td>верещагин</td>\n",
       "      <td>2018-05-25</td>\n",
       "      <td>ultra</td>\n",
       "      <td>1950</td>\n",
       "    </tr>\n",
       "    <tr>\n",
       "      <td>2</td>\n",
       "      <td>1000</td>\n",
       "      <td>7</td>\n",
       "      <td>340</td>\n",
       "      <td>41</td>\n",
       "      <td>75</td>\n",
       "      <td>13.687500</td>\n",
       "      <td>52</td>\n",
       "      <td>0</td>\n",
       "      <td>краснодар</td>\n",
       "      <td>рафаил</td>\n",
       "      <td>верещагин</td>\n",
       "      <td>2018-05-25</td>\n",
       "      <td>ultra</td>\n",
       "      <td>1950</td>\n",
       "    </tr>\n",
       "    <tr>\n",
       "      <td>3</td>\n",
       "      <td>1000</td>\n",
       "      <td>8</td>\n",
       "      <td>408</td>\n",
       "      <td>42</td>\n",
       "      <td>81</td>\n",
       "      <td>13.740234</td>\n",
       "      <td>52</td>\n",
       "      <td>0</td>\n",
       "      <td>краснодар</td>\n",
       "      <td>рафаил</td>\n",
       "      <td>верещагин</td>\n",
       "      <td>2018-05-25</td>\n",
       "      <td>ultra</td>\n",
       "      <td>1950</td>\n",
       "    </tr>\n",
       "    <tr>\n",
       "      <td>4</td>\n",
       "      <td>1000</td>\n",
       "      <td>9</td>\n",
       "      <td>466</td>\n",
       "      <td>46</td>\n",
       "      <td>57</td>\n",
       "      <td>14.239258</td>\n",
       "      <td>52</td>\n",
       "      <td>0</td>\n",
       "      <td>краснодар</td>\n",
       "      <td>рафаил</td>\n",
       "      <td>верещагин</td>\n",
       "      <td>2018-05-25</td>\n",
       "      <td>ultra</td>\n",
       "      <td>1950</td>\n",
       "    </tr>\n",
       "    <tr>\n",
       "      <td>5</td>\n",
       "      <td>1000</td>\n",
       "      <td>10</td>\n",
       "      <td>350</td>\n",
       "      <td>44</td>\n",
       "      <td>73</td>\n",
       "      <td>14.372070</td>\n",
       "      <td>52</td>\n",
       "      <td>0</td>\n",
       "      <td>краснодар</td>\n",
       "      <td>рафаил</td>\n",
       "      <td>верещагин</td>\n",
       "      <td>2018-05-25</td>\n",
       "      <td>ultra</td>\n",
       "      <td>1950</td>\n",
       "    </tr>\n",
       "    <tr>\n",
       "      <td>6</td>\n",
       "      <td>1000</td>\n",
       "      <td>11</td>\n",
       "      <td>338</td>\n",
       "      <td>37</td>\n",
       "      <td>58</td>\n",
       "      <td>14.421875</td>\n",
       "      <td>52</td>\n",
       "      <td>0</td>\n",
       "      <td>краснодар</td>\n",
       "      <td>рафаил</td>\n",
       "      <td>верещагин</td>\n",
       "      <td>2018-05-25</td>\n",
       "      <td>ultra</td>\n",
       "      <td>1950</td>\n",
       "    </tr>\n",
       "    <tr>\n",
       "      <td>7</td>\n",
       "      <td>1000</td>\n",
       "      <td>12</td>\n",
       "      <td>333</td>\n",
       "      <td>38</td>\n",
       "      <td>70</td>\n",
       "      <td>9.596680</td>\n",
       "      <td>52</td>\n",
       "      <td>0</td>\n",
       "      <td>краснодар</td>\n",
       "      <td>рафаил</td>\n",
       "      <td>верещагин</td>\n",
       "      <td>2018-05-25</td>\n",
       "      <td>ultra</td>\n",
       "      <td>1950</td>\n",
       "    </tr>\n",
       "    <tr>\n",
       "      <td>8</td>\n",
       "      <td>1001</td>\n",
       "      <td>11</td>\n",
       "      <td>430</td>\n",
       "      <td>45</td>\n",
       "      <td>0</td>\n",
       "      <td>18.019531</td>\n",
       "      <td>41</td>\n",
       "      <td>0</td>\n",
       "      <td>москва</td>\n",
       "      <td>иван</td>\n",
       "      <td>ежов</td>\n",
       "      <td>2018-11-01</td>\n",
       "      <td>smart</td>\n",
       "      <td>1153</td>\n",
       "    </tr>\n",
       "    <tr>\n",
       "      <td>9</td>\n",
       "      <td>1001</td>\n",
       "      <td>12</td>\n",
       "      <td>414</td>\n",
       "      <td>47</td>\n",
       "      <td>0</td>\n",
       "      <td>13.723633</td>\n",
       "      <td>41</td>\n",
       "      <td>0</td>\n",
       "      <td>москва</td>\n",
       "      <td>иван</td>\n",
       "      <td>ежов</td>\n",
       "      <td>2018-11-01</td>\n",
       "      <td>smart</td>\n",
       "      <td>550</td>\n",
       "    </tr>\n",
       "  </tbody>\n",
       "</table>\n",
       "</div>"
      ],
      "text/plain": [
       "   user_id  month  sum_minutes  count_calls  count_message  sum_internet  age  \\\n",
       "0     1000      5          159           17             22      2.203125   52   \n",
       "1     1000      6          172           28             60     22.711914   52   \n",
       "2     1000      7          340           41             75     13.687500   52   \n",
       "3     1000      8          408           42             81     13.740234   52   \n",
       "4     1000      9          466           46             57     14.239258   52   \n",
       "5     1000     10          350           44             73     14.372070   52   \n",
       "6     1000     11          338           37             58     14.421875   52   \n",
       "7     1000     12          333           38             70      9.596680   52   \n",
       "8     1001     11          430           45              0     18.019531   41   \n",
       "9     1001     12          414           47              0     13.723633   41   \n",
       "\n",
       "  churn_date       city first_name  last_name   reg_date tariff  revenue  \n",
       "0          0  краснодар     рафаил  верещагин 2018-05-25  ultra     1950  \n",
       "1          0  краснодар     рафаил  верещагин 2018-05-25  ultra     1950  \n",
       "2          0  краснодар     рафаил  верещагин 2018-05-25  ultra     1950  \n",
       "3          0  краснодар     рафаил  верещагин 2018-05-25  ultra     1950  \n",
       "4          0  краснодар     рафаил  верещагин 2018-05-25  ultra     1950  \n",
       "5          0  краснодар     рафаил  верещагин 2018-05-25  ultra     1950  \n",
       "6          0  краснодар     рафаил  верещагин 2018-05-25  ultra     1950  \n",
       "7          0  краснодар     рафаил  верещагин 2018-05-25  ultra     1950  \n",
       "8          0     москва       иван       ежов 2018-11-01  smart     1153  \n",
       "9          0     москва       иван       ежов 2018-11-01  smart      550  "
      ]
     },
     "execution_count": 36,
     "metadata": {},
     "output_type": "execute_result"
    }
   ],
   "source": [
    "data.head(10)"
   ]
  },
  {
   "cell_type": "code",
   "execution_count": 37,
   "metadata": {},
   "outputs": [],
   "source": [
    "data = data.drop(['age', 'churn_date', 'first_name', 'last_name', 'reg_date'], axis = 1)"
   ]
  },
  {
   "cell_type": "markdown",
   "metadata": {},
   "source": [
    "### Шаг 3. Анализ данных\n",
    "<div id = 'analysis'>"
   ]
  },
  {
   "cell_type": "code",
   "execution_count": 38,
   "metadata": {},
   "outputs": [
    {
     "data": {
      "image/png": "[encoded data removed]",
      "text/plain": [
       "<Figure size 432x288 with 1 Axes>"
      ]
     },
     "metadata": {
      "needs_background": "light"
     },
     "output_type": "display_data"
    }
   ],
   "source": [
    "data.groupby(['tariff'])['revenue'].mean().plot(kind = 'bar')\n",
    "plt.title('Гистограмма распределения средней выручки тарифов')\n",
    "plt.xlabel('Тарифы')\n",
    "plt.ylabel('Рублей в месяц')\n",
    "plt.show()"
   ]
  },
  {
   "cell_type": "code",
   "execution_count": 39,
   "metadata": {},
   "outputs": [
    {
     "data": {
      "image/png": "[encoded data removed]",
      "text/plain": [
       "<Figure size 432x288 with 1 Axes>"
      ]
     },
     "metadata": {
      "needs_background": "light"
     },
     "output_type": "display_data"
    }
   ],
   "source": [
    "data.query('tariff == \"ultra\"').groupby(['month'])['revenue'].mean().plot(kind = 'bar')\n",
    "data.query('tariff == \"smart\"').groupby(['month'])['revenue'].mean().plot(kind = 'bar', color = 'tab:orange')\n",
    "plt.legend(['ultra','smart'], bbox_to_anchor=(1, 0.6))\n",
    "plt.title('Гистограмма распределения средней выручки тарифов')\n",
    "plt.xlabel('Месяцы')\n",
    "plt.ylabel('Рублей в месяц')\n",
    "plt.show()"
   ]
  },
  {
   "cell_type": "markdown",
   "metadata": {},
   "source": [
    "Исследуем среднюю продолжительность звонка в разных тарифах"
   ]
  },
  {
   "cell_type": "code",
   "execution_count": 40,
   "metadata": {},
   "outputs": [
    {
     "data": {
      "text/plain": [
       "tariff\n",
       "smart    8.902175\n",
       "ultra    8.890176\n",
       "dtype: float64"
      ]
     },
     "execution_count": 40,
     "metadata": {},
     "output_type": "execute_result"
    }
   ],
   "source": [
    "data.groupby('tariff')['sum_minutes'].mean() / data.groupby('tariff')['count_calls'].mean()"
   ]
  },
  {
   "cell_type": "code",
   "execution_count": 41,
   "metadata": {},
   "outputs": [
    {
     "data": {
      "image/png": "[encoded data removed]",
      "text/plain": [
       "<Figure size 432x288 with 1 Axes>"
      ]
     },
     "metadata": {
      "needs_background": "light"
     },
     "output_type": "display_data"
    }
   ],
   "source": [
    "data.groupby('tariff')['sum_minutes'].hist(bins = 30)\n",
    "plt.title('Гистограмма распределения потраченных минут')\n",
    "plt.xlabel('Число минут')\n",
    "plt.ylabel('Число пользователей')\n",
    "plt.legend(['smart','ultra'], bbox_to_anchor=(1, 0.6))\n",
    "plt.show()"
   ]
  },
  {
   "cell_type": "code",
   "execution_count": 42,
   "metadata": {},
   "outputs": [],
   "source": [
    "pivot_data = []\n",
    "def interval(name, col):\n",
    "    mean = data.query('tariff == @name')[col].mean()\n",
    "    std = np.std(data.query('tariff == @name')[col])\n",
    "    pivot_data.append([col, name, mean, std, mean-3*std, mean+3*std])\n",
    "    print(mean-3*std, '-', mean+3*std, 'Среднее:', mean)"
   ]
  },
  {
   "cell_type": "code",
   "execution_count": 43,
   "metadata": {},
   "outputs": [
    {
     "name": "stdout",
     "output_type": "stream",
     "text": [
      "Для суммы минут интервал тарифа smart:\n",
      "-152.87815574219866 - 988.7480525569138 Среднее: 417.9349484073576\n",
      "Для суммы минут интервал тарифа ultra:\n",
      "-425.7111563954163 - 1478.9578569030305 Среднее: 526.6233502538071\n"
     ]
    }
   ],
   "source": [
    "print(\"Для суммы минут интервал тарифа smart:\")\n",
    "interval(\"smart\", 'sum_minutes')\n",
    "print(\"Для суммы минут интервал тарифа ultra:\")\n",
    "interval(\"ultra\", 'sum_minutes')"
   ]
  },
  {
   "cell_type": "code",
   "execution_count": 44,
   "metadata": {},
   "outputs": [
    {
     "data": {
      "image/png": "[encoded data removed]",
      "text/plain": [
       "<Figure size 432x288 with 1 Axes>"
      ]
     },
     "metadata": {
      "needs_background": "light"
     },
     "output_type": "display_data"
    }
   ],
   "source": [
    "data.groupby('tariff')['count_message'].hist()\n",
    "plt.title('Гистограмма распределения сообщений')\n",
    "plt.xlabel('Число сообщений')\n",
    "plt.ylabel('Число пользователей')\n",
    "plt.legend(['smart','ultra'], bbox_to_anchor=(1, 0.6))\n",
    "plt.show()"
   ]
  },
  {
   "cell_type": "code",
   "execution_count": 45,
   "metadata": {},
   "outputs": [
    {
     "name": "stdout",
     "output_type": "stream",
     "text": [
      "Для числа сообщений интервал тарифа smart:\n",
      "-51.280599948269725 - 118.04865737312392 Среднее: 33.384028712427096\n",
      "Для числа сообщений интервал тарифа ultra:\n",
      "-93.97710312165506 - 192.70400667495457 Среднее: 49.36345177664975\n"
     ]
    }
   ],
   "source": [
    "print(\"Для числа сообщений интервал тарифа smart:\")\n",
    "interval(\"smart\", 'count_message')\n",
    "print(\"Для числа сообщений интервал тарифа ultra:\")\n",
    "interval(\"ultra\", 'count_message')"
   ]
  },
  {
   "cell_type": "code",
   "execution_count": 46,
   "metadata": {},
   "outputs": [
    {
     "data": {
      "image/png": "[encoded data removed]",
      "text/plain": [
       "<Figure size 432x288 with 1 Axes>"
      ]
     },
     "metadata": {
      "needs_background": "light"
     },
     "output_type": "display_data"
    }
   ],
   "source": [
    "data.groupby('tariff')['sum_internet'].hist()\n",
    "plt.title('Гистограмма распределения Гб интернета')\n",
    "plt.xlabel('Число Гб интернета')\n",
    "plt.ylabel('Число пользователей')\n",
    "plt.legend(['ultra','smart'], bbox_to_anchor=(1, 0.6))\n",
    "plt.show()"
   ]
  },
  {
   "cell_type": "code",
   "execution_count": 47,
   "metadata": {},
   "outputs": [
    {
     "name": "stdout",
     "output_type": "stream",
     "text": [
      "Для Гб интернета интервал тарифа smart:\n",
      "-1.3667839480659012 - 33.06441759123548 Среднее: 15.84881682158479\n",
      "Для Гб интернета интервал тарифа ultra:\n",
      "-10.533858473869515 - 48.594213010671545 Среднее: 19.030177268401015\n"
     ]
    }
   ],
   "source": [
    "print(\"Для Гб интернета интервал тарифа smart:\")\n",
    "interval(\"smart\", 'sum_internet')\n",
    "print(\"Для Гб интернета интервал тарифа ultra:\")\n",
    "interval(\"ultra\", 'sum_internet')"
   ]
  },
  {
   "cell_type": "code",
   "execution_count": 48,
   "metadata": {},
   "outputs": [
    {
     "data": {
      "text/html": [
       "<div>\n",
       "<style scoped>\n",
       "    .dataframe tbody tr th:only-of-type {\n",
       "        vertical-align: middle;\n",
       "    }\n",
       "\n",
       "    .dataframe tbody tr th {\n",
       "        vertical-align: top;\n",
       "    }\n",
       "\n",
       "    .dataframe thead th {\n",
       "        text-align: right;\n",
       "    }\n",
       "</style>\n",
       "<table border=\"1\" class=\"dataframe\">\n",
       "  <thead>\n",
       "    <tr style=\"text-align: right;\">\n",
       "      <th></th>\n",
       "      <th>показатель</th>\n",
       "      <th>тариф</th>\n",
       "      <th>среднее</th>\n",
       "      <th>ст откл</th>\n",
       "      <th>левая гр интервала</th>\n",
       "      <th>правая гр интервала</th>\n",
       "    </tr>\n",
       "  </thead>\n",
       "  <tbody>\n",
       "    <tr>\n",
       "      <td>0</td>\n",
       "      <td>sum_minutes</td>\n",
       "      <td>smart</td>\n",
       "      <td>417.934948</td>\n",
       "      <td>190.271035</td>\n",
       "      <td>-152.878156</td>\n",
       "      <td>988.748053</td>\n",
       "    </tr>\n",
       "    <tr>\n",
       "      <td>1</td>\n",
       "      <td>sum_minutes</td>\n",
       "      <td>ultra</td>\n",
       "      <td>526.623350</td>\n",
       "      <td>317.444836</td>\n",
       "      <td>-425.711156</td>\n",
       "      <td>1478.957857</td>\n",
       "    </tr>\n",
       "    <tr>\n",
       "      <td>2</td>\n",
       "      <td>count_message</td>\n",
       "      <td>smart</td>\n",
       "      <td>33.384029</td>\n",
       "      <td>28.221543</td>\n",
       "      <td>-51.280600</td>\n",
       "      <td>118.048657</td>\n",
       "    </tr>\n",
       "    <tr>\n",
       "      <td>3</td>\n",
       "      <td>count_message</td>\n",
       "      <td>ultra</td>\n",
       "      <td>49.363452</td>\n",
       "      <td>47.780185</td>\n",
       "      <td>-93.977103</td>\n",
       "      <td>192.704007</td>\n",
       "    </tr>\n",
       "    <tr>\n",
       "      <td>4</td>\n",
       "      <td>sum_internet</td>\n",
       "      <td>smart</td>\n",
       "      <td>15.848817</td>\n",
       "      <td>5.738534</td>\n",
       "      <td>-1.366784</td>\n",
       "      <td>33.064418</td>\n",
       "    </tr>\n",
       "    <tr>\n",
       "      <td>5</td>\n",
       "      <td>sum_internet</td>\n",
       "      <td>ultra</td>\n",
       "      <td>19.030177</td>\n",
       "      <td>9.854679</td>\n",
       "      <td>-10.533858</td>\n",
       "      <td>48.594213</td>\n",
       "    </tr>\n",
       "  </tbody>\n",
       "</table>\n",
       "</div>"
      ],
      "text/plain": [
       "      показатель  тариф     среднее     ст откл  левая гр интервала  \\\n",
       "0    sum_minutes  smart  417.934948  190.271035         -152.878156   \n",
       "1    sum_minutes  ultra  526.623350  317.444836         -425.711156   \n",
       "2  count_message  smart   33.384029   28.221543          -51.280600   \n",
       "3  count_message  ultra   49.363452   47.780185          -93.977103   \n",
       "4   sum_internet  smart   15.848817    5.738534           -1.366784   \n",
       "5   sum_internet  ultra   19.030177    9.854679          -10.533858   \n",
       "\n",
       "   правая гр интервала  \n",
       "0           988.748053  \n",
       "1          1478.957857  \n",
       "2           118.048657  \n",
       "3           192.704007  \n",
       "4            33.064418  \n",
       "5            48.594213  "
      ]
     },
     "execution_count": 48,
     "metadata": {},
     "output_type": "execute_result"
    }
   ],
   "source": [
    "pd.DataFrame(columns = ['показатель',\n",
    "                        'тариф',\n",
    "                        'среднее',\n",
    "                        'ст откл',\n",
    "                        'левая гр интервала',\n",
    "                        'правая гр интервала'],\n",
    "             data = pivot_data)"
   ]
  },
  {
   "cell_type": "markdown",
   "metadata": {},
   "source": [
    "#### Вывод\n",
    "Проанализаровав данные мы выяснили, что средняя выручка тарифа Ультра(2000 руб) выше тарифа Смарт(1250 руб).  \n",
    "В 2018 году прослеживается рост средней выручки от тарифа Смарт. Средняя продолжительность звонка одинакова в двух тарифах(8.4 минуты) \n",
    "\n",
    "Исследовали распределение минут разговора. Распределение в тарифе Смарт нормальное с небольшой положительной скошенностью.В тарифе Ультра равномерное распределение. В среденем использование минут тарифа Смарт 394 минуты, Ультра - 497 минут, 99% звонков Тарифа Смарт укладывается в 934 минуты, Ультра - 1396 минут.  \n",
    "\n",
    "Исследовали распределение сообщений. Число сообщений распределено по закону Пуассона. В среднем число сообщений за месяц в тарифе Смарт - 33, Ультра - 49, 99% пользователей Тарифа Смарт отправляют меньше 118 сообщений, Тарифа Ультра - 193 сообщений. \n",
    "\n",
    "Исследовали распределение использованного трафика. Распределение нормальное. В среднем пользователи тарифа Смарт расходуют 16 Гб интернета, тарифа Ультра - 19 Гб. 99% распределения укладывается до 33 в тарифе Смарт, 49 в тарифе Ультра."
   ]
  },
  {
   "cell_type": "markdown",
   "metadata": {},
   "source": [
    "### Шаг 4. Проверка гипотез\n",
    "<a id = 'hypothesis_testing'></a>"
   ]
  },
  {
   "cell_type": "markdown",
   "metadata": {},
   "source": [
    "Проверим гипотезу - средняя выручка пользователей тарифов «Ультра» и «Смарт» равна - H0  \n",
    "Гипотеза H1 - средняя выручка пользователей тарифов «Ультра» и «Смарт» различается  \n",
    "Проверим гипотезы о равенстве среднего двух генеральных совокупностей по взятым из них выборкам, выручка тарифа `smart` и тарифа `ultra`, применим метод `scipy.stats.ttest_ind()`"
   ]
  },
  {
   "cell_type": "code",
   "execution_count": 49,
   "metadata": {},
   "outputs": [
    {
     "name": "stdout",
     "output_type": "stream",
     "text": [
      "619947.3501724182 126740.64659640804\n"
     ]
    }
   ],
   "source": [
    "disp1 = np.var(data.query('tariff == \"smart\"')['revenue'])\n",
    "disp2 = np.var(data.query('tariff == \"ultra\"')['revenue'])\n",
    "print(disp1, disp2)"
   ]
  },
  {
   "cell_type": "markdown",
   "metadata": {},
   "source": [
    "Дисперсии выборок существенно отличаются, укажем equal_var = False"
   ]
  },
  {
   "cell_type": "code",
   "execution_count": 50,
   "metadata": {},
   "outputs": [
    {
     "name": "stdout",
     "output_type": "stream",
     "text": [
      "p-значение:  5.133013116078655e-296\n"
     ]
    }
   ],
   "source": [
    "results = st.ttest_ind(data.query('tariff == \"smart\"')['revenue'], \n",
    "                       data.query('tariff == \"ultra\"')['revenue'], \n",
    "                       equal_var = False)\n",
    "print('p-значение: ', results.pvalue)"
   ]
  },
  {
   "cell_type": "markdown",
   "metadata": {},
   "source": [
    "Проверим гипотезу - средняя выручка пользователей из Москвы не отличается от выручки пользователей из других регионов - H0    \n",
    "Альтернативная гипотеза H1 - средняя выручка пользователей из Москвы отличается от выручки пользователей из других регионов\n",
    "Проверим гипотезы о равенстве среднего двух генеральных совокупностей по взятым из них выборкам, выручка в Москве и в регионах, применим метод `scipy.stats.ttest_ind()`"
   ]
  },
  {
   "cell_type": "code",
   "execution_count": 51,
   "metadata": {},
   "outputs": [],
   "source": [
    "moscow = data.query('city == \"москва\"')\n",
    "regions = data.query('city != \"москва\"')"
   ]
  },
  {
   "cell_type": "code",
   "execution_count": 52,
   "metadata": {},
   "outputs": [
    {
     "name": "stdout",
     "output_type": "stream",
     "text": [
      "546237.2279030647 630158.78585674\n"
     ]
    }
   ],
   "source": [
    "disp1 = np.var(moscow['revenue'])\n",
    "disp2 = np.var(regions['revenue'])\n",
    "print(disp1, disp2)"
   ]
  },
  {
   "cell_type": "markdown",
   "metadata": {},
   "source": [
    "Дисперсии выборок примерно равны, выборки взяты из схожих по параметрам совокупностей, укажем equal_var = True"
   ]
  },
  {
   "cell_type": "code",
   "execution_count": 53,
   "metadata": {},
   "outputs": [
    {
     "name": "stdout",
     "output_type": "stream",
     "text": [
      "p-значение:  0.4741107329003996\n"
     ]
    }
   ],
   "source": [
    "results = st.ttest_ind(regions['revenue'], moscow['revenue'], equal_var = True)\n",
    "print('p-значение: ', results.pvalue)"
   ]
  },
  {
   "cell_type": "markdown",
   "metadata": {},
   "source": [
    "#### Вывод\n",
    "Для уровня значимости p = 0.05 гипотеза H0 о равной средней выручки тарифов Смарт И Ультра отвергается, принимается альтеранивная, H1 о различиях средней выручки тарифов Смарт и Ультра.  \n",
    "Гипотеза о равенстве  средней выручки пользователей в Москве и других регионов при уровне значимости p = 0.05 не отвергается."
   ]
  },
  {
   "cell_type": "markdown",
   "metadata": {},
   "source": [
    "### Шаг 5. Формулирование выводов\n",
    "<a id = 'conclusion'></a>"
   ]
  },
  {
   "cell_type": "markdown",
   "metadata": {},
   "source": [
    "Мы анализировали данные мобильного оператора по выборке из 500 пользователям двух тарифов \"Смарт\" и \"Ультра\".  \n",
    "\n",
    "Пропуски обнаружены только в таблице users, колонке churn_date. Неверные типы имеют столбцы с датами. \n",
    "Столбец duration содержит множество нулей, такие значения составляют 20%, это пользователи, которые не дозвонились. Мы удалили эти значения, чтобы получить впоследствии точнее среднее значение и не учитывать такие звонки в общем числе звонков. Заполнить столбец мы churn_date мы не можем, отсутствие значения в этом стоблце показывает, что тарифом еще пользуются.  \n",
    "\n",
    "Для анализа мы посчиатли дополнительные данные и объединили информацию из таблиц. Посчитали количество сделанных звонков и израсходованных минут разговора по месяцам, количество отправленных сообщений по месяцам, объем израсходованного интернет-трафика по месяцам, помесячную выручку каждого с пользователя. Обнаружили людей, подключившихся и не воспользовавшись тарифом отключившихся.  \n",
    "\n",
    "Проанализаровав данные мы выяснили, что средняя выручка тарифа Ультра(2000 руб) выше тарифа Смарт(1250 руб).\n",
    "В 2018 году прослеживается рост средней выручки от тарифа Смарт. Средняя продолжительность звонка одинакова в двух тарифах(8.4 минуты)  \n",
    "\n",
    "Исследовали распределение минут разговора. Распределение в тарифе Смарт нормальное с небольшой положительной скошенностью.В тарифе Ультра равномерное распределение. В среденем использование минут тарифа Смарт 394 минуты, Ультра - 497 минут, 99% звонков Тарифа Смарт укладывается в 934 минуты, Ультра - 1396 минут.  \n",
    "\n",
    "Исследовали распределение сообщений. Число сообщений распределено по закону Пуассона. В среднем число сообщений за месяц в тарифе Смарт - 33, Ультра - 49, 99% пользователей Тарифа Смарт отправляют меньше 118 сообщений, Тарифа Ультра - 193 сообщений.\n",
    "\n",
    "Исследовали распределение использованного трафика. Распределение нормальное. В среднем пользователи тарифа Смарт расходуют 16 Гб интернета, тарифа Ультра - 19 Гб. 99% распределения укладывается до 33 в тарифе Смарт, 49 в тарифе Ультра.\n",
    "\n",
    "Мы провели проверку гипотез.  \n",
    "Для уровня значимости p = 0.05 гипотеза H0 о равной средней выручки тарифов Смарт И Ультра отвергается, принимается альтеранивная, H1 о различиях средней выручки тарифов Смарт и Ультра.\n",
    "Гипотеза о равенстве средней выручки пользователей в Москве и других регионов при уровне значимости p = 0.05 не отвергается.\n",
    "\n",
    "В тарифе Ультра число включенных минут(3000) сильно больще границы интервала(1396). \n",
    "Пользователи этого тарифа Ультра используют в среднем немного больше интернета, минут, сообщений. Но предоплаченный лимит для тарифа сильно больше, чем у тарифа Смарт. "
   ]
  }
 ],
 "metadata": {
  "kernelspec": {
   "display_name": "Python 3",
   "language": "python",
   "name": "python3"
  },
  "language_info": {
   "codemirror_mode": {
    "name": "ipython",
    "version": 3
   },
   "file_extension": ".py",
   "mimetype": "text/x-python",
   "name": "python",
   "nbconvert_exporter": "python",
   "pygments_lexer": "ipython3",
   "version": "3.7.5"
  },
  "toc": {
   "base_numbering": 1,
   "nav_menu": {},
   "number_sections": true,
   "sideBar": true,
   "skip_h1_title": true,
   "title_cell": "Table of Contents",
   "title_sidebar": "Contents",
   "toc_cell": false,
   "toc_position": {},
   "toc_section_display": true,
   "toc_window_display": false
  }
 },
 "nbformat": 4,
 "nbformat_minor": 2
}
