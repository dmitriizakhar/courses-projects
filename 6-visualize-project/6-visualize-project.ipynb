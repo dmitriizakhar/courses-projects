{
 "cells": [
  {
   "cell_type": "markdown",
   "metadata": {},
   "source": [
    "# Рынок заведений общественного питания Москвы\n",
    "\n",
    "Описание проекта  \n",
    "Мы решили открыть небольшое кафе в Москве. Оно оригинальное — гостей должны обслуживать роботы. Проект многообещающий, но дорогой. Вместе с партнёрами мы решились обратиться к инвесторам. Их интересует текущее положение дел на рынке — сможем ли мы снискать популярность на долгое время, когда все зеваки насмотрятся на роботов-официантов?\n",
    "Партнёры просят нас подготовить исследование рынка. У нас есть открытые данные о заведениях общественного питания в Москве.\n",
    "\n",
    "Описание данных  \n",
    "Таблица `rest_data`:  \n",
    "`id` — идентификатор объекта;  \n",
    "`object_name` — название объекта общественного питания;  \n",
    "`chain` — сетевой ресторан;  \n",
    "`object_type` — тип объекта общественного питания;  \n",
    "`address` — адрес;  \n",
    "`number` — количество посадочных мест.  \n"
   ]
  },
  {
   "cell_type": "markdown",
   "metadata": {},
   "source": [
    "## Шаг №1. Загрузите данные и подготовьте их к анализу"
   ]
  },
  {
   "cell_type": "code",
   "execution_count": 1,
   "metadata": {},
   "outputs": [],
   "source": [
    "import pandas as pd\n",
    "import numpy as np\n",
    "import seaborn as sns\n",
    "import matplotlib.pyplot as plt\n",
    "import scipy"
   ]
  },
  {
   "cell_type": "code",
   "execution_count": 2,
   "metadata": {},
   "outputs": [],
   "source": [
    "rest_data = pd.read_csv('/datasets/rest_data.csv')"
   ]
  },
  {
   "cell_type": "code",
   "execution_count": 3,
   "metadata": {},
   "outputs": [
    {
     "name": "stdout",
     "output_type": "stream",
     "text": [
      "<class 'pandas.core.frame.DataFrame'>\n",
      "RangeIndex: 15366 entries, 0 to 15365\n",
      "Data columns (total 6 columns):\n",
      "id             15366 non-null int64\n",
      "object_name    15366 non-null object\n",
      "chain          15366 non-null object\n",
      "object_type    15366 non-null object\n",
      "address        15366 non-null object\n",
      "number         15366 non-null int64\n",
      "dtypes: int64(2), object(4)\n",
      "memory usage: 720.4+ KB\n"
     ]
    }
   ],
   "source": [
    "rest_data.info()"
   ]
  },
  {
   "cell_type": "code",
   "execution_count": 4,
   "metadata": {},
   "outputs": [
    {
     "data": {
      "text/html": [
       "<div>\n",
       "<style scoped>\n",
       "    .dataframe tbody tr th:only-of-type {\n",
       "        vertical-align: middle;\n",
       "    }\n",
       "\n",
       "    .dataframe tbody tr th {\n",
       "        vertical-align: top;\n",
       "    }\n",
       "\n",
       "    .dataframe thead th {\n",
       "        text-align: right;\n",
       "    }\n",
       "</style>\n",
       "<table border=\"1\" class=\"dataframe\">\n",
       "  <thead>\n",
       "    <tr style=\"text-align: right;\">\n",
       "      <th></th>\n",
       "      <th>id</th>\n",
       "      <th>object_name</th>\n",
       "      <th>chain</th>\n",
       "      <th>object_type</th>\n",
       "      <th>address</th>\n",
       "      <th>number</th>\n",
       "    </tr>\n",
       "  </thead>\n",
       "  <tbody>\n",
       "    <tr>\n",
       "      <td>0</td>\n",
       "      <td>151635</td>\n",
       "      <td>СМЕТАНА</td>\n",
       "      <td>нет</td>\n",
       "      <td>кафе</td>\n",
       "      <td>город Москва, улица Егора Абакумова, дом 9</td>\n",
       "      <td>48</td>\n",
       "    </tr>\n",
       "    <tr>\n",
       "      <td>1</td>\n",
       "      <td>77874</td>\n",
       "      <td>Родник</td>\n",
       "      <td>нет</td>\n",
       "      <td>кафе</td>\n",
       "      <td>город Москва, улица Талалихина, дом 2/1, корпус 1</td>\n",
       "      <td>35</td>\n",
       "    </tr>\n",
       "    <tr>\n",
       "      <td>2</td>\n",
       "      <td>24309</td>\n",
       "      <td>Кафе «Академия»</td>\n",
       "      <td>нет</td>\n",
       "      <td>кафе</td>\n",
       "      <td>город Москва, Абельмановская улица, дом 6</td>\n",
       "      <td>95</td>\n",
       "    </tr>\n",
       "    <tr>\n",
       "      <td>3</td>\n",
       "      <td>21894</td>\n",
       "      <td>ПИЦЦЕТОРИЯ</td>\n",
       "      <td>да</td>\n",
       "      <td>кафе</td>\n",
       "      <td>город Москва, Абрамцевская улица, дом 1</td>\n",
       "      <td>40</td>\n",
       "    </tr>\n",
       "    <tr>\n",
       "      <td>4</td>\n",
       "      <td>119365</td>\n",
       "      <td>Кафе «Вишневая метель»</td>\n",
       "      <td>нет</td>\n",
       "      <td>кафе</td>\n",
       "      <td>город Москва, Абрамцевская улица, дом 9, корпус 1</td>\n",
       "      <td>50</td>\n",
       "    </tr>\n",
       "  </tbody>\n",
       "</table>\n",
       "</div>"
      ],
      "text/plain": [
       "       id             object_name chain object_type  \\\n",
       "0  151635                 СМЕТАНА   нет        кафе   \n",
       "1   77874                  Родник   нет        кафе   \n",
       "2   24309         Кафе «Академия»   нет        кафе   \n",
       "3   21894              ПИЦЦЕТОРИЯ    да        кафе   \n",
       "4  119365  Кафе «Вишневая метель»   нет        кафе   \n",
       "\n",
       "                                             address  number  \n",
       "0         город Москва, улица Егора Абакумова, дом 9      48  \n",
       "1  город Москва, улица Талалихина, дом 2/1, корпус 1      35  \n",
       "2          город Москва, Абельмановская улица, дом 6      95  \n",
       "3            город Москва, Абрамцевская улица, дом 1      40  \n",
       "4  город Москва, Абрамцевская улица, дом 9, корпус 1      50  "
      ]
     },
     "execution_count": 4,
     "metadata": {},
     "output_type": "execute_result"
    }
   ],
   "source": [
    "rest_data.head()"
   ]
  },
  {
   "cell_type": "code",
   "execution_count": 5,
   "metadata": {},
   "outputs": [],
   "source": [
    "rest_data['object_name'] = rest_data['object_name'].str.lower()\n",
    "rest_data['address'] = rest_data['address'].str.lower()"
   ]
  },
  {
   "cell_type": "markdown",
   "metadata": {},
   "source": [
    "Проверим, какую часть составляют нулевые значения количества посадочных мест"
   ]
  },
  {
   "cell_type": "code",
   "execution_count": 6,
   "metadata": {},
   "outputs": [
    {
     "data": {
      "text/plain": [
       "0.10549264610178316"
      ]
     },
     "execution_count": 6,
     "metadata": {},
     "output_type": "execute_result"
    }
   ],
   "source": [
    "rest_data.query('number==0')['number'].count()/len(rest_data)"
   ]
  },
  {
   "cell_type": "markdown",
   "metadata": {},
   "source": [
    "Проверим данные на дубликаты"
   ]
  },
  {
   "cell_type": "code",
   "execution_count": 7,
   "metadata": {},
   "outputs": [
    {
     "data": {
      "text/plain": [
       "0"
      ]
     },
     "execution_count": 7,
     "metadata": {},
     "output_type": "execute_result"
    }
   ],
   "source": [
    "rest_data.duplicated().sum()"
   ]
  },
  {
   "cell_type": "markdown",
   "metadata": {},
   "source": [
    "Возможны дубликаты без учета id, проверим наличие таких дублирующих записей"
   ]
  },
  {
   "cell_type": "code",
   "execution_count": 8,
   "metadata": {},
   "outputs": [
    {
     "data": {
      "text/plain": [
       "85"
      ]
     },
     "execution_count": 8,
     "metadata": {},
     "output_type": "execute_result"
    }
   ],
   "source": [
    "duplicated_count = rest_data[['object_name', 'chain', 'object_type', 'address', 'number']].duplicated().sum()\n",
    "duplicated_count"
   ]
  },
  {
   "cell_type": "code",
   "execution_count": 9,
   "metadata": {},
   "outputs": [
    {
     "data": {
      "text/html": [
       "<div>\n",
       "<style scoped>\n",
       "    .dataframe tbody tr th:only-of-type {\n",
       "        vertical-align: middle;\n",
       "    }\n",
       "\n",
       "    .dataframe tbody tr th {\n",
       "        vertical-align: top;\n",
       "    }\n",
       "\n",
       "    .dataframe thead th {\n",
       "        text-align: right;\n",
       "    }\n",
       "</style>\n",
       "<table border=\"1\" class=\"dataframe\">\n",
       "  <thead>\n",
       "    <tr style=\"text-align: right;\">\n",
       "      <th></th>\n",
       "      <th>id</th>\n",
       "      <th>object_name</th>\n",
       "      <th>chain</th>\n",
       "      <th>object_type</th>\n",
       "      <th>address</th>\n",
       "      <th>number</th>\n",
       "    </tr>\n",
       "  </thead>\n",
       "  <tbody>\n",
       "    <tr>\n",
       "      <td>2381</td>\n",
       "      <td>28611</td>\n",
       "      <td>комбинат питания мгту им.н.э.баумана</td>\n",
       "      <td>нет</td>\n",
       "      <td>столовая</td>\n",
       "      <td>город москва, 2-я бауманская улица, дом 5, стр...</td>\n",
       "      <td>100</td>\n",
       "    </tr>\n",
       "    <tr>\n",
       "      <td>3397</td>\n",
       "      <td>71896</td>\n",
       "      <td>буфет «коникс-школьник»</td>\n",
       "      <td>нет</td>\n",
       "      <td>буфет</td>\n",
       "      <td>город москва, улица удальцова, дом 21</td>\n",
       "      <td>100</td>\n",
       "    </tr>\n",
       "    <tr>\n",
       "      <td>3481</td>\n",
       "      <td>20914</td>\n",
       "      <td>буфет мади</td>\n",
       "      <td>нет</td>\n",
       "      <td>буфет</td>\n",
       "      <td>город москва, ленинградский проспект, дом 64</td>\n",
       "      <td>40</td>\n",
       "    </tr>\n",
       "    <tr>\n",
       "      <td>4431</td>\n",
       "      <td>23759</td>\n",
       "      <td>столовая гбоу города москвы № 384</td>\n",
       "      <td>нет</td>\n",
       "      <td>буфет</td>\n",
       "      <td>город москва, беловежская улица, дом 67</td>\n",
       "      <td>100</td>\n",
       "    </tr>\n",
       "    <tr>\n",
       "      <td>4537</td>\n",
       "      <td>23391</td>\n",
       "      <td>столовая «комбинат питания космос»</td>\n",
       "      <td>нет</td>\n",
       "      <td>столовая</td>\n",
       "      <td>город москва, новозаводская улица, дом 12/11</td>\n",
       "      <td>15</td>\n",
       "    </tr>\n",
       "  </tbody>\n",
       "</table>\n",
       "</div>"
      ],
      "text/plain": [
       "         id                           object_name chain object_type  \\\n",
       "2381  28611  комбинат питания мгту им.н.э.баумана   нет    столовая   \n",
       "3397  71896               буфет «коникс-школьник»   нет       буфет   \n",
       "3481  20914                            буфет мади   нет       буфет   \n",
       "4431  23759     столовая гбоу города москвы № 384   нет       буфет   \n",
       "4537  23391    столовая «комбинат питания космос»   нет    столовая   \n",
       "\n",
       "                                                address  number  \n",
       "2381  город москва, 2-я бауманская улица, дом 5, стр...     100  \n",
       "3397              город москва, улица удальцова, дом 21     100  \n",
       "3481       город москва, ленинградский проспект, дом 64      40  \n",
       "4431            город москва, беловежская улица, дом 67     100  \n",
       "4537       город москва, новозаводская улица, дом 12/11      15  "
      ]
     },
     "execution_count": 9,
     "metadata": {},
     "output_type": "execute_result"
    }
   ],
   "source": [
    "rest_data[rest_data[['object_name', 'chain', 'object_type', 'address', 'number']].duplicated()].head()"
   ]
  },
  {
   "cell_type": "code",
   "execution_count": 10,
   "metadata": {},
   "outputs": [
    {
     "data": {
      "text/html": [
       "<div>\n",
       "<style scoped>\n",
       "    .dataframe tbody tr th:only-of-type {\n",
       "        vertical-align: middle;\n",
       "    }\n",
       "\n",
       "    .dataframe tbody tr th {\n",
       "        vertical-align: top;\n",
       "    }\n",
       "\n",
       "    .dataframe thead th {\n",
       "        text-align: right;\n",
       "    }\n",
       "</style>\n",
       "<table border=\"1\" class=\"dataframe\">\n",
       "  <thead>\n",
       "    <tr style=\"text-align: right;\">\n",
       "      <th></th>\n",
       "      <th>id</th>\n",
       "      <th>object_name</th>\n",
       "      <th>chain</th>\n",
       "      <th>object_type</th>\n",
       "      <th>address</th>\n",
       "      <th>number</th>\n",
       "    </tr>\n",
       "  </thead>\n",
       "  <tbody>\n",
       "    <tr>\n",
       "      <td>4536</td>\n",
       "      <td>23381</td>\n",
       "      <td>столовая «комбинат питания космос»</td>\n",
       "      <td>нет</td>\n",
       "      <td>столовая</td>\n",
       "      <td>город москва, новозаводская улица, дом 12/11</td>\n",
       "      <td>15</td>\n",
       "    </tr>\n",
       "    <tr>\n",
       "      <td>4537</td>\n",
       "      <td>23391</td>\n",
       "      <td>столовая «комбинат питания космос»</td>\n",
       "      <td>нет</td>\n",
       "      <td>столовая</td>\n",
       "      <td>город москва, новозаводская улица, дом 12/11</td>\n",
       "      <td>15</td>\n",
       "    </tr>\n",
       "  </tbody>\n",
       "</table>\n",
       "</div>"
      ],
      "text/plain": [
       "         id                         object_name chain object_type  \\\n",
       "4536  23381  столовая «комбинат питания космос»   нет    столовая   \n",
       "4537  23391  столовая «комбинат питания космос»   нет    столовая   \n",
       "\n",
       "                                           address  number  \n",
       "4536  город москва, новозаводская улица, дом 12/11      15  \n",
       "4537  город москва, новозаводская улица, дом 12/11      15  "
      ]
     },
     "execution_count": 10,
     "metadata": {},
     "output_type": "execute_result"
    }
   ],
   "source": [
    "rest_data[rest_data['object_name']=='столовая «комбинат питания космос»']"
   ]
  },
  {
   "cell_type": "code",
   "execution_count": 11,
   "metadata": {},
   "outputs": [
    {
     "data": {
      "text/plain": [
       "0.5531693348952232"
      ]
     },
     "execution_count": 11,
     "metadata": {},
     "output_type": "execute_result"
    }
   ],
   "source": [
    "duplicated_count/len(rest_data)*100"
   ]
  },
  {
   "cell_type": "code",
   "execution_count": 12,
   "metadata": {},
   "outputs": [],
   "source": [
    "rest_data = rest_data[~rest_data[['object_name', 'chain', 'object_type', 'address', 'number']].duplicated()]"
   ]
  },
  {
   "cell_type": "markdown",
   "metadata": {},
   "source": [
    "Мы загрузили данные о заведениях общественного питания Москвы в датаврейм. Типы всех колонок верные, пропуски остутствуют, данные текстовых столбцов были приведены к нижнему регистру. У 10% заведений число посадочных мест равно нулю, что не является аномалией, это могут быть пункты выдачи сетевых кафе и фудкорты. Были обнаружены дубликаты - заведения с одинаковыми названиями и адресом, числом посадочных мест, но разным id. Считаем, что несколько заведений могут находиться по одному адресу(например в торговом центре). Таких значений около 0.5%, удалим их, что существенно не повлияет на результаты анализа."
   ]
  },
  {
   "cell_type": "markdown",
   "metadata": {},
   "source": [
    "## Шаг №2. Анализ данных"
   ]
  },
  {
   "cell_type": "markdown",
   "metadata": {},
   "source": [
    "Исследуем соотношение видов объектов общественного питания по количеству."
   ]
  },
  {
   "cell_type": "code",
   "execution_count": 13,
   "metadata": {},
   "outputs": [],
   "source": [
    "count_type = rest_data['object_type'].value_counts().reset_index()\n",
    "count_type.columns = ['object_type', 'count']"
   ]
  },
  {
   "cell_type": "code",
   "execution_count": 14,
   "metadata": {},
   "outputs": [
    {
     "data": {
      "text/html": [
       "<div>\n",
       "<style scoped>\n",
       "    .dataframe tbody tr th:only-of-type {\n",
       "        vertical-align: middle;\n",
       "    }\n",
       "\n",
       "    .dataframe tbody tr th {\n",
       "        vertical-align: top;\n",
       "    }\n",
       "\n",
       "    .dataframe thead th {\n",
       "        text-align: right;\n",
       "    }\n",
       "</style>\n",
       "<table border=\"1\" class=\"dataframe\">\n",
       "  <thead>\n",
       "    <tr style=\"text-align: right;\">\n",
       "      <th></th>\n",
       "      <th>object_type</th>\n",
       "      <th>count</th>\n",
       "    </tr>\n",
       "  </thead>\n",
       "  <tbody>\n",
       "    <tr>\n",
       "      <td>0</td>\n",
       "      <td>кафе</td>\n",
       "      <td>6071</td>\n",
       "    </tr>\n",
       "    <tr>\n",
       "      <td>1</td>\n",
       "      <td>столовая</td>\n",
       "      <td>2584</td>\n",
       "    </tr>\n",
       "    <tr>\n",
       "      <td>2</td>\n",
       "      <td>ресторан</td>\n",
       "      <td>2282</td>\n",
       "    </tr>\n",
       "    <tr>\n",
       "      <td>3</td>\n",
       "      <td>предприятие быстрого обслуживания</td>\n",
       "      <td>1897</td>\n",
       "    </tr>\n",
       "    <tr>\n",
       "      <td>4</td>\n",
       "      <td>бар</td>\n",
       "      <td>855</td>\n",
       "    </tr>\n",
       "    <tr>\n",
       "      <td>5</td>\n",
       "      <td>буфет</td>\n",
       "      <td>576</td>\n",
       "    </tr>\n",
       "    <tr>\n",
       "      <td>6</td>\n",
       "      <td>кафетерий</td>\n",
       "      <td>395</td>\n",
       "    </tr>\n",
       "    <tr>\n",
       "      <td>7</td>\n",
       "      <td>закусочная</td>\n",
       "      <td>348</td>\n",
       "    </tr>\n",
       "    <tr>\n",
       "      <td>8</td>\n",
       "      <td>магазин (отдел кулинарии)</td>\n",
       "      <td>273</td>\n",
       "    </tr>\n",
       "  </tbody>\n",
       "</table>\n",
       "</div>"
      ],
      "text/plain": [
       "                         object_type  count\n",
       "0                               кафе   6071\n",
       "1                           столовая   2584\n",
       "2                           ресторан   2282\n",
       "3  предприятие быстрого обслуживания   1897\n",
       "4                                бар    855\n",
       "5                              буфет    576\n",
       "6                          кафетерий    395\n",
       "7                         закусочная    348\n",
       "8          магазин (отдел кулинарии)    273"
      ]
     },
     "execution_count": 14,
     "metadata": {},
     "output_type": "execute_result"
    }
   ],
   "source": [
    "count_type.sort_values(by = 'count', ascending = False)"
   ]
  },
  {
   "cell_type": "code",
   "execution_count": 15,
   "metadata": {},
   "outputs": [
    {
     "data": {
      "image/png": "[encoded data removed]",
      "text/plain": [
       "<Figure size 864x360 with 1 Axes>"
      ]
     },
     "metadata": {
      "needs_background": "light"
     },
     "output_type": "display_data"
    }
   ],
   "source": [
    "plt.figure(figsize=(12, 5))\n",
    "sns.barplot(x = 'object_type', y = 'count', data = count_type)\n",
    "plt.xticks(np.arange(9), ('Кафе', 'Столовая', 'Ресторан', 'Предприятие\\nбыстрого\\nобслуживания\\n ', \n",
    "                 'Бар', 'Буфет', 'Кафетерий', 'Закусочная', 'Магазин\\n(отдел\\nкулинарии)\\n'))\n",
    "plt.title('Количество объектов общественного питания по типам')\n",
    "plt.ylabel('Количество предприятий')\n",
    "plt.xlabel(' ')\n",
    "plt.show()"
   ]
  },
  {
   "cell_type": "markdown",
   "metadata": {},
   "source": [
    "Больше всего предприятий имеют тип \"Кафе\" - 6071 шт, приблизительно на одном уровне находятся \"столовая\" - 2584, \"ресторан\" - 2282, \"предприятие быстрого обслуживания\" - 1897."
   ]
  },
  {
   "cell_type": "markdown",
   "metadata": {},
   "source": [
    "Исследуем соотношение сетевых и несетевых заведений по количеству."
   ]
  },
  {
   "cell_type": "code",
   "execution_count": 16,
   "metadata": {},
   "outputs": [
    {
     "data": {
      "text/plain": [
       "нет    12317\n",
       "да      2964\n",
       "Name: chain, dtype: int64"
      ]
     },
     "execution_count": 16,
     "metadata": {},
     "output_type": "execute_result"
    }
   ],
   "source": [
    "rest_data['chain'].value_counts()"
   ]
  },
  {
   "cell_type": "code",
   "execution_count": 17,
   "metadata": {},
   "outputs": [
    {
     "data": {
      "image/png": "[encoded data removed]",
      "text/plain": [
       "<Figure size 432x288 with 1 Axes>"
      ]
     },
     "metadata": {
      "needs_background": "light"
     },
     "output_type": "display_data"
    }
   ],
   "source": [
    "sns.countplot(x = 'chain', data = rest_data)\n",
    "plt.xticks(np.arange(2), ('Не сетевые\\nзаведения', 'Сетевые заведения'))\n",
    "plt.title('Соотношение сетевых и не сетевых заведений')\n",
    "plt.ylabel('Количество предприятий')\n",
    "plt.xlabel(' ')\n",
    "plt.show()"
   ]
  },
  {
   "cell_type": "markdown",
   "metadata": {},
   "source": [
    "Сетевых заведений значительно меньше 2964 шт, чем не сетевых - 12317 шт.(около 80%)"
   ]
  },
  {
   "cell_type": "markdown",
   "metadata": {},
   "source": [
    "Узнаем, для какого вида объекта общественного питания характерно сетевое распространение"
   ]
  },
  {
   "cell_type": "code",
   "execution_count": 18,
   "metadata": {},
   "outputs": [
    {
     "data": {
      "image/png": "[encoded data removed]",
      "text/plain": [
       "<Figure size 864x360 with 1 Axes>"
      ]
     },
     "metadata": {
      "needs_background": "light"
     },
     "output_type": "display_data"
    }
   ],
   "source": [
    "plt.figure(figsize=(12, 5))\n",
    "sns.countplot(x='object_type', data=rest_data, hue='chain', \n",
    "                   order = rest_data['object_type'].value_counts().index) \n",
    "plt.legend(['Не сетевое предприятие', 'Сетевое предприятие'])\n",
    "plt.xticks(np.arange(9), ('Кафе', 'Столовая', 'Ресторан', 'Предприятие\\nбыстрого\\nобслуживания\\n ', \n",
    "                 'Бар', 'Буфет', 'Кафетерий', 'Закусочная', 'Магазин\\n(отдел кулинарии)'))\n",
    "plt.title('Количество предприятий общественного питания по типам\\nи по принадлежности к сетевой структуре')\n",
    "plt.ylabel('Количество предприятий')\n",
    "plt.xlabel(' ')\n",
    "plt.show()"
   ]
  },
  {
   "cell_type": "markdown",
   "metadata": {},
   "source": [
    "В основном сетевыми являются кафе, предприятия быстрого питания, рестораны. В остальных категориях число сетевых заведений мало."
   ]
  },
  {
   "cell_type": "markdown",
   "metadata": {},
   "source": [
    "Что характерно для сетевых заведений: много заведений с небольшим числом посадочных мест в каждом или мало заведений с большим количеством посадочных мест?"
   ]
  },
  {
   "cell_type": "code",
   "execution_count": 19,
   "metadata": {},
   "outputs": [],
   "source": [
    "chain = rest_data[rest_data['chain']=='да']"
   ]
  },
  {
   "cell_type": "code",
   "execution_count": 20,
   "metadata": {},
   "outputs": [
    {
     "data": {
      "image/png": "[encoded data removed]",
      "text/plain": [
       "<Figure size 864x360 with 1 Axes>"
      ]
     },
     "metadata": {
      "needs_background": "light"
     },
     "output_type": "display_data"
    }
   ],
   "source": [
    "plt.figure(figsize=(12, 5))\n",
    "sns.barplot(x='object_type', y = 'number', data=chain,\n",
    "           order = rest_data['object_type'].value_counts().index) \n",
    "plt.xticks(np.arange(9), ('Кафе', 'Столовая', 'Ресторан', 'Предприятие\\nбыстрого\\nобслуживания\\n ', \n",
    "                 'Бар', 'Буфет', 'Кафетерий', 'Закусочная', 'Магазин\\n(отдел кулинарии)'))\n",
    "plt.title('Количество посадочных мест сетевых заведений по типам')\n",
    "plt.ylabel('Количество предприятий')\n",
    "plt.xlabel(' ')\n",
    "plt.show()"
   ]
  },
  {
   "cell_type": "code",
   "execution_count": 21,
   "metadata": {
    "scrolled": true
   },
   "outputs": [
    {
     "data": {
      "text/plain": [
       "count    2964.000000\n",
       "mean       52.981107\n",
       "std        57.152817\n",
       "min         0.000000\n",
       "25%        15.000000\n",
       "50%        40.000000\n",
       "75%        72.000000\n",
       "max       580.000000\n",
       "Name: number, dtype: float64"
      ]
     },
     "execution_count": 21,
     "metadata": {},
     "output_type": "execute_result"
    }
   ],
   "source": [
    "chain['number'].describe()"
   ]
  },
  {
   "cell_type": "code",
   "execution_count": 22,
   "metadata": {},
   "outputs": [
    {
     "data": {
      "text/plain": [
       "count    577.000000\n",
       "mean       5.136915\n",
       "std       15.526198\n",
       "min        1.000000\n",
       "25%        1.000000\n",
       "50%        1.000000\n",
       "75%        3.000000\n",
       "max      157.000000\n",
       "Name: id, dtype: float64"
      ]
     },
     "execution_count": 22,
     "metadata": {},
     "output_type": "execute_result"
    }
   ],
   "source": [
    "chain.groupby('object_name')['id'].count().describe()"
   ]
  },
  {
   "cell_type": "markdown",
   "metadata": {},
   "source": [
    "ТОП-3 предприятий по количеству посадочных мест - Столовая, Ресторан, Бар/Кафе. Распределение посадочных мест не нормально, лучше всего значение отражает медиана. Для сети характерно несколько заведений(75% укладывается до 3) с числом посадочных мест 40."
   ]
  },
  {
   "cell_type": "markdown",
   "metadata": {},
   "source": [
    "Выделим в отдельный столбец информацию об улице из столбца `address`"
   ]
  },
  {
   "cell_type": "code",
   "execution_count": 23,
   "metadata": {},
   "outputs": [],
   "source": [
    "def street(row):\n",
    "    ans = row['address'].split(',')[1]\n",
    "    flag = True\n",
    "    for i in ['улица','бульвар','проезд','переулок','шоссе','проспект','набережная', 'площадь', 'квартал', 'аллея']:\n",
    "        if i in ans:\n",
    "            flag = False\n",
    "            break\n",
    "    if flag:\n",
    "        if 'дом' in ans or 'владение' in ans:\n",
    "            ans = row['address'].split(',')[0]\n",
    "        else:\n",
    "            ans = row['address'].split(',')[2]\n",
    "    return ans"
   ]
  },
  {
   "cell_type": "code",
   "execution_count": 24,
   "metadata": {
    "scrolled": true
   },
   "outputs": [],
   "source": [
    "rest_data['street'] = rest_data.apply(street, axis = 1)"
   ]
  },
  {
   "cell_type": "markdown",
   "metadata": {},
   "source": [
    "Построим график топ-10 улиц по количеству объектов общественного питания. Посмотрим на распределение количества посадочных мест для улиц с большим количеством объектов общественного питания."
   ]
  },
  {
   "cell_type": "code",
   "execution_count": 25,
   "metadata": {},
   "outputs": [],
   "source": [
    "establ_agg = rest_data.groupby('street').agg({'id':'count',\n",
    "                                              'number':'mean'}).sort_values(by = 'id',\n",
    "                                                                            ascending = False).reset_index()\n",
    "establ_agg.columns = ['street','count', 'number_mean']\n",
    "establ_agg['number_mean'] = establ_agg['number_mean'].round(2)\n",
    "establ_agg['street'] = establ_agg['street'].str.strip()"
   ]
  },
  {
   "cell_type": "code",
   "execution_count": 26,
   "metadata": {},
   "outputs": [
    {
     "data": {
      "text/html": [
       "<div>\n",
       "<style scoped>\n",
       "    .dataframe tbody tr th:only-of-type {\n",
       "        vertical-align: middle;\n",
       "    }\n",
       "\n",
       "    .dataframe tbody tr th {\n",
       "        vertical-align: top;\n",
       "    }\n",
       "\n",
       "    .dataframe thead th {\n",
       "        text-align: right;\n",
       "    }\n",
       "</style>\n",
       "<table border=\"1\" class=\"dataframe\">\n",
       "  <thead>\n",
       "    <tr style=\"text-align: right;\">\n",
       "      <th></th>\n",
       "      <th>street</th>\n",
       "      <th>count</th>\n",
       "      <th>number_mean</th>\n",
       "    </tr>\n",
       "  </thead>\n",
       "  <tbody>\n",
       "    <tr>\n",
       "      <td>0</td>\n",
       "      <td>проспект мира</td>\n",
       "      <td>203</td>\n",
       "      <td>63.00</td>\n",
       "    </tr>\n",
       "    <tr>\n",
       "      <td>1</td>\n",
       "      <td>профсоюзная улица</td>\n",
       "      <td>181</td>\n",
       "      <td>46.67</td>\n",
       "    </tr>\n",
       "    <tr>\n",
       "      <td>2</td>\n",
       "      <td>ленинградский проспект</td>\n",
       "      <td>170</td>\n",
       "      <td>52.76</td>\n",
       "    </tr>\n",
       "    <tr>\n",
       "      <td>3</td>\n",
       "      <td>пресненская набережная</td>\n",
       "      <td>167</td>\n",
       "      <td>45.84</td>\n",
       "    </tr>\n",
       "    <tr>\n",
       "      <td>4</td>\n",
       "      <td>варшавское шоссе</td>\n",
       "      <td>164</td>\n",
       "      <td>52.48</td>\n",
       "    </tr>\n",
       "    <tr>\n",
       "      <td>5</td>\n",
       "      <td>ленинский проспект</td>\n",
       "      <td>147</td>\n",
       "      <td>63.47</td>\n",
       "    </tr>\n",
       "    <tr>\n",
       "      <td>6</td>\n",
       "      <td>проспект вернадского</td>\n",
       "      <td>128</td>\n",
       "      <td>68.80</td>\n",
       "    </tr>\n",
       "    <tr>\n",
       "      <td>7</td>\n",
       "      <td>кутузовский проспект</td>\n",
       "      <td>114</td>\n",
       "      <td>85.06</td>\n",
       "    </tr>\n",
       "    <tr>\n",
       "      <td>8</td>\n",
       "      <td>каширское шоссе</td>\n",
       "      <td>111</td>\n",
       "      <td>55.50</td>\n",
       "    </tr>\n",
       "    <tr>\n",
       "      <td>9</td>\n",
       "      <td>кировоградская улица</td>\n",
       "      <td>108</td>\n",
       "      <td>59.79</td>\n",
       "    </tr>\n",
       "  </tbody>\n",
       "</table>\n",
       "</div>"
      ],
      "text/plain": [
       "                   street  count  number_mean\n",
       "0           проспект мира    203        63.00\n",
       "1       профсоюзная улица    181        46.67\n",
       "2  ленинградский проспект    170        52.76\n",
       "3  пресненская набережная    167        45.84\n",
       "4        варшавское шоссе    164        52.48\n",
       "5      ленинский проспект    147        63.47\n",
       "6    проспект вернадского    128        68.80\n",
       "7    кутузовский проспект    114        85.06\n",
       "8         каширское шоссе    111        55.50\n",
       "9    кировоградская улица    108        59.79"
      ]
     },
     "execution_count": 26,
     "metadata": {},
     "output_type": "execute_result"
    }
   ],
   "source": [
    "establ_agg.head(10)"
   ]
  },
  {
   "cell_type": "markdown",
   "metadata": {},
   "source": [
    "Для определения районов, в которых находятся заведения, на данных улицах воспользуемся дополнительной информацией. Загрузим датасет мосгаз с адресами и принадлежностью к районам."
   ]
  },
  {
   "cell_type": "code",
   "execution_count": 27,
   "metadata": {},
   "outputs": [],
   "source": [
    "mosqaz_data = pd.read_csv('https://hubofdata.ru/storage/f/2013-10-22T09%3A25%3A27.793Z/mosgaz-streets.csv')"
   ]
  },
  {
   "cell_type": "code",
   "execution_count": 28,
   "metadata": {},
   "outputs": [
    {
     "data": {
      "text/html": [
       "<div>\n",
       "<style scoped>\n",
       "    .dataframe tbody tr th:only-of-type {\n",
       "        vertical-align: middle;\n",
       "    }\n",
       "\n",
       "    .dataframe tbody tr th {\n",
       "        vertical-align: top;\n",
       "    }\n",
       "\n",
       "    .dataframe thead th {\n",
       "        text-align: right;\n",
       "    }\n",
       "</style>\n",
       "<table border=\"1\" class=\"dataframe\">\n",
       "  <thead>\n",
       "    <tr style=\"text-align: right;\">\n",
       "      <th></th>\n",
       "      <th>streetname</th>\n",
       "      <th>okrug</th>\n",
       "    </tr>\n",
       "  </thead>\n",
       "  <tbody>\n",
       "    <tr>\n",
       "      <td>0</td>\n",
       "      <td>выставочный переулок</td>\n",
       "      <td>ЦАО</td>\n",
       "    </tr>\n",
       "    <tr>\n",
       "      <td>1</td>\n",
       "      <td>улица гашека</td>\n",
       "      <td>ЦАО</td>\n",
       "    </tr>\n",
       "    <tr>\n",
       "      <td>2</td>\n",
       "      <td>большая никитская улица</td>\n",
       "      <td>ЦАО</td>\n",
       "    </tr>\n",
       "    <tr>\n",
       "      <td>3</td>\n",
       "      <td>глубокий переулок</td>\n",
       "      <td>ЦАО</td>\n",
       "    </tr>\n",
       "    <tr>\n",
       "      <td>4</td>\n",
       "      <td>большой гнездниковский переулок</td>\n",
       "      <td>ЦАО</td>\n",
       "    </tr>\n",
       "  </tbody>\n",
       "</table>\n",
       "</div>"
      ],
      "text/plain": [
       "                        streetname okrug\n",
       "0             выставочный переулок   ЦАО\n",
       "1                     улица гашека   ЦАО\n",
       "2          большая никитская улица   ЦАО\n",
       "3                глубокий переулок   ЦАО\n",
       "4  большой гнездниковский переулок   ЦАО"
      ]
     },
     "execution_count": 28,
     "metadata": {},
     "output_type": "execute_result"
    }
   ],
   "source": [
    "mosqaz_data['streetname'] = mosqaz_data['streetname'].str.lower().str.strip()\n",
    "mosqaz_data = mosqaz_data[['streetname','okrug']]\n",
    "mosqaz_data.head()"
   ]
  },
  {
   "cell_type": "markdown",
   "metadata": {},
   "source": [
    "Объединим таблицы мосгаза и аггрегирувонную таблицу по улицам, получим множество округов, через которые проходит улица, выберем самое часто встречающееся значение - моду в качестве значения округа, произведем сортировку по убыванию."
   ]
  },
  {
   "cell_type": "code",
   "execution_count": 29,
   "metadata": {},
   "outputs": [],
   "source": [
    "establ_agg = establ_agg.reset_index().merge(mosqaz_data, \n",
    "                               how = 'left',\n",
    "                               left_on = 'street', \n",
    "                               right_on = 'streetname')\n",
    "establ_agg = establ_agg.groupby('street').agg({'count':'min',\n",
    "                        'number_mean':'min',\n",
    "                         'okrug': lambda x: scipy.stats.mode(x)[0]})\n",
    "establ_agg = establ_agg.sort_values(by = 'count', ascending = False)"
   ]
  },
  {
   "cell_type": "code",
   "execution_count": 30,
   "metadata": {},
   "outputs": [
    {
     "data": {
      "text/html": [
       "<div>\n",
       "<style scoped>\n",
       "    .dataframe tbody tr th:only-of-type {\n",
       "        vertical-align: middle;\n",
       "    }\n",
       "\n",
       "    .dataframe tbody tr th {\n",
       "        vertical-align: top;\n",
       "    }\n",
       "\n",
       "    .dataframe thead th {\n",
       "        text-align: right;\n",
       "    }\n",
       "</style>\n",
       "<table border=\"1\" class=\"dataframe\">\n",
       "  <thead>\n",
       "    <tr style=\"text-align: right;\">\n",
       "      <th></th>\n",
       "      <th>count</th>\n",
       "      <th>number_mean</th>\n",
       "      <th>okrug</th>\n",
       "    </tr>\n",
       "    <tr>\n",
       "      <th>street</th>\n",
       "      <th></th>\n",
       "      <th></th>\n",
       "      <th></th>\n",
       "    </tr>\n",
       "  </thead>\n",
       "  <tbody>\n",
       "    <tr>\n",
       "      <td>проспект мира</td>\n",
       "      <td>203</td>\n",
       "      <td>63.00</td>\n",
       "      <td>СВАО</td>\n",
       "    </tr>\n",
       "    <tr>\n",
       "      <td>пресненская набережная</td>\n",
       "      <td>167</td>\n",
       "      <td>45.84</td>\n",
       "      <td>ЦАО</td>\n",
       "    </tr>\n",
       "    <tr>\n",
       "      <td>проспект вернадского</td>\n",
       "      <td>128</td>\n",
       "      <td>68.80</td>\n",
       "      <td>ЗАО</td>\n",
       "    </tr>\n",
       "    <tr>\n",
       "      <td>кутузовский проспект</td>\n",
       "      <td>114</td>\n",
       "      <td>85.06</td>\n",
       "      <td>ЗАО</td>\n",
       "    </tr>\n",
       "    <tr>\n",
       "      <td>каширское шоссе</td>\n",
       "      <td>111</td>\n",
       "      <td>55.50</td>\n",
       "      <td>ЮАО</td>\n",
       "    </tr>\n",
       "    <tr>\n",
       "      <td>кировоградская улица</td>\n",
       "      <td>108</td>\n",
       "      <td>59.79</td>\n",
       "      <td>ЮАО</td>\n",
       "    </tr>\n",
       "    <tr>\n",
       "      <td>ходынский бульвар</td>\n",
       "      <td>102</td>\n",
       "      <td>18.95</td>\n",
       "      <td>САО</td>\n",
       "    </tr>\n",
       "    <tr>\n",
       "      <td>ленинградское шоссе</td>\n",
       "      <td>100</td>\n",
       "      <td>44.68</td>\n",
       "      <td>САО</td>\n",
       "    </tr>\n",
       "    <tr>\n",
       "      <td>дмитровское шоссе</td>\n",
       "      <td>100</td>\n",
       "      <td>63.19</td>\n",
       "      <td>САО</td>\n",
       "    </tr>\n",
       "    <tr>\n",
       "      <td>улица новый арбат</td>\n",
       "      <td>92</td>\n",
       "      <td>54.18</td>\n",
       "      <td>ЦАО</td>\n",
       "    </tr>\n",
       "  </tbody>\n",
       "</table>\n",
       "</div>"
      ],
      "text/plain": [
       "                        count  number_mean okrug\n",
       "street                                          \n",
       "проспект мира             203        63.00  СВАО\n",
       "пресненская набережная    167        45.84   ЦАО\n",
       "проспект вернадского      128        68.80   ЗАО\n",
       "кутузовский проспект      114        85.06   ЗАО\n",
       "каширское шоссе           111        55.50   ЮАО\n",
       "кировоградская улица      108        59.79   ЮАО\n",
       "ходынский бульвар         102        18.95   САО\n",
       "ленинградское шоссе       100        44.68   САО\n",
       "дмитровское шоссе         100        63.19   САО\n",
       "улица новый арбат          92        54.18   ЦАО"
      ]
     },
     "execution_count": 30,
     "metadata": {},
     "output_type": "execute_result"
    }
   ],
   "source": [
    "establ_agg.head(10)"
   ]
  },
  {
   "cell_type": "code",
   "execution_count": 31,
   "metadata": {},
   "outputs": [
    {
     "data": {
      "text/plain": [
       "55.899"
      ]
     },
     "execution_count": 31,
     "metadata": {},
     "output_type": "execute_result"
    }
   ],
   "source": [
    "establ_agg.head(10)['number_mean'].mean()"
   ]
  },
  {
   "cell_type": "code",
   "execution_count": 32,
   "metadata": {},
   "outputs": [
    {
     "data": {
      "image/png": "[encoded data removed]",
      "text/plain": [
       "<Figure size 1008x360 with 1 Axes>"
      ]
     },
     "metadata": {
      "needs_background": "light"
     },
     "output_type": "display_data"
    }
   ],
   "source": [
    "plt.figure(figsize=(14, 5))\n",
    "sns.barplot(x='street', y = 'count', data=establ_agg.reset_index().head(10)) \n",
    "plt.xticks(np.arange(10), ('проспект\\nМира', 'Профсоюзная\\nулица', 'Ленинградский\\nпроспект', 'Пресненская\\nнабережная', \n",
    "                 'Варшавское\\nшоссе', 'Ленинский\\nпроспект', 'город\\nЗеленоград', 'проспект\\nВернадского', \n",
    "                 'Кутузовский\\nпроспект', 'Каширское\\nшоссе'))\n",
    "plt.title('ТОП-10 улиц Москвы по количеству предприятий общественного питания')\n",
    "plt.ylabel('Количество предприятий')\n",
    "plt.xlabel(' ')\n",
    "plt.show()"
   ]
  },
  {
   "cell_type": "markdown",
   "metadata": {},
   "source": [
    "Тройка лидеров - улиц по числу предприятий общественного питания - прспект Мира, Профсоюзная улица, Ленинградский проспект.\n",
    "Это большие улицы, проходящие через несколько округов города. Значения топа распределились по различным округам, 1 значение из СВАО, по 2 ЗАО, ЮАО, ЦАО, 3 значения САО. Среднее число посадочных мест в заведениях топа 10 улиц - 56 мест."
   ]
  },
  {
   "cell_type": "markdown",
   "metadata": {},
   "source": [
    "Найдем число улиц с одним объектом общественного питания."
   ]
  },
  {
   "cell_type": "code",
   "execution_count": 33,
   "metadata": {},
   "outputs": [
    {
     "data": {
      "text/plain": [
       "705"
      ]
     },
     "execution_count": 33,
     "metadata": {},
     "output_type": "execute_result"
    }
   ],
   "source": [
    "establ_agg.query('count==1').count()[0]"
   ]
  },
  {
   "cell_type": "code",
   "execution_count": 34,
   "metadata": {},
   "outputs": [
    {
     "data": {
      "text/plain": [
       "0.3384541526644263"
      ]
     },
     "execution_count": 34,
     "metadata": {},
     "output_type": "execute_result"
    }
   ],
   "source": [
    "establ_agg.query('count==1').count()[0]/len(establ_agg)"
   ]
  },
  {
   "cell_type": "markdown",
   "metadata": {},
   "source": [
    "Узнаем, в каких районах Москвы находятся эти улицы"
   ]
  },
  {
   "cell_type": "code",
   "execution_count": 35,
   "metadata": {},
   "outputs": [
    {
     "data": {
      "image/png": "[encoded data removed]",
      "text/plain": [
       "<Figure size 720x360 with 1 Axes>"
      ]
     },
     "metadata": {
      "needs_background": "light"
     },
     "output_type": "display_data"
    }
   ],
   "source": [
    "plt.figure(figsize=(10, 5))\n",
    "sns.countplot(x='okrug', data=establ_agg.query('okrug!=0 & count==1'),\n",
    "             order = establ_agg.query('okrug!=0 & count==1')['okrug'].value_counts().index)\n",
    "plt.xticks(np.arange(10), ('ЦАО', 'СВАО', 'ВАО', 'ЮВАО', 'САО', 'ЗАО', 'ЮАО', 'ЮЗАО', 'СЗАО',\n",
    "       'Зеленоград'))\n",
    "plt.title('Количество улиц с одним предприятием общественного питания по округам г. Москвы')\n",
    "plt.ylabel('Количество предприятий')\n",
    "plt.xlabel(' ')\n",
    "plt.show()"
   ]
  },
  {
   "cell_type": "markdown",
   "metadata": {},
   "source": [
    "Около 34% улиц рассмотренного датасета имют по одному заведению общественного питания. Нибольшее число единичных предприятий находятся на улицах ЦАО."
   ]
  },
  {
   "cell_type": "markdown",
   "metadata": {},
   "source": [
    "#### Вывод\n",
    "Исследовали соотношение видов объектов общественного питания по количеству. Больше всего предприятий имеют тип \"Кафе\" - 6071 шт, приблизительно на одном уровне находятся \"столовая\" - 2584, \"ресторан\" - 2282, \"предприятие быстрого обслуживания\" - 1897.\n",
    "Исследовали соотношение сетевых и несетевых заведений по количеству.Сетевых заведений значительно меньше 2964 шт, чем не сетевых - 12317 шт. В основном сетевыми являются кафе, предприятия быстрого питания, рестораны. В остальных категориях число сетевых заведений мало. ТОП-3 предприятий по количеству посадочных мест - Столовая, Ресторан, Бар/Кафе. Распределение посадочных мест не нормально, лучше всего значение отражает медиана. Для сети характерно несколько заведений(75% укладывается до 3) с числом посадочных мест 40.\n",
    "\n",
    "Тройка лидеров - улиц по числу предприятий общественного питания - прспект Мира, Профсоюзная улица, Ленинградский проспект. Это большие улицы, проходящие через несколько округов города. Значения топа распределились по различным округам, 1 значение из СВАО, по 2 ЗАО, ЮАО, ЦАО, 3 значения САО. Среднее число посадочных мест в заведениях топа 10 улиц - 56 мест. Около 34% улиц рассмотренного датасета имют по одному заведению общественного питания. Нибольшее число единичных предприятий находятся на улицах ЦАО."
   ]
  },
  {
   "cell_type": "markdown",
   "metadata": {},
   "source": [
    "## Шаг №3. Подготовка презентации"
   ]
  },
  {
   "cell_type": "markdown",
   "metadata": {},
   "source": [
    "Презентация: <https://drive.google.com/file/d/1lGJxIF5cSBrAN26jK9bj9VEzQHwroqaf/view?usp=sharing> "
   ]
  },
  {
   "cell_type": "markdown",
   "metadata": {},
   "source": [
    "## Вывод"
   ]
  },
  {
   "cell_type": "markdown",
   "metadata": {},
   "source": [
    "Мы загрузили данные о заведениях общественного питания Москвы в датафрейм. Типы всех колонок верные, пропуски остутствуют, данные текстовых столбцов были приведены к нижнему регистру. У 10% заведений число посадочных мест равно нулю, что не является аномалией, это могут быть пункты выдачи сетевых кафе и фудкорты. Были обнаружены дубликаты - заведения с одинаковыми названиями и адресом, числом посадочных мест, но разным id. Считаем, что несколько заведений могут находиться по одному адресу(например в торговом центре). Таких значений около 0.5%, удалили их, что существенно не повлияло на результаты анализа.\n",
    "\n",
    "Исследовали соотношение видов объектов общественного питания по количеству. Больше всего предприятий имеют тип \"Кафе\" - 6071 шт, приблизительно на одном уровне находятся \"столовая\" - 2584, \"ресторан\" - 2282, \"предприятие быстрого обслуживания\" - 1897. Исследовали соотношение сетевых и несетевых заведений по количеству.Сетевых заведений значительно меньше 2964 шт, чем не сетевых - 12317 шт. В основном сетевыми являются кафе, предприятия быстрого питания, рестораны. В остальных категориях число сетевых заведений мало. ТОП-3 предприятий по количеству посадочных мест - Столовая, Ресторан, Бар/Кафе. Распределение посадочных мест не нормально, лучше всего значение отражает медиана. Для сети характерно несколько заведений(75% укладывается до 3) с числом посадочных мест 40.\n",
    "\n",
    "Тройка лидеров - улиц по числу предприятий общественного питания - прспект Мира, Профсоюзная улица, Ленинградский проспект. Это большие улицы, проходящие через несколько округов города. Значения топа распределились по различным округам, 1 значение из СВАО, по 2 ЗАО, ЮАО, ЦАО, 3 значения САО. Среднее число посадочных мест в заведениях топа 10 улиц - 56 мест. Около 34% улиц рассмотренного датасета имют по одному заведению общественного питания. Нибольшее число единичных предприятий находятся на улицах ЦАО.\n",
    "\n",
    "Формат кафе наиболее удачно подходит для концепции нашего заведения. Для единичного предприятия не сетевой структуры выбираем местоположение - Центральный Административный округ. Число посадочных мест кафе 30-40."
   ]
  }
 ],
 "metadata": {
  "kernelspec": {
   "display_name": "Python 3",
   "language": "python",
   "name": "python3"
  },
  "language_info": {
   "codemirror_mode": {
    "name": "ipython",
    "version": 3
   },
   "file_extension": ".py",
   "mimetype": "text/x-python",
   "name": "python",
   "nbconvert_exporter": "python",
   "pygments_lexer": "ipython3",
   "version": "3.7.5"
  },
  "toc": {
   "base_numbering": 1,
   "nav_menu": {},
   "number_sections": false,
   "sideBar": true,
   "skip_h1_title": true,
   "title_cell": "Table of Contents",
   "title_sidebar": "Рынок заведений общественного питания",
   "toc_cell": false,
   "toc_position": {},
   "toc_section_display": true,
   "toc_window_display": false
  }
 },
 "nbformat": 4,
 "nbformat_minor": 2
}
