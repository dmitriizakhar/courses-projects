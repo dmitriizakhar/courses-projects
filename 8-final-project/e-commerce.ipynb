{
 "cells": [
  {
   "cell_type": "markdown",
   "metadata": {},
   "source": [
    "# E-commerce — Выявление профилей потребления\n",
    "\n",
    "***Задача:*** Провести исследовнаие, сегментировать покупателей по профилю потребления для создание пресонализированных предложений для покупателей.\n",
    "\n",
    "***Заказчик:*** менеджер продукта, который отвечает за пользовательский опыт.\n",
    "\n",
    "### Описание данных:\n",
    "\n",
    "Датасет описывает транзакции интернет-магазина товаров для дома и быта «Пока все ещё тут».\n",
    "\n",
    "Колонки в  *ecommerce_dataset.csv* :\n",
    "\n",
    "- `date` — дата заказа;\n",
    "- `customer_id` — идентификатор покупателя;\n",
    "- `order_id` — идентификатор заказа;\n",
    "- `product` — наименование товара;\n",
    "- `quantity` — количество товара в заказе;\n",
    "- `price` — цена товара."
   ]
  },
  {
   "cell_type": "markdown",
   "metadata": {},
   "source": [
    "### Оглавление\n",
    "- [Загрузка данных](#load)\n",
    "- [Предобработка данных](#preprocessing)\n",
    "- [Исследовательский анализ данных](#eda)\n",
    " - Разбивка товаров по категориям\n",
    " - Исследование выручки и продаж по месяцам\n",
    " - Исследование среднего чека в разбивке категорий\n",
    " - Исследование выручки в разбивке категорий\n",
    " - Выделение топа товаров по количествку\n",
    " - Выделение топа товаров по продажам\n",
    " - Исследование сезонности категорий товаров\n",
    "- [Сегментация пользователей](#segmentation)\n",
    " - исследование особенностей кластеров пользователей\n",
    "- [Проверка статистических гипотез](#abtests)\n",
    "- [Формулирование выводов  и рекомендаций](#conclusion)\n",
    "- [Материалы исследования(Презентация, дашборд)](#material)"
   ]
  },
  {
   "cell_type": "markdown",
   "metadata": {},
   "source": [
    "## Загрузка данных\n",
    "<a id = 'load'></a>"
   ]
  },
  {
   "cell_type": "code",
   "execution_count": 1,
   "metadata": {},
   "outputs": [],
   "source": [
    "import pandas as pd\n",
    "from pymystem3 import Mystem\n",
    "from collections import Counter\n",
    "import pprint\n",
    "import seaborn as sns\n",
    "import matplotlib.pyplot as plt\n",
    "import numpy as np\n",
    "from sklearn.preprocessing import StandardScaler\n",
    "from sklearn.cluster import KMeans\n",
    "from scipy.cluster.hierarchy import dendrogram, linkage\n",
    "from sklearn.preprocessing import OneHotEncoder\n",
    "from scipy import stats as st\n",
    "import warnings\n",
    "warnings.filterwarnings('ignore')"
   ]
  },
  {
   "cell_type": "code",
   "execution_count": 2,
   "metadata": {},
   "outputs": [],
   "source": [
    "data = pd.read_csv('/datasets/ecommerce_dataset.csv')"
   ]
  },
  {
   "cell_type": "code",
   "execution_count": 3,
   "metadata": {},
   "outputs": [
    {
     "data": {
      "text/html": [
       "<div>\n",
       "<style scoped>\n",
       "    .dataframe tbody tr th:only-of-type {\n",
       "        vertical-align: middle;\n",
       "    }\n",
       "\n",
       "    .dataframe tbody tr th {\n",
       "        vertical-align: top;\n",
       "    }\n",
       "\n",
       "    .dataframe thead th {\n",
       "        text-align: right;\n",
       "    }\n",
       "</style>\n",
       "<table border=\"1\" class=\"dataframe\">\n",
       "  <thead>\n",
       "    <tr style=\"text-align: right;\">\n",
       "      <th></th>\n",
       "      <th>date</th>\n",
       "      <th>customer_id</th>\n",
       "      <th>order_id</th>\n",
       "      <th>product</th>\n",
       "      <th>quantity</th>\n",
       "      <th>price</th>\n",
       "    </tr>\n",
       "  </thead>\n",
       "  <tbody>\n",
       "    <tr>\n",
       "      <td>0</td>\n",
       "      <td>2018100100</td>\n",
       "      <td>ee47d746-6d2f-4d3c-9622-c31412542920</td>\n",
       "      <td>68477</td>\n",
       "      <td>Комнатное растение в горшке Алое Вера, d12, h30</td>\n",
       "      <td>1</td>\n",
       "      <td>142.0</td>\n",
       "    </tr>\n",
       "    <tr>\n",
       "      <td>1</td>\n",
       "      <td>2018100100</td>\n",
       "      <td>ee47d746-6d2f-4d3c-9622-c31412542920</td>\n",
       "      <td>68477</td>\n",
       "      <td>Комнатное растение в горшке Кофе Арабика, d12,...</td>\n",
       "      <td>1</td>\n",
       "      <td>194.0</td>\n",
       "    </tr>\n",
       "    <tr>\n",
       "      <td>2</td>\n",
       "      <td>2018100100</td>\n",
       "      <td>ee47d746-6d2f-4d3c-9622-c31412542920</td>\n",
       "      <td>68477</td>\n",
       "      <td>Радермахера d-12 см h-20 см</td>\n",
       "      <td>1</td>\n",
       "      <td>112.0</td>\n",
       "    </tr>\n",
       "    <tr>\n",
       "      <td>3</td>\n",
       "      <td>2018100100</td>\n",
       "      <td>ee47d746-6d2f-4d3c-9622-c31412542920</td>\n",
       "      <td>68477</td>\n",
       "      <td>Хризолидокарпус Лутесценс d-9 см</td>\n",
       "      <td>1</td>\n",
       "      <td>179.0</td>\n",
       "    </tr>\n",
       "    <tr>\n",
       "      <td>4</td>\n",
       "      <td>2018100100</td>\n",
       "      <td>ee47d746-6d2f-4d3c-9622-c31412542920</td>\n",
       "      <td>68477</td>\n",
       "      <td>Циперус Зумула d-12 см h-25 см</td>\n",
       "      <td>1</td>\n",
       "      <td>112.0</td>\n",
       "    </tr>\n",
       "  </tbody>\n",
       "</table>\n",
       "</div>"
      ],
      "text/plain": [
       "         date                           customer_id  order_id  \\\n",
       "0  2018100100  ee47d746-6d2f-4d3c-9622-c31412542920     68477   \n",
       "1  2018100100  ee47d746-6d2f-4d3c-9622-c31412542920     68477   \n",
       "2  2018100100  ee47d746-6d2f-4d3c-9622-c31412542920     68477   \n",
       "3  2018100100  ee47d746-6d2f-4d3c-9622-c31412542920     68477   \n",
       "4  2018100100  ee47d746-6d2f-4d3c-9622-c31412542920     68477   \n",
       "\n",
       "                                             product  quantity  price  \n",
       "0    Комнатное растение в горшке Алое Вера, d12, h30         1  142.0  \n",
       "1  Комнатное растение в горшке Кофе Арабика, d12,...         1  194.0  \n",
       "2                        Радермахера d-12 см h-20 см         1  112.0  \n",
       "3                   Хризолидокарпус Лутесценс d-9 см         1  179.0  \n",
       "4                     Циперус Зумула d-12 см h-25 см         1  112.0  "
      ]
     },
     "execution_count": 3,
     "metadata": {},
     "output_type": "execute_result"
    }
   ],
   "source": [
    "data.head()"
   ]
  },
  {
   "cell_type": "code",
   "execution_count": 4,
   "metadata": {},
   "outputs": [
    {
     "name": "stdout",
     "output_type": "stream",
     "text": [
      "<class 'pandas.core.frame.DataFrame'>\n",
      "RangeIndex: 6737 entries, 0 to 6736\n",
      "Data columns (total 6 columns):\n",
      "date           6737 non-null int64\n",
      "customer_id    6737 non-null object\n",
      "order_id       6737 non-null int64\n",
      "product        6737 non-null object\n",
      "quantity       6737 non-null int64\n",
      "price          6737 non-null float64\n",
      "dtypes: float64(1), int64(3), object(2)\n",
      "memory usage: 315.9+ KB\n"
     ]
    }
   ],
   "source": [
    "data.info()"
   ]
  },
  {
   "cell_type": "code",
   "execution_count": 5,
   "metadata": {},
   "outputs": [
    {
     "data": {
      "text/plain": [
       "0"
      ]
     },
     "execution_count": 5,
     "metadata": {},
     "output_type": "execute_result"
    }
   ],
   "source": [
    "data.duplicated().sum()"
   ]
  },
  {
   "cell_type": "markdown",
   "metadata": {},
   "source": [
    "Данные загружены, сформирован датасет. Не обнаружено пропусков и дубликатов, необходимо привести колонку даты к соответствующему типу."
   ]
  },
  {
   "cell_type": "markdown",
   "metadata": {},
   "source": [
    "## Предобработка данных \n",
    "<a id = 'preprocessing'></a>"
   ]
  },
  {
   "cell_type": "markdown",
   "metadata": {},
   "source": [
    "Приведет колонку 'date' к типу даты, добавим колонки года, недели и месяца, посчитаем выручку, зная цену товара и чисо покупок."
   ]
  },
  {
   "cell_type": "code",
   "execution_count": 6,
   "metadata": {},
   "outputs": [],
   "source": [
    "data['date'] = pd.to_datetime(data['date'], format = '%Y%m%d%H')"
   ]
  },
  {
   "cell_type": "code",
   "execution_count": 7,
   "metadata": {},
   "outputs": [],
   "source": [
    "data['year'] = data['date'].dt.year\n",
    "data['week'] = data['date'].dt.week\n",
    "data['month'] = data['date'].dt.month"
   ]
  },
  {
   "cell_type": "code",
   "execution_count": 8,
   "metadata": {},
   "outputs": [],
   "source": [
    "data['cost'] = data['price'] * data['quantity']"
   ]
  },
  {
   "cell_type": "code",
   "execution_count": 9,
   "metadata": {},
   "outputs": [
    {
     "data": {
      "text/html": [
       "<div>\n",
       "<style scoped>\n",
       "    .dataframe tbody tr th:only-of-type {\n",
       "        vertical-align: middle;\n",
       "    }\n",
       "\n",
       "    .dataframe tbody tr th {\n",
       "        vertical-align: top;\n",
       "    }\n",
       "\n",
       "    .dataframe thead th {\n",
       "        text-align: right;\n",
       "    }\n",
       "</style>\n",
       "<table border=\"1\" class=\"dataframe\">\n",
       "  <thead>\n",
       "    <tr style=\"text-align: right;\">\n",
       "      <th></th>\n",
       "      <th>date</th>\n",
       "      <th>customer_id</th>\n",
       "      <th>order_id</th>\n",
       "      <th>product</th>\n",
       "      <th>quantity</th>\n",
       "      <th>price</th>\n",
       "      <th>year</th>\n",
       "      <th>week</th>\n",
       "      <th>month</th>\n",
       "      <th>cost</th>\n",
       "    </tr>\n",
       "  </thead>\n",
       "  <tbody>\n",
       "    <tr>\n",
       "      <td>0</td>\n",
       "      <td>2018-10-01</td>\n",
       "      <td>ee47d746-6d2f-4d3c-9622-c31412542920</td>\n",
       "      <td>68477</td>\n",
       "      <td>Комнатное растение в горшке Алое Вера, d12, h30</td>\n",
       "      <td>1</td>\n",
       "      <td>142.0</td>\n",
       "      <td>2018</td>\n",
       "      <td>40</td>\n",
       "      <td>10</td>\n",
       "      <td>142.0</td>\n",
       "    </tr>\n",
       "    <tr>\n",
       "      <td>1</td>\n",
       "      <td>2018-10-01</td>\n",
       "      <td>ee47d746-6d2f-4d3c-9622-c31412542920</td>\n",
       "      <td>68477</td>\n",
       "      <td>Комнатное растение в горшке Кофе Арабика, d12,...</td>\n",
       "      <td>1</td>\n",
       "      <td>194.0</td>\n",
       "      <td>2018</td>\n",
       "      <td>40</td>\n",
       "      <td>10</td>\n",
       "      <td>194.0</td>\n",
       "    </tr>\n",
       "    <tr>\n",
       "      <td>2</td>\n",
       "      <td>2018-10-01</td>\n",
       "      <td>ee47d746-6d2f-4d3c-9622-c31412542920</td>\n",
       "      <td>68477</td>\n",
       "      <td>Радермахера d-12 см h-20 см</td>\n",
       "      <td>1</td>\n",
       "      <td>112.0</td>\n",
       "      <td>2018</td>\n",
       "      <td>40</td>\n",
       "      <td>10</td>\n",
       "      <td>112.0</td>\n",
       "    </tr>\n",
       "    <tr>\n",
       "      <td>3</td>\n",
       "      <td>2018-10-01</td>\n",
       "      <td>ee47d746-6d2f-4d3c-9622-c31412542920</td>\n",
       "      <td>68477</td>\n",
       "      <td>Хризолидокарпус Лутесценс d-9 см</td>\n",
       "      <td>1</td>\n",
       "      <td>179.0</td>\n",
       "      <td>2018</td>\n",
       "      <td>40</td>\n",
       "      <td>10</td>\n",
       "      <td>179.0</td>\n",
       "    </tr>\n",
       "    <tr>\n",
       "      <td>4</td>\n",
       "      <td>2018-10-01</td>\n",
       "      <td>ee47d746-6d2f-4d3c-9622-c31412542920</td>\n",
       "      <td>68477</td>\n",
       "      <td>Циперус Зумула d-12 см h-25 см</td>\n",
       "      <td>1</td>\n",
       "      <td>112.0</td>\n",
       "      <td>2018</td>\n",
       "      <td>40</td>\n",
       "      <td>10</td>\n",
       "      <td>112.0</td>\n",
       "    </tr>\n",
       "  </tbody>\n",
       "</table>\n",
       "</div>"
      ],
      "text/plain": [
       "        date                           customer_id  order_id  \\\n",
       "0 2018-10-01  ee47d746-6d2f-4d3c-9622-c31412542920     68477   \n",
       "1 2018-10-01  ee47d746-6d2f-4d3c-9622-c31412542920     68477   \n",
       "2 2018-10-01  ee47d746-6d2f-4d3c-9622-c31412542920     68477   \n",
       "3 2018-10-01  ee47d746-6d2f-4d3c-9622-c31412542920     68477   \n",
       "4 2018-10-01  ee47d746-6d2f-4d3c-9622-c31412542920     68477   \n",
       "\n",
       "                                             product  quantity  price  year  \\\n",
       "0    Комнатное растение в горшке Алое Вера, d12, h30         1  142.0  2018   \n",
       "1  Комнатное растение в горшке Кофе Арабика, d12,...         1  194.0  2018   \n",
       "2                        Радермахера d-12 см h-20 см         1  112.0  2018   \n",
       "3                   Хризолидокарпус Лутесценс d-9 см         1  179.0  2018   \n",
       "4                     Циперус Зумула d-12 см h-25 см         1  112.0  2018   \n",
       "\n",
       "   week  month   cost  \n",
       "0    40     10  142.0  \n",
       "1    40     10  194.0  \n",
       "2    40     10  112.0  \n",
       "3    40     10  179.0  \n",
       "4    40     10  112.0  "
      ]
     },
     "execution_count": 9,
     "metadata": {},
     "output_type": "execute_result"
    }
   ],
   "source": [
    "data.head()"
   ]
  },
  {
   "cell_type": "markdown",
   "metadata": {},
   "source": [
    "Найдем персентили основных признаков, чтобы очистить датасет от аномальных значений"
   ]
  },
  {
   "cell_type": "code",
   "execution_count": 10,
   "metadata": {},
   "outputs": [
    {
     "data": {
      "text/plain": [
       "array([  38., 1949.])"
      ]
     },
     "execution_count": 10,
     "metadata": {},
     "output_type": "execute_result"
    }
   ],
   "source": [
    "np.percentile(data['price'], [5, 95])"
   ]
  },
  {
   "cell_type": "code",
   "execution_count": 11,
   "metadata": {},
   "outputs": [
    {
     "data": {
      "text/plain": [
       "array([1., 6.])"
      ]
     },
     "execution_count": 11,
     "metadata": {},
     "output_type": "execute_result"
    }
   ],
   "source": [
    "np.percentile(data['quantity'], [5, 95])"
   ]
  },
  {
   "cell_type": "code",
   "execution_count": 12,
   "metadata": {},
   "outputs": [
    {
     "data": {
      "text/plain": [
       "array([  38., 5594.])"
      ]
     },
     "execution_count": 12,
     "metadata": {},
     "output_type": "execute_result"
    }
   ],
   "source": [
    "np.percentile(data['cost'], [5, 99])"
   ]
  },
  {
   "cell_type": "markdown",
   "metadata": {},
   "source": [
    "Очистим датасет по полученным значениям персентилей"
   ]
  },
  {
   "cell_type": "code",
   "execution_count": 13,
   "metadata": {},
   "outputs": [],
   "source": [
    "data = data.query('price<=1949 & price>38')\n",
    "data = data.query('quantity<=6')\n",
    "data = data.query('cost<=1950')"
   ]
  },
  {
   "cell_type": "markdown",
   "metadata": {},
   "source": [
    "Данные очищены от аномальных значений, добавлены новые признаки, типы колонок приведены в соответсвие с данными. Данные готовы для анализа."
   ]
  },
  {
   "cell_type": "markdown",
   "metadata": {},
   "source": [
    "## Исследовательский анализ данных\n",
    "<a id = 'eda'></a>"
   ]
  },
  {
   "cell_type": "markdown",
   "metadata": {},
   "source": [
    "Проведем лемматизацию, чтобы выделить категории товаров"
   ]
  },
  {
   "cell_type": "code",
   "execution_count": 14,
   "metadata": {},
   "outputs": [
    {
     "data": {
      "text/plain": [
       "0      Комнатное растение в горшке Алое Вера, d12, h30\n",
       "1    Комнатное растение в горшке Кофе Арабика, d12,...\n",
       "2                          Радермахера d-12 см h-20 см\n",
       "3                     Хризолидокарпус Лутесценс d-9 см\n",
       "4                       Циперус Зумула d-12 см h-25 см\n",
       "Name: product, dtype: object"
      ]
     },
     "execution_count": 14,
     "metadata": {},
     "output_type": "execute_result"
    }
   ],
   "source": [
    "data['product'].head()"
   ]
  },
  {
   "cell_type": "code",
   "execution_count": 15,
   "metadata": {},
   "outputs": [],
   "source": [
    "m = Mystem() \n",
    "product_lemm = data.apply(lambda row: m.lemmatize(row['product']), axis=1)"
   ]
  },
  {
   "cell_type": "code",
   "execution_count": 16,
   "metadata": {},
   "outputs": [],
   "source": [
    "mas_lemm = []\n",
    "for elem in product_lemm:\n",
    "    mas_lemm.extend(elem)"
   ]
  },
  {
   "cell_type": "code",
   "execution_count": 17,
   "metadata": {
    "scrolled": false
   },
   "outputs": [],
   "source": [
    "#pprint.pprint(Counter(list(filter(lambda x: len(x) > 4 and ~x.isdigit(), [i for i in mas_lemm]))))"
   ]
  },
  {
   "cell_type": "code",
   "execution_count": 18,
   "metadata": {},
   "outputs": [],
   "source": [
    "category_dict = {\n",
    "    'растения': ['рассада', 'пеларгония', 'кабачок', 'зелень', 'огурец', 'томат', 'петуния', 'помидор', 'растение',\n",
    "                'крупноцветковый', 'цветок', 'капуста', 'тагетис', 'однолетний', 'арбуз', 'вербена', 'герань',\n",
    "                'тыква', 'базилик', 'лобелия', 'клубника', 'флокс', 'цикламен', 'гунни', 'циперус', 'груша', \n",
    "                'зумула', 'фиалка', 'баклажан', 'плющелистный', 'тюльпановидный', 'персик', 'бегония', 'тимьян', \n",
    "                'виола', 'виноград', 'пуансеттия', 'розебудный', 'комнатный', 'растение', 'калибрахоа'],\n",
    "    'хоз товары': ['тележка', ' сушилка', 'доска', 'гладильный', 'стремянка', 'сумка', 'кухонный', 'унитазный', 'скатерть',\n",
    "                  ],\n",
    "    'посуда': ['тарелка', 'набор', 'салатник', 'обеденный', 'десертный', 'набор'],\n",
    "    'интерьер': ['корзина', 'кашпо', 'муляж', 'коврик', 'домашний', 'искусственный', 'коврик', 'штора', 'вешалка', \n",
    "                 'декоративная', 'комод','покрывало', 'одеяло', 'фоторамка','этажерка', 'полки', 'кухонное','подарочный',\n",
    "                 'наматрацник', 'стеллаж', 'складной',\n",
    "                ],\n",
    "    'техника': ['миксер', 'чайник', 'весы', 'пылесос', 'утюг', 'кипятильник', 'соковыжималка', 'кипятильник', 'фен'],\n",
    "}"
   ]
  },
  {
   "cell_type": "code",
   "execution_count": 19,
   "metadata": {},
   "outputs": [],
   "source": [
    "def category(lemm_str):\n",
    "    for key, value in category_dict.items():\n",
    "        for value_word in value:\n",
    "            if value_word in lemm_str:\n",
    "                return key\n",
    "    return 'другое'"
   ]
  },
  {
   "cell_type": "code",
   "execution_count": 20,
   "metadata": {},
   "outputs": [],
   "source": [
    "data['category'] = product_lemm.apply(category)"
   ]
  },
  {
   "cell_type": "code",
   "execution_count": 21,
   "metadata": {},
   "outputs": [
    {
     "data": {
      "text/plain": [
       "растения      3005\n",
       "другое        1436\n",
       "хоз товары     611\n",
       "интерьер       343\n",
       "посуда          92\n",
       "техника         33\n",
       "Name: category, dtype: int64"
      ]
     },
     "execution_count": 21,
     "metadata": {},
     "output_type": "execute_result"
    }
   ],
   "source": [
    "data['category'].value_counts()"
   ]
  },
  {
   "cell_type": "code",
   "execution_count": 22,
   "metadata": {},
   "outputs": [
    {
     "data": {
      "text/html": [
       "<div>\n",
       "<style scoped>\n",
       "    .dataframe tbody tr th:only-of-type {\n",
       "        vertical-align: middle;\n",
       "    }\n",
       "\n",
       "    .dataframe tbody tr th {\n",
       "        vertical-align: top;\n",
       "    }\n",
       "\n",
       "    .dataframe thead th {\n",
       "        text-align: right;\n",
       "    }\n",
       "</style>\n",
       "<table border=\"1\" class=\"dataframe\">\n",
       "  <thead>\n",
       "    <tr style=\"text-align: right;\">\n",
       "      <th></th>\n",
       "      <th>date</th>\n",
       "      <th>customer_id</th>\n",
       "      <th>order_id</th>\n",
       "      <th>product</th>\n",
       "      <th>quantity</th>\n",
       "      <th>price</th>\n",
       "      <th>year</th>\n",
       "      <th>week</th>\n",
       "      <th>month</th>\n",
       "      <th>cost</th>\n",
       "      <th>category</th>\n",
       "    </tr>\n",
       "  </thead>\n",
       "  <tbody>\n",
       "    <tr>\n",
       "      <td>0</td>\n",
       "      <td>2018-10-01</td>\n",
       "      <td>ee47d746-6d2f-4d3c-9622-c31412542920</td>\n",
       "      <td>68477</td>\n",
       "      <td>Комнатное растение в горшке Алое Вера, d12, h30</td>\n",
       "      <td>1</td>\n",
       "      <td>142.0</td>\n",
       "      <td>2018</td>\n",
       "      <td>40</td>\n",
       "      <td>10</td>\n",
       "      <td>142.0</td>\n",
       "      <td>растения</td>\n",
       "    </tr>\n",
       "    <tr>\n",
       "      <td>1</td>\n",
       "      <td>2018-10-01</td>\n",
       "      <td>ee47d746-6d2f-4d3c-9622-c31412542920</td>\n",
       "      <td>68477</td>\n",
       "      <td>Комнатное растение в горшке Кофе Арабика, d12,...</td>\n",
       "      <td>1</td>\n",
       "      <td>194.0</td>\n",
       "      <td>2018</td>\n",
       "      <td>40</td>\n",
       "      <td>10</td>\n",
       "      <td>194.0</td>\n",
       "      <td>растения</td>\n",
       "    </tr>\n",
       "    <tr>\n",
       "      <td>2</td>\n",
       "      <td>2018-10-01</td>\n",
       "      <td>ee47d746-6d2f-4d3c-9622-c31412542920</td>\n",
       "      <td>68477</td>\n",
       "      <td>Радермахера d-12 см h-20 см</td>\n",
       "      <td>1</td>\n",
       "      <td>112.0</td>\n",
       "      <td>2018</td>\n",
       "      <td>40</td>\n",
       "      <td>10</td>\n",
       "      <td>112.0</td>\n",
       "      <td>другое</td>\n",
       "    </tr>\n",
       "    <tr>\n",
       "      <td>3</td>\n",
       "      <td>2018-10-01</td>\n",
       "      <td>ee47d746-6d2f-4d3c-9622-c31412542920</td>\n",
       "      <td>68477</td>\n",
       "      <td>Хризолидокарпус Лутесценс d-9 см</td>\n",
       "      <td>1</td>\n",
       "      <td>179.0</td>\n",
       "      <td>2018</td>\n",
       "      <td>40</td>\n",
       "      <td>10</td>\n",
       "      <td>179.0</td>\n",
       "      <td>другое</td>\n",
       "    </tr>\n",
       "    <tr>\n",
       "      <td>4</td>\n",
       "      <td>2018-10-01</td>\n",
       "      <td>ee47d746-6d2f-4d3c-9622-c31412542920</td>\n",
       "      <td>68477</td>\n",
       "      <td>Циперус Зумула d-12 см h-25 см</td>\n",
       "      <td>1</td>\n",
       "      <td>112.0</td>\n",
       "      <td>2018</td>\n",
       "      <td>40</td>\n",
       "      <td>10</td>\n",
       "      <td>112.0</td>\n",
       "      <td>растения</td>\n",
       "    </tr>\n",
       "  </tbody>\n",
       "</table>\n",
       "</div>"
      ],
      "text/plain": [
       "        date                           customer_id  order_id  \\\n",
       "0 2018-10-01  ee47d746-6d2f-4d3c-9622-c31412542920     68477   \n",
       "1 2018-10-01  ee47d746-6d2f-4d3c-9622-c31412542920     68477   \n",
       "2 2018-10-01  ee47d746-6d2f-4d3c-9622-c31412542920     68477   \n",
       "3 2018-10-01  ee47d746-6d2f-4d3c-9622-c31412542920     68477   \n",
       "4 2018-10-01  ee47d746-6d2f-4d3c-9622-c31412542920     68477   \n",
       "\n",
       "                                             product  quantity  price  year  \\\n",
       "0    Комнатное растение в горшке Алое Вера, d12, h30         1  142.0  2018   \n",
       "1  Комнатное растение в горшке Кофе Арабика, d12,...         1  194.0  2018   \n",
       "2                        Радермахера d-12 см h-20 см         1  112.0  2018   \n",
       "3                   Хризолидокарпус Лутесценс d-9 см         1  179.0  2018   \n",
       "4                     Циперус Зумула d-12 см h-25 см         1  112.0  2018   \n",
       "\n",
       "   week  month   cost  category  \n",
       "0    40     10  142.0  растения  \n",
       "1    40     10  194.0  растения  \n",
       "2    40     10  112.0    другое  \n",
       "3    40     10  179.0    другое  \n",
       "4    40     10  112.0  растения  "
      ]
     },
     "execution_count": 22,
     "metadata": {},
     "output_type": "execute_result"
    }
   ],
   "source": [
    "data.head()"
   ]
  },
  {
   "cell_type": "code",
   "execution_count": 23,
   "metadata": {},
   "outputs": [
    {
     "data": {
      "text/html": [
       "<div>\n",
       "<style scoped>\n",
       "    .dataframe tbody tr th:only-of-type {\n",
       "        vertical-align: middle;\n",
       "    }\n",
       "\n",
       "    .dataframe tbody tr th {\n",
       "        vertical-align: top;\n",
       "    }\n",
       "\n",
       "    .dataframe thead th {\n",
       "        text-align: right;\n",
       "    }\n",
       "</style>\n",
       "<table border=\"1\" class=\"dataframe\">\n",
       "  <thead>\n",
       "    <tr style=\"text-align: right;\">\n",
       "      <th></th>\n",
       "      <th></th>\n",
       "      <th>customer_id</th>\n",
       "      <th>quantity</th>\n",
       "      <th>cost</th>\n",
       "    </tr>\n",
       "    <tr>\n",
       "      <th>month</th>\n",
       "      <th>category</th>\n",
       "      <th></th>\n",
       "      <th></th>\n",
       "      <th></th>\n",
       "    </tr>\n",
       "  </thead>\n",
       "  <tbody>\n",
       "    <tr>\n",
       "      <td rowspan=\"5\" valign=\"top\">1</td>\n",
       "      <td>другое</td>\n",
       "      <td>55</td>\n",
       "      <td>87</td>\n",
       "      <td>31193.0</td>\n",
       "    </tr>\n",
       "    <tr>\n",
       "      <td>интерьер</td>\n",
       "      <td>18</td>\n",
       "      <td>27</td>\n",
       "      <td>14813.0</td>\n",
       "    </tr>\n",
       "    <tr>\n",
       "      <td>посуда</td>\n",
       "      <td>5</td>\n",
       "      <td>18</td>\n",
       "      <td>5307.0</td>\n",
       "    </tr>\n",
       "    <tr>\n",
       "      <td>растения</td>\n",
       "      <td>18</td>\n",
       "      <td>58</td>\n",
       "      <td>11369.0</td>\n",
       "    </tr>\n",
       "    <tr>\n",
       "      <td>техника</td>\n",
       "      <td>4</td>\n",
       "      <td>4</td>\n",
       "      <td>3604.0</td>\n",
       "    </tr>\n",
       "    <tr>\n",
       "      <td>...</td>\n",
       "      <td>...</td>\n",
       "      <td>...</td>\n",
       "      <td>...</td>\n",
       "      <td>...</td>\n",
       "    </tr>\n",
       "    <tr>\n",
       "      <td rowspan=\"5\" valign=\"top\">12</td>\n",
       "      <td>интерьер</td>\n",
       "      <td>28</td>\n",
       "      <td>39</td>\n",
       "      <td>24235.0</td>\n",
       "    </tr>\n",
       "    <tr>\n",
       "      <td>посуда</td>\n",
       "      <td>11</td>\n",
       "      <td>38</td>\n",
       "      <td>13197.0</td>\n",
       "    </tr>\n",
       "    <tr>\n",
       "      <td>растения</td>\n",
       "      <td>22</td>\n",
       "      <td>47</td>\n",
       "      <td>9048.0</td>\n",
       "    </tr>\n",
       "    <tr>\n",
       "      <td>техника</td>\n",
       "      <td>3</td>\n",
       "      <td>5</td>\n",
       "      <td>4196.0</td>\n",
       "    </tr>\n",
       "    <tr>\n",
       "      <td>хоз товары</td>\n",
       "      <td>48</td>\n",
       "      <td>77</td>\n",
       "      <td>73649.0</td>\n",
       "    </tr>\n",
       "  </tbody>\n",
       "</table>\n",
       "<p>70 rows × 3 columns</p>\n",
       "</div>"
      ],
      "text/plain": [
       "                  customer_id  quantity     cost\n",
       "month category                                  \n",
       "1     другое               55        87  31193.0\n",
       "      интерьер             18        27  14813.0\n",
       "      посуда                5        18   5307.0\n",
       "      растения             18        58  11369.0\n",
       "      техника               4         4   3604.0\n",
       "...                       ...       ...      ...\n",
       "12    интерьер             28        39  24235.0\n",
       "      посуда               11        38  13197.0\n",
       "      растения             22        47   9048.0\n",
       "      техника               3         5   4196.0\n",
       "      хоз товары           48        77  73649.0\n",
       "\n",
       "[70 rows x 3 columns]"
      ]
     },
     "execution_count": 23,
     "metadata": {},
     "output_type": "execute_result"
    }
   ],
   "source": [
    "rev_catseason = data.groupby(['month', 'category']).agg({'customer_id':'nunique',\n",
    "                                                         'quantity': 'sum',\n",
    "                                                         'cost':'sum'})\n",
    "rev_catseason"
   ]
  },
  {
   "cell_type": "code",
   "execution_count": 24,
   "metadata": {},
   "outputs": [
    {
     "data": {
      "image/png": "[encoded data removed]",
      "text/plain": [
       "<Figure size 432x288 with 1 Axes>"
      ]
     },
     "metadata": {
      "needs_background": "light"
     },
     "output_type": "display_data"
    }
   ],
   "source": [
    "sns.lineplot(x = 'month', y = 'cost', hue = 'category', data = rev_catseason.reset_index())\n",
    "plt.title('Выручка категорий по месяцам')\n",
    "plt.ylabel('Выручка')\n",
    "plt.xlabel('Месяц')\n",
    "plt.show()"
   ]
  },
  {
   "cell_type": "code",
   "execution_count": 25,
   "metadata": {},
   "outputs": [
    {
     "data": {
      "image/png": "[encoded data removed]",
      "text/plain": [
       "<Figure size 432x288 with 1 Axes>"
      ]
     },
     "metadata": {
      "needs_background": "light"
     },
     "output_type": "display_data"
    }
   ],
   "source": [
    "sns.lineplot(x = 'month', y = 'quantity', hue = 'category', data = rev_catseason.reset_index())\n",
    "plt.title('Продажи категорий по месяцам')\n",
    "plt.ylabel('Число продаж')\n",
    "plt.xlabel('Месяц')\n",
    "plt.legend (loc='upper left')\n",
    "plt.show()"
   ]
  },
  {
   "cell_type": "code",
   "execution_count": 26,
   "metadata": {},
   "outputs": [],
   "source": [
    "order_group = data.groupby('order_id').agg({'customer_id':'first',\n",
    "                                            'product':'count',\n",
    "                                            'price':['mean','sum'],\n",
    "                                            'category': lambda x:x.value_counts().index[0],\n",
    "                                            'date':'first'}).reset_index()\n",
    "order_group.columns = ['order_id', 'customer_id', 'product_count', 'mean_price', 'sum_price', 'category' ,'date']"
   ]
  },
  {
   "cell_type": "code",
   "execution_count": 27,
   "metadata": {},
   "outputs": [
    {
     "data": {
      "text/html": [
       "<div>\n",
       "<style scoped>\n",
       "    .dataframe tbody tr th:only-of-type {\n",
       "        vertical-align: middle;\n",
       "    }\n",
       "\n",
       "    .dataframe tbody tr th {\n",
       "        vertical-align: top;\n",
       "    }\n",
       "\n",
       "    .dataframe thead th {\n",
       "        text-align: right;\n",
       "    }\n",
       "</style>\n",
       "<table border=\"1\" class=\"dataframe\">\n",
       "  <thead>\n",
       "    <tr style=\"text-align: right;\">\n",
       "      <th></th>\n",
       "      <th>product_count</th>\n",
       "      <th>sum_price</th>\n",
       "      <th>mean</th>\n",
       "    </tr>\n",
       "    <tr>\n",
       "      <th>category</th>\n",
       "      <th></th>\n",
       "      <th></th>\n",
       "      <th></th>\n",
       "    </tr>\n",
       "  </thead>\n",
       "  <tbody>\n",
       "    <tr>\n",
       "      <td>хоз товары</td>\n",
       "      <td>597</td>\n",
       "      <td>582047.0</td>\n",
       "      <td>974.953099</td>\n",
       "    </tr>\n",
       "    <tr>\n",
       "      <td>техника</td>\n",
       "      <td>36</td>\n",
       "      <td>24706.0</td>\n",
       "      <td>686.277778</td>\n",
       "    </tr>\n",
       "    <tr>\n",
       "      <td>интерьер</td>\n",
       "      <td>314</td>\n",
       "      <td>194038.0</td>\n",
       "      <td>617.955414</td>\n",
       "    </tr>\n",
       "    <tr>\n",
       "      <td>другое</td>\n",
       "      <td>1413</td>\n",
       "      <td>578530.0</td>\n",
       "      <td>409.433829</td>\n",
       "    </tr>\n",
       "    <tr>\n",
       "      <td>посуда</td>\n",
       "      <td>84</td>\n",
       "      <td>28694.0</td>\n",
       "      <td>341.595238</td>\n",
       "    </tr>\n",
       "    <tr>\n",
       "      <td>растения</td>\n",
       "      <td>3076</td>\n",
       "      <td>445411.0</td>\n",
       "      <td>144.802016</td>\n",
       "    </tr>\n",
       "  </tbody>\n",
       "</table>\n",
       "</div>"
      ],
      "text/plain": [
       "            product_count  sum_price        mean\n",
       "category                                        \n",
       "хоз товары            597   582047.0  974.953099\n",
       "техника                36    24706.0  686.277778\n",
       "интерьер              314   194038.0  617.955414\n",
       "другое               1413   578530.0  409.433829\n",
       "посуда                 84    28694.0  341.595238\n",
       "растения             3076   445411.0  144.802016"
      ]
     },
     "execution_count": 27,
     "metadata": {},
     "output_type": "execute_result"
    }
   ],
   "source": [
    "average_check_cat = order_group.groupby('category').agg({'product_count':'sum','sum_price':'sum'})\n",
    "average_check_cat['mean'] = average_check_cat['sum_price']/average_check_cat['product_count']\n",
    "average_check_cat = average_check_cat.sort_values(by = 'mean', ascending = False)\n",
    "average_check_cat"
   ]
  },
  {
   "cell_type": "code",
   "execution_count": 28,
   "metadata": {},
   "outputs": [
    {
     "data": {
      "image/png": "[encoded data removed]",
      "text/plain": [
       "<Figure size 432x288 with 1 Axes>"
      ]
     },
     "metadata": {
      "needs_background": "light"
     },
     "output_type": "display_data"
    }
   ],
   "source": [
    "sns.color_palette(\"pastel\")\n",
    "sns.barplot(x = 'category', y = 'mean', data = average_check_cat.reset_index())\n",
    "plt.title('Средний чек категорий')\n",
    "plt.ylabel('Средний чек')\n",
    "plt.xlabel('')\n",
    "plt.show()"
   ]
  },
  {
   "cell_type": "code",
   "execution_count": 29,
   "metadata": {},
   "outputs": [
    {
     "data": {
      "image/png": "[encoded data removed]",
      "text/plain": [
       "<Figure size 432x288 with 1 Axes>"
      ]
     },
     "metadata": {
      "needs_background": "light"
     },
     "output_type": "display_data"
    }
   ],
   "source": [
    "sns.barplot(x = 'category', y = 'cost', data = data)\n",
    "plt.title('Выручка категорий')\n",
    "plt.ylabel('Выручка')\n",
    "plt.xlabel('')\n",
    "plt.show()"
   ]
  },
  {
   "cell_type": "code",
   "execution_count": 30,
   "metadata": {},
   "outputs": [
    {
     "data": {
      "image/png": "[encoded data removed]",
      "text/plain": [
       "<Figure size 504x504 with 1 Axes>"
      ]
     },
     "metadata": {},
     "output_type": "display_data"
    }
   ],
   "source": [
    "average_check_cat['sum_price'].plot.pie(subplots=True, shadow = True, autopct='%1.1f%%', figsize=(7, 7))\n",
    "plt.title('Распределение товаров по категориям')\n",
    "plt.legend (loc='right')\n",
    "plt.ylabel('')\n",
    "plt.show()"
   ]
  },
  {
   "cell_type": "code",
   "execution_count": 31,
   "metadata": {},
   "outputs": [
    {
     "data": {
      "image/png": "[encoded data removed]",
      "text/plain": [
       "<Figure size 432x288 with 1 Axes>"
      ]
     },
     "metadata": {
      "needs_background": "light"
     },
     "output_type": "display_data"
    }
   ],
   "source": [
    "sns.barplot(x = 'quantity',y = 'product',\n",
    "            data=data.groupby('product').agg({'quantity':'sum'}).sort_values(\n",
    "                by = 'quantity', ascending = False).iloc[:10].reset_index())\n",
    "plt.title('ТОП-10 самых покупаемых товаров по количеству')\n",
    "plt.xlabel('Суммарное число покупок') \n",
    "plt.ylabel('Товар')\n",
    "plt.show()"
   ]
  },
  {
   "cell_type": "code",
   "execution_count": 32,
   "metadata": {},
   "outputs": [
    {
     "data": {
      "image/png": "[encoded data removed]",
      "text/plain": [
       "<Figure size 432x288 with 1 Axes>"
      ]
     },
     "metadata": {
      "needs_background": "light"
     },
     "output_type": "display_data"
    }
   ],
   "source": [
    "sns.barplot(x = 'price',y = 'product',\n",
    "            data=data.groupby('product').agg({'price':'sum'}).sort_values(\n",
    "                by = 'price', ascending = False).iloc[:10].reset_index())\n",
    "plt.title('ТОП-10 товаров по выручке')\n",
    "plt.xlabel('Суммарная стоимость') \n",
    "plt.ylabel('Товар')\n",
    "plt.show()"
   ]
  },
  {
   "cell_type": "markdown",
   "metadata": {},
   "source": [
    "Добавим признак сезона, чтобы исследовать сезонность продаж в группах товаров"
   ]
  },
  {
   "cell_type": "code",
   "execution_count": 33,
   "metadata": {},
   "outputs": [],
   "source": [
    "def season(row):\n",
    "    if  3 <= int(row['month']) <= 5:\n",
    "        return 'весна'\n",
    "    elif 6 <= int(row['month']) <= 8:\n",
    "        return 'лето'\n",
    "    elif 9 <= int(row['month']) <= 11:\n",
    "        return 'осень'\n",
    "    else:\n",
    "        return 'зима'"
   ]
  },
  {
   "cell_type": "code",
   "execution_count": 34,
   "metadata": {},
   "outputs": [],
   "source": [
    "data['season'] = data.apply(season, axis = 1)"
   ]
  },
  {
   "cell_type": "code",
   "execution_count": 35,
   "metadata": {},
   "outputs": [
    {
     "data": {
      "image/png": "[encoded data removed]",
      "text/plain": [
       "<Figure size 432x288 with 1 Axes>"
      ]
     },
     "metadata": {
      "needs_background": "light"
     },
     "output_type": "display_data"
    },
    {
     "data": {
      "image/png": "[encoded data removed]",
      "text/plain": [
       "<Figure size 432x288 with 1 Axes>"
      ]
     },
     "metadata": {
      "needs_background": "light"
     },
     "output_type": "display_data"
    },
    {
     "data": {
      "image/png": "[encoded data removed]",
      "text/plain": [
       "<Figure size 432x288 with 1 Axes>"
      ]
     },
     "metadata": {
      "needs_background": "light"
     },
     "output_type": "display_data"
    },
    {
     "data": {
      "image/png": "[encoded data removed]",
      "text/plain": [
       "<Figure size 432x288 with 1 Axes>"
      ]
     },
     "metadata": {
      "needs_background": "light"
     },
     "output_type": "display_data"
    },
    {
     "data": {
      "image/png": "[encoded data removed]",
      "text/plain": [
       "<Figure size 432x288 with 1 Axes>"
      ]
     },
     "metadata": {
      "needs_background": "light"
     },
     "output_type": "display_data"
    },
    {
     "data": {
      "image/png": "[encoded data removed]",
      "text/plain": [
       "<Figure size 432x288 with 1 Axes>"
      ]
     },
     "metadata": {
      "needs_background": "light"
     },
     "output_type": "display_data"
    }
   ],
   "source": [
    "for category in data['category'].unique():\n",
    "    sns.barplot(x = 'season', y = 'cost',  order = ['зима','весна','лето','осень'], data = data.query('category==@category'))\n",
    "    plt.title('Доход по сезонам категории {}'.format(category))\n",
    "    plt.ylabel('Сумма покупок')\n",
    "    plt.xlabel('')\n",
    "    plt.show()"
   ]
  },
  {
   "cell_type": "markdown",
   "metadata": {},
   "source": [
    "Сделаем выводы о сезонности покупок: осенью и зимой покупают растения и технику, выручка от хоз товаров не сильно различается по сезонам, посуду чаще берут зимой и весной, товары для интерьера покупают летом, технику тоже берут зимой и осенью."
   ]
  },
  {
   "cell_type": "markdown",
   "metadata": {},
   "source": [
    "Исследовали выручку и продажи категорий по месяцам, неприрывно до июня растут продажи категории растения и выручка от них, после наблюдаем резкое снижене. В ноябре налюдаем всплеск выручки от продаж хоз товаров. Максимальный средний чек и выручка у категории хоз товаров. На втором месте по выручке техника, на третьем интерьер. \n",
    "Мы распределили товары на 6 категорий, 32 процента составляют хоз товары, 24% растения, 11% интерьер, 1.5% техника, 1.3% посуда, у 30% не определили категорию.\n",
    "В топ 10 товаров по продажам находятся рассады - товары категории растения. В топ 10 по выручке большинство товаров - хозяйственные сумки и тележки.\n",
    "\n",
    "Выводы о сезонности покупок: осенью и зимой покупают растения и технику, выручка от хоз товаров не сильно различается по сезонам, посуду чаще берут зимой и весной, товары для интерьера покупают летом, технику тоже берут зимой и осенью."
   ]
  },
  {
   "cell_type": "markdown",
   "metadata": {},
   "source": [
    "## Сегментация пользователей\n",
    "<a id = 'segmentation'></a>"
   ]
  },
  {
   "cell_type": "code",
   "execution_count": 36,
   "metadata": {},
   "outputs": [
    {
     "data": {
      "text/html": [
       "<div>\n",
       "<style scoped>\n",
       "    .dataframe tbody tr th:only-of-type {\n",
       "        vertical-align: middle;\n",
       "    }\n",
       "\n",
       "    .dataframe tbody tr th {\n",
       "        vertical-align: top;\n",
       "    }\n",
       "\n",
       "    .dataframe thead th {\n",
       "        text-align: right;\n",
       "    }\n",
       "</style>\n",
       "<table border=\"1\" class=\"dataframe\">\n",
       "  <thead>\n",
       "    <tr style=\"text-align: right;\">\n",
       "      <th></th>\n",
       "      <th>date</th>\n",
       "      <th>customer_id</th>\n",
       "      <th>order_id</th>\n",
       "      <th>product</th>\n",
       "      <th>quantity</th>\n",
       "      <th>price</th>\n",
       "      <th>year</th>\n",
       "      <th>week</th>\n",
       "      <th>month</th>\n",
       "      <th>cost</th>\n",
       "      <th>category</th>\n",
       "      <th>season</th>\n",
       "    </tr>\n",
       "  </thead>\n",
       "  <tbody>\n",
       "    <tr>\n",
       "      <td>0</td>\n",
       "      <td>2018-10-01</td>\n",
       "      <td>ee47d746-6d2f-4d3c-9622-c31412542920</td>\n",
       "      <td>68477</td>\n",
       "      <td>Комнатное растение в горшке Алое Вера, d12, h30</td>\n",
       "      <td>1</td>\n",
       "      <td>142.0</td>\n",
       "      <td>2018</td>\n",
       "      <td>40</td>\n",
       "      <td>10</td>\n",
       "      <td>142.0</td>\n",
       "      <td>растения</td>\n",
       "      <td>осень</td>\n",
       "    </tr>\n",
       "    <tr>\n",
       "      <td>1</td>\n",
       "      <td>2018-10-01</td>\n",
       "      <td>ee47d746-6d2f-4d3c-9622-c31412542920</td>\n",
       "      <td>68477</td>\n",
       "      <td>Комнатное растение в горшке Кофе Арабика, d12,...</td>\n",
       "      <td>1</td>\n",
       "      <td>194.0</td>\n",
       "      <td>2018</td>\n",
       "      <td>40</td>\n",
       "      <td>10</td>\n",
       "      <td>194.0</td>\n",
       "      <td>растения</td>\n",
       "      <td>осень</td>\n",
       "    </tr>\n",
       "    <tr>\n",
       "      <td>2</td>\n",
       "      <td>2018-10-01</td>\n",
       "      <td>ee47d746-6d2f-4d3c-9622-c31412542920</td>\n",
       "      <td>68477</td>\n",
       "      <td>Радермахера d-12 см h-20 см</td>\n",
       "      <td>1</td>\n",
       "      <td>112.0</td>\n",
       "      <td>2018</td>\n",
       "      <td>40</td>\n",
       "      <td>10</td>\n",
       "      <td>112.0</td>\n",
       "      <td>другое</td>\n",
       "      <td>осень</td>\n",
       "    </tr>\n",
       "    <tr>\n",
       "      <td>3</td>\n",
       "      <td>2018-10-01</td>\n",
       "      <td>ee47d746-6d2f-4d3c-9622-c31412542920</td>\n",
       "      <td>68477</td>\n",
       "      <td>Хризолидокарпус Лутесценс d-9 см</td>\n",
       "      <td>1</td>\n",
       "      <td>179.0</td>\n",
       "      <td>2018</td>\n",
       "      <td>40</td>\n",
       "      <td>10</td>\n",
       "      <td>179.0</td>\n",
       "      <td>другое</td>\n",
       "      <td>осень</td>\n",
       "    </tr>\n",
       "    <tr>\n",
       "      <td>4</td>\n",
       "      <td>2018-10-01</td>\n",
       "      <td>ee47d746-6d2f-4d3c-9622-c31412542920</td>\n",
       "      <td>68477</td>\n",
       "      <td>Циперус Зумула d-12 см h-25 см</td>\n",
       "      <td>1</td>\n",
       "      <td>112.0</td>\n",
       "      <td>2018</td>\n",
       "      <td>40</td>\n",
       "      <td>10</td>\n",
       "      <td>112.0</td>\n",
       "      <td>растения</td>\n",
       "      <td>осень</td>\n",
       "    </tr>\n",
       "  </tbody>\n",
       "</table>\n",
       "</div>"
      ],
      "text/plain": [
       "        date                           customer_id  order_id  \\\n",
       "0 2018-10-01  ee47d746-6d2f-4d3c-9622-c31412542920     68477   \n",
       "1 2018-10-01  ee47d746-6d2f-4d3c-9622-c31412542920     68477   \n",
       "2 2018-10-01  ee47d746-6d2f-4d3c-9622-c31412542920     68477   \n",
       "3 2018-10-01  ee47d746-6d2f-4d3c-9622-c31412542920     68477   \n",
       "4 2018-10-01  ee47d746-6d2f-4d3c-9622-c31412542920     68477   \n",
       "\n",
       "                                             product  quantity  price  year  \\\n",
       "0    Комнатное растение в горшке Алое Вера, d12, h30         1  142.0  2018   \n",
       "1  Комнатное растение в горшке Кофе Арабика, d12,...         1  194.0  2018   \n",
       "2                        Радермахера d-12 см h-20 см         1  112.0  2018   \n",
       "3                   Хризолидокарпус Лутесценс d-9 см         1  179.0  2018   \n",
       "4                     Циперус Зумула d-12 см h-25 см         1  112.0  2018   \n",
       "\n",
       "   week  month   cost  category season  \n",
       "0    40     10  142.0  растения  осень  \n",
       "1    40     10  194.0  растения  осень  \n",
       "2    40     10  112.0    другое  осень  \n",
       "3    40     10  179.0    другое  осень  \n",
       "4    40     10  112.0  растения  осень  "
      ]
     },
     "execution_count": 36,
     "metadata": {},
     "output_type": "execute_result"
    }
   ],
   "source": [
    "data.head()"
   ]
  },
  {
   "cell_type": "markdown",
   "metadata": {},
   "source": [
    "Выделим категории в отдельные колонки, создадим бинарные переменные, чтобы учесть их в кластеризации"
   ]
  },
  {
   "cell_type": "code",
   "execution_count": 37,
   "metadata": {},
   "outputs": [],
   "source": [
    "enc = OneHotEncoder(handle_unknown = 'ignore')\n",
    "feature_arr = enc.fit_transform(data[['category']]).toarray()\n",
    "feature_labels = enc.categories_"
   ]
  },
  {
   "cell_type": "code",
   "execution_count": 38,
   "metadata": {},
   "outputs": [],
   "source": [
    "data_features = pd.DataFrame(feature_arr, columns=feature_labels)\n",
    "data_features = data_features.astype(int)\n",
    "data = data.reset_index().drop(['index'], axis = 1).join(data_features)"
   ]
  },
  {
   "cell_type": "code",
   "execution_count": 39,
   "metadata": {},
   "outputs": [
    {
     "data": {
      "text/plain": [
       "Index([         'date',   'customer_id',      'order_id',       'product',\n",
       "            'quantity',         'price',          'year',          'week',\n",
       "               'month',          'cost',      'category',        'season',\n",
       "           ('другое',),   ('интерьер',),     ('посуда',),   ('растения',),\n",
       "          ('техника',), ('хоз товары',)],\n",
       "      dtype='object')"
      ]
     },
     "execution_count": 39,
     "metadata": {},
     "output_type": "execute_result"
    }
   ],
   "source": [
    "data.columns"
   ]
  },
  {
   "cell_type": "code",
   "execution_count": 40,
   "metadata": {},
   "outputs": [
    {
     "data": {
      "text/html": [
       "<div>\n",
       "<style scoped>\n",
       "    .dataframe tbody tr th:only-of-type {\n",
       "        vertical-align: middle;\n",
       "    }\n",
       "\n",
       "    .dataframe tbody tr th {\n",
       "        vertical-align: top;\n",
       "    }\n",
       "\n",
       "    .dataframe thead th {\n",
       "        text-align: right;\n",
       "    }\n",
       "</style>\n",
       "<table border=\"1\" class=\"dataframe\">\n",
       "  <thead>\n",
       "    <tr style=\"text-align: right;\">\n",
       "      <th></th>\n",
       "      <th>order_id</th>\n",
       "      <th>quantity</th>\n",
       "      <th>cost</th>\n",
       "      <th>(другое,)</th>\n",
       "      <th>(интерьер,)</th>\n",
       "      <th>(посуда,)</th>\n",
       "      <th>(растения,)</th>\n",
       "      <th>(хоз товары,)</th>\n",
       "    </tr>\n",
       "    <tr>\n",
       "      <th>customer_id</th>\n",
       "      <th></th>\n",
       "      <th></th>\n",
       "      <th></th>\n",
       "      <th></th>\n",
       "      <th></th>\n",
       "      <th></th>\n",
       "      <th></th>\n",
       "      <th></th>\n",
       "    </tr>\n",
       "  </thead>\n",
       "  <tbody>\n",
       "    <tr>\n",
       "      <td>000d6849-084e-4d9f-ac03-37174eaf60c4</td>\n",
       "      <td>1</td>\n",
       "      <td>1.0</td>\n",
       "      <td>555.0</td>\n",
       "      <td>0</td>\n",
       "      <td>0</td>\n",
       "      <td>0</td>\n",
       "      <td>4</td>\n",
       "      <td>0</td>\n",
       "    </tr>\n",
       "    <tr>\n",
       "      <td>001cee7f-0b29-4716-b202-0042213ab038</td>\n",
       "      <td>1</td>\n",
       "      <td>1.0</td>\n",
       "      <td>442.0</td>\n",
       "      <td>1</td>\n",
       "      <td>0</td>\n",
       "      <td>0</td>\n",
       "      <td>0</td>\n",
       "      <td>0</td>\n",
       "    </tr>\n",
       "    <tr>\n",
       "      <td>00299f34-5385-4d13-9aea-c80b81658e1b</td>\n",
       "      <td>1</td>\n",
       "      <td>2.0</td>\n",
       "      <td>914.0</td>\n",
       "      <td>1</td>\n",
       "      <td>0</td>\n",
       "      <td>0</td>\n",
       "      <td>0</td>\n",
       "      <td>0</td>\n",
       "    </tr>\n",
       "    <tr>\n",
       "      <td>002d4d3a-4a59-406b-86ec-c3314357e498</td>\n",
       "      <td>1</td>\n",
       "      <td>1.0</td>\n",
       "      <td>1649.0</td>\n",
       "      <td>0</td>\n",
       "      <td>0</td>\n",
       "      <td>0</td>\n",
       "      <td>0</td>\n",
       "      <td>1</td>\n",
       "    </tr>\n",
       "    <tr>\n",
       "      <td>005ba170-45e8-42de-93f7-192481ae2659</td>\n",
       "      <td>1</td>\n",
       "      <td>1.0</td>\n",
       "      <td>1199.0</td>\n",
       "      <td>0</td>\n",
       "      <td>1</td>\n",
       "      <td>0</td>\n",
       "      <td>0</td>\n",
       "      <td>0</td>\n",
       "    </tr>\n",
       "  </tbody>\n",
       "</table>\n",
       "</div>"
      ],
      "text/plain": [
       "                                      order_id  quantity    cost  (другое,)  \\\n",
       "customer_id                                                                   \n",
       "000d6849-084e-4d9f-ac03-37174eaf60c4         1       1.0   555.0          0   \n",
       "001cee7f-0b29-4716-b202-0042213ab038         1       1.0   442.0          1   \n",
       "00299f34-5385-4d13-9aea-c80b81658e1b         1       2.0   914.0          1   \n",
       "002d4d3a-4a59-406b-86ec-c3314357e498         1       1.0  1649.0          0   \n",
       "005ba170-45e8-42de-93f7-192481ae2659         1       1.0  1199.0          0   \n",
       "\n",
       "                                      (интерьер,)  (посуда,)  (растения,)  \\\n",
       "customer_id                                                                 \n",
       "000d6849-084e-4d9f-ac03-37174eaf60c4            0          0            4   \n",
       "001cee7f-0b29-4716-b202-0042213ab038            0          0            0   \n",
       "00299f34-5385-4d13-9aea-c80b81658e1b            0          0            0   \n",
       "002d4d3a-4a59-406b-86ec-c3314357e498            0          0            0   \n",
       "005ba170-45e8-42de-93f7-192481ae2659            1          0            0   \n",
       "\n",
       "                                      (хоз товары,)  \n",
       "customer_id                                          \n",
       "000d6849-084e-4d9f-ac03-37174eaf60c4              0  \n",
       "001cee7f-0b29-4716-b202-0042213ab038              0  \n",
       "00299f34-5385-4d13-9aea-c80b81658e1b              0  \n",
       "002d4d3a-4a59-406b-86ec-c3314357e498              1  \n",
       "005ba170-45e8-42de-93f7-192481ae2659              0  "
      ]
     },
     "execution_count": 40,
     "metadata": {},
     "output_type": "execute_result"
    }
   ],
   "source": [
    "df_cluster = data.groupby('customer_id').agg({'order_id':'nunique',\n",
    "                                              'quantity':'mean',\n",
    "                                              'cost':'sum', \n",
    "                                             ('другое',):'sum',\n",
    "                                             ('интерьер',):'sum',\n",
    "                                             ('посуда',):'sum',\n",
    "                                             ('растения',):'sum',\n",
    "                                             ('хоз товары',):'sum'})\n",
    "df_cluster.head()"
   ]
  },
  {
   "cell_type": "code",
   "execution_count": 41,
   "metadata": {},
   "outputs": [
    {
     "data": {
      "text/plain": [
       "array([  88.  , 5432.79])"
      ]
     },
     "execution_count": 41,
     "metadata": {},
     "output_type": "execute_result"
    }
   ],
   "source": [
    "np.percentile(df_cluster['cost'], [5, 99])"
   ]
  },
  {
   "cell_type": "markdown",
   "metadata": {},
   "source": [
    "Очистим датастет от выбросов, для лучшего распределения кластеров"
   ]
  },
  {
   "cell_type": "code",
   "execution_count": 42,
   "metadata": {},
   "outputs": [],
   "source": [
    "df_cluster = df_cluster.query('cost<=5433 & cost>88')"
   ]
  },
  {
   "cell_type": "code",
   "execution_count": 43,
   "metadata": {},
   "outputs": [],
   "source": [
    "x = df_cluster.reset_index().drop(['customer_id'], axis = 1)\n",
    "scaler = StandardScaler() \n",
    "# обязательная стандартизация данных перед работой с алгоритмами\n",
    "x_sc = scaler.fit_transform(x)"
   ]
  },
  {
   "cell_type": "code",
   "execution_count": 44,
   "metadata": {},
   "outputs": [],
   "source": [
    "linked = linkage(x_sc, method = 'ward')"
   ]
  },
  {
   "cell_type": "code",
   "execution_count": 45,
   "metadata": {},
   "outputs": [
    {
     "data": {
      "image/png": "[encoded data removed]",
      "text/plain": [
       "<Figure size 1080x720 with 1 Axes>"
      ]
     },
     "metadata": {
      "needs_background": "light"
     },
     "output_type": "display_data"
    }
   ],
   "source": [
    "plt.figure(figsize=(15, 10))  \n",
    "dendrogram(linked, orientation='top')\n",
    "plt.xlabel('')\n",
    "plt.show()"
   ]
  },
  {
   "cell_type": "code",
   "execution_count": 46,
   "metadata": {},
   "outputs": [
    {
     "data": {
      "text/plain": [
       "0    960\n",
       "1    394\n",
       "5    207\n",
       "3    100\n",
       "2     86\n",
       "6     74\n",
       "4     11\n",
       "Name: cluster, dtype: int64"
      ]
     },
     "execution_count": 46,
     "metadata": {},
     "output_type": "execute_result"
    }
   ],
   "source": [
    "# задаём модель k_means с числом кластеров 7\n",
    "km = KMeans(n_clusters = 7, random_state = 0)\n",
    "labels = km.fit_predict(x_sc)\n",
    "df_cluster['cluster'] = labels\n",
    "df_cluster.cluster.value_counts()"
   ]
  },
  {
   "cell_type": "code",
   "execution_count": 47,
   "metadata": {},
   "outputs": [
    {
     "data": {
      "text/html": [
       "<div>\n",
       "<style scoped>\n",
       "    .dataframe tbody tr th:only-of-type {\n",
       "        vertical-align: middle;\n",
       "    }\n",
       "\n",
       "    .dataframe tbody tr th {\n",
       "        vertical-align: top;\n",
       "    }\n",
       "\n",
       "    .dataframe thead th {\n",
       "        text-align: right;\n",
       "    }\n",
       "</style>\n",
       "<table border=\"1\" class=\"dataframe\">\n",
       "  <thead>\n",
       "    <tr style=\"text-align: right;\">\n",
       "      <th>cluster</th>\n",
       "      <th>0</th>\n",
       "      <th>1</th>\n",
       "      <th>2</th>\n",
       "      <th>3</th>\n",
       "      <th>4</th>\n",
       "      <th>5</th>\n",
       "      <th>6</th>\n",
       "    </tr>\n",
       "  </thead>\n",
       "  <tbody>\n",
       "    <tr>\n",
       "      <td>order_id</td>\n",
       "      <td>1.000000</td>\n",
       "      <td>1.025381</td>\n",
       "      <td>2.209302</td>\n",
       "      <td>1.010000</td>\n",
       "      <td>1.454545</td>\n",
       "      <td>1.033816</td>\n",
       "      <td>1.108108</td>\n",
       "    </tr>\n",
       "    <tr>\n",
       "      <td>quantity</td>\n",
       "      <td>1.191192</td>\n",
       "      <td>1.049704</td>\n",
       "      <td>1.184593</td>\n",
       "      <td>4.294167</td>\n",
       "      <td>1.391252</td>\n",
       "      <td>1.185829</td>\n",
       "      <td>1.177077</td>\n",
       "    </tr>\n",
       "    <tr>\n",
       "      <td>cost</td>\n",
       "      <td>582.494792</td>\n",
       "      <td>1152.634518</td>\n",
       "      <td>1075.360465</td>\n",
       "      <td>999.230000</td>\n",
       "      <td>3200.545455</td>\n",
       "      <td>1003.584541</td>\n",
       "      <td>1966.364865</td>\n",
       "    </tr>\n",
       "    <tr>\n",
       "      <td>(другое,)</td>\n",
       "      <td>0.812500</td>\n",
       "      <td>0.083756</td>\n",
       "      <td>1.000000</td>\n",
       "      <td>0.460000</td>\n",
       "      <td>14.818182</td>\n",
       "      <td>0.130435</td>\n",
       "      <td>0.702703</td>\n",
       "    </tr>\n",
       "    <tr>\n",
       "      <td>(интерьер,)</td>\n",
       "      <td>0.000000</td>\n",
       "      <td>0.007614</td>\n",
       "      <td>0.139535</td>\n",
       "      <td>0.140000</td>\n",
       "      <td>0.000000</td>\n",
       "      <td>1.309179</td>\n",
       "      <td>0.013514</td>\n",
       "    </tr>\n",
       "    <tr>\n",
       "      <td>(посуда,)</td>\n",
       "      <td>0.018750</td>\n",
       "      <td>0.000000</td>\n",
       "      <td>0.058140</td>\n",
       "      <td>0.610000</td>\n",
       "      <td>0.181818</td>\n",
       "      <td>0.009662</td>\n",
       "      <td>0.000000</td>\n",
       "    </tr>\n",
       "    <tr>\n",
       "      <td>(растения,)</td>\n",
       "      <td>0.689583</td>\n",
       "      <td>0.022843</td>\n",
       "      <td>2.325581</td>\n",
       "      <td>0.330000</td>\n",
       "      <td>3.727273</td>\n",
       "      <td>0.164251</td>\n",
       "      <td>11.878378</td>\n",
       "    </tr>\n",
       "    <tr>\n",
       "      <td>(хоз товары,)</td>\n",
       "      <td>0.000000</td>\n",
       "      <td>1.152284</td>\n",
       "      <td>0.151163</td>\n",
       "      <td>0.000000</td>\n",
       "      <td>0.000000</td>\n",
       "      <td>0.000000</td>\n",
       "      <td>0.000000</td>\n",
       "    </tr>\n",
       "  </tbody>\n",
       "</table>\n",
       "</div>"
      ],
      "text/plain": [
       "cluster                 0            1            2           3            4  \\\n",
       "order_id         1.000000     1.025381     2.209302    1.010000     1.454545   \n",
       "quantity         1.191192     1.049704     1.184593    4.294167     1.391252   \n",
       "cost           582.494792  1152.634518  1075.360465  999.230000  3200.545455   \n",
       "(другое,)        0.812500     0.083756     1.000000    0.460000    14.818182   \n",
       "(интерьер,)      0.000000     0.007614     0.139535    0.140000     0.000000   \n",
       "(посуда,)        0.018750     0.000000     0.058140    0.610000     0.181818   \n",
       "(растения,)      0.689583     0.022843     2.325581    0.330000     3.727273   \n",
       "(хоз товары,)    0.000000     1.152284     0.151163    0.000000     0.000000   \n",
       "\n",
       "cluster                  5            6  \n",
       "order_id          1.033816     1.108108  \n",
       "quantity          1.185829     1.177077  \n",
       "cost           1003.584541  1966.364865  \n",
       "(другое,)         0.130435     0.702703  \n",
       "(интерьер,)       1.309179     0.013514  \n",
       "(посуда,)         0.009662     0.000000  \n",
       "(растения,)       0.164251    11.878378  \n",
       "(хоз товары,)     0.000000     0.000000  "
      ]
     },
     "execution_count": 47,
     "metadata": {},
     "output_type": "execute_result"
    }
   ],
   "source": [
    "df_cluster.groupby('cluster').mean().T"
   ]
  },
  {
   "cell_type": "markdown",
   "metadata": {},
   "source": [
    "Клиенты кластера 0 характеризует низкая средней стоимостью заказа, совершили 1 заказ в основном с 1 товаром. Кластер 1 характеризуется совершением клиентами по 1 закзу с 1 наименованием, но высокой стоимости, чаще покупаются хоз товары. Кластер 2 характеризует совершение более 2 заказов, основная категория покупок растения и другое. Клиенты кластера 3 совершили по 1 заказу в среднем с более 4 товарами. К кластеру 4 относятся клиенты, совершающие покупки категории другое с наивысшей стоимостью. К кластеру 5 относим пользователей с небольними покупками категории интерьер. Кластер 6 - пользователи, покупающие много растений. "
   ]
  },
  {
   "cell_type": "markdown",
   "metadata": {},
   "source": [
    "## Проверка статистических гипотез\n",
    "<a id = 'abtests'></a>"
   ]
  },
  {
   "cell_type": "markdown",
   "metadata": {},
   "source": [
    "Проверим гипотезу о равенстве выручки кластеров  \n",
    "H0 - выручка кластеров A и B равны  \n",
    "H1 - вырчка кластров A и B не равна  "
   ]
  },
  {
   "cell_type": "code",
   "execution_count": 48,
   "metadata": {},
   "outputs": [],
   "source": [
    "cluster0 = df_cluster.query('cluster==0')['cost']\n",
    "cluster1 = df_cluster.query('cluster==1')['cost']\n",
    "cluster2 = df_cluster.query('cluster==2')['cost']\n",
    "cluster3 = df_cluster.query('cluster==3')['cost']\n",
    "cluster4 = df_cluster.query('cluster==4')['cost']\n",
    "cluster5 = df_cluster.query('cluster==5')['cost']\n",
    "cluster6 = df_cluster.query('cluster==6')['cost']"
   ]
  },
  {
   "cell_type": "markdown",
   "metadata": {},
   "source": [
    "Часть выборок имеют малый размер, в качестве стат критерия будем использоват критерий Манна-Уитни"
   ]
  },
  {
   "cell_type": "code",
   "execution_count": 49,
   "metadata": {},
   "outputs": [
    {
     "name": "stdout",
     "output_type": "stream",
     "text": [
      "Кластеры cluster0 cluster1\n",
      "p_value: 0.00000\n",
      "Средняя выручка кластера A: 582\n",
      "Средняя выручка кластера B: 1153\n",
      "Гипотеза H0 о равенстве выручки кластеров отвергается\n",
      "\n",
      "Кластеры cluster0 cluster2\n",
      "p_value: 0.00000\n",
      "Средняя выручка кластера A: 582\n",
      "Средняя выручка кластера B: 1075\n",
      "Гипотеза H0 о равенстве выручки кластеров отвергается\n",
      "\n",
      "Кластеры cluster0 cluster3\n",
      "p_value: 0.00000\n",
      "Средняя выручка кластера A: 582\n",
      "Средняя выручка кластера B: 999\n",
      "Гипотеза H0 о равенстве выручки кластеров отвергается\n",
      "\n",
      "Кластеры cluster0 cluster4\n",
      "p_value: 0.00000\n",
      "Средняя выручка кластера A: 582\n",
      "Средняя выручка кластера B: 3201\n",
      "Гипотеза H0 о равенстве выручки кластеров отвергается\n",
      "\n",
      "Кластеры cluster0 cluster5\n",
      "p_value: 0.00000\n",
      "Средняя выручка кластера A: 582\n",
      "Средняя выручка кластера B: 1004\n",
      "Гипотеза H0 о равенстве выручки кластеров отвергается\n",
      "\n",
      "Кластеры cluster0 cluster6\n",
      "p_value: 0.00000\n",
      "Средняя выручка кластера A: 582\n",
      "Средняя выручка кластера B: 1966\n",
      "Гипотеза H0 о равенстве выручки кластеров отвергается\n",
      "\n",
      "Кластеры cluster1 cluster2\n",
      "p_value: 0.05192\n",
      "Средняя выручка кластера A: 1153\n",
      "Средняя выручка кластера B: 1075\n",
      "Гипотеза H0 о равенстве выручки кластеров не отвергается\n",
      "\n",
      "Кластеры cluster1 cluster3\n",
      "p_value: 0.00628\n",
      "Средняя выручка кластера A: 1153\n",
      "Средняя выручка кластера B: 999\n",
      "Гипотеза H0 о равенстве выручки кластеров отвергается\n",
      "\n",
      "Кластеры cluster1 cluster4\n",
      "p_value: 0.00000\n",
      "Средняя выручка кластера A: 1153\n",
      "Средняя выручка кластера B: 3201\n",
      "Гипотеза H0 о равенстве выручки кластеров отвергается\n",
      "\n",
      "Кластеры cluster1 cluster5\n",
      "p_value: 0.01139\n",
      "Средняя выручка кластера A: 1153\n",
      "Средняя выручка кластера B: 1004\n",
      "Гипотеза H0 о равенстве выручки кластеров отвергается\n",
      "\n",
      "Кластеры cluster1 cluster6\n",
      "p_value: 0.00000\n",
      "Средняя выручка кластера A: 1153\n",
      "Средняя выручка кластера B: 1966\n",
      "Гипотеза H0 о равенстве выручки кластеров отвергается\n",
      "\n",
      "Кластеры cluster2 cluster3\n",
      "p_value: 0.66206\n",
      "Средняя выручка кластера A: 1075\n",
      "Средняя выручка кластера B: 999\n",
      "Гипотеза H0 о равенстве выручки кластеров не отвергается\n",
      "\n",
      "Кластеры cluster2 cluster4\n",
      "p_value: 0.00001\n",
      "Средняя выручка кластера A: 1075\n",
      "Средняя выручка кластера B: 3201\n",
      "Гипотеза H0 о равенстве выручки кластеров отвергается\n",
      "\n",
      "Кластеры cluster2 cluster5\n",
      "p_value: 0.92339\n",
      "Средняя выручка кластера A: 1075\n",
      "Средняя выручка кластера B: 1004\n",
      "Гипотеза H0 о равенстве выручки кластеров не отвергается\n",
      "\n",
      "Кластеры cluster2 cluster6\n",
      "p_value: 0.00000\n",
      "Средняя выручка кластера A: 1075\n",
      "Средняя выручка кластера B: 1966\n",
      "Гипотеза H0 о равенстве выручки кластеров отвергается\n",
      "\n",
      "Кластеры cluster3 cluster4\n",
      "p_value: 0.00000\n",
      "Средняя выручка кластера A: 999\n",
      "Средняя выручка кластера B: 3201\n",
      "Гипотеза H0 о равенстве выручки кластеров отвергается\n",
      "\n",
      "Кластеры cluster3 cluster5\n",
      "p_value: 0.49096\n",
      "Средняя выручка кластера A: 999\n",
      "Средняя выручка кластера B: 1004\n",
      "Гипотеза H0 о равенстве выручки кластеров не отвергается\n",
      "\n",
      "Кластеры cluster3 cluster6\n",
      "p_value: 0.00000\n",
      "Средняя выручка кластера A: 999\n",
      "Средняя выручка кластера B: 1966\n",
      "Гипотеза H0 о равенстве выручки кластеров отвергается\n",
      "\n",
      "Кластеры cluster4 cluster5\n",
      "p_value: 0.00000\n",
      "Средняя выручка кластера A: 3201\n",
      "Средняя выручка кластера B: 1004\n",
      "Гипотеза H0 о равенстве выручки кластеров отвергается\n",
      "\n",
      "Кластеры cluster4 cluster6\n",
      "p_value: 0.00171\n",
      "Средняя выручка кластера A: 3201\n",
      "Средняя выручка кластера B: 1966\n",
      "Гипотеза H0 о равенстве выручки кластеров отвергается\n",
      "\n",
      "Кластеры cluster5 cluster6\n",
      "p_value: 0.00000\n",
      "Средняя выручка кластера A: 1004\n",
      "Средняя выручка кластера B: 1966\n",
      "Гипотеза H0 о равенстве выручки кластеров отвергается\n",
      "\n"
     ]
    }
   ],
   "source": [
    "mas_cluster = [cluster0, cluster1, cluster2, cluster3, cluster4, cluster5, cluster6]\n",
    "mas_cluster_str = ['cluster0', 'cluster1', 'cluster2', 'cluster3', 'cluster4', 'cluster5', 'cluster6']\n",
    "for index_one in range(len(mas_cluster)):\n",
    "    for index_two in range(index_one+1, len(mas_cluster)):\n",
    "        p_mw = st.mannwhitneyu(mas_cluster[index_one], mas_cluster[index_two], alternative = 'two-sided' )[1]\n",
    "        print('Кластеры',mas_cluster_str[index_one], mas_cluster_str[index_two])\n",
    "        print('p_value: {:.5f}'.format(p_mw))\n",
    "        print('Средняя выручка кластера A: {:.0f}'.format(mas_cluster[index_one].mean()))\n",
    "        print('Средняя выручка кластера B: {:.0f}'.format(mas_cluster[index_two].mean()))\n",
    "        if p_mw<0.05:\n",
    "            print('Гипотеза H0 о равенстве выручки кластеров отвергается\\n')\n",
    "        else:\n",
    "            print('Гипотеза H0 о равенстве выручки кластеров не отвергается\\n')"
   ]
  },
  {
   "cell_type": "markdown",
   "metadata": {},
   "source": [
    "Проверив гипотезы, вы выявили, что попарная выручка кластеров 1 и 2, 2 и 3, 2 и 5, 3 и 5 равна\n"
   ]
  },
  {
   "cell_type": "markdown",
   "metadata": {},
   "source": [
    "## Формулирование выводов\n",
    "<a id = 'conclusion'></a>"
   ]
  },
  {
   "cell_type": "markdown",
   "metadata": {},
   "source": [
    "Мы загрузили данные и очистили от аномальных значений, добавлены новые признаки, типы колонок привели к необходимым.  \n",
    "\n",
    "Провели лемматизацию и выделили типы товаров. Исследовали выручку и продажи категорий по месяцам, непрерывно до июня растут продажи категории растения и выручка от них, после наблюдаем резкое снижене. В ноябре налюдаем всплеск выручки от продаж хоз товаров. Максимальный средний чек и выручка у категории хоз товаров. На втором месте по выручке техника, на третьем интерьер. Мы распределили товары на 6 категорий, 32 процента составляют хоз товары, 24% растения, 11% интерьер, 1.5% техника, 1.3% посуда, у 30% не определили категорию. В топ 10 товаров по продажам находятся рассады - товары категории растения. В топ 10 по выручке большинство товаров - хозяйственные сумки и тележки.\n",
    "\n",
    "Выводы о сезонности покупок: осенью и зимой покупают растения и технику, выручка от хоз товаров не сильно различается по сезонам, посуду чаще берут зимой и весной, товары для интерьера покупают летом, технику тоже берут зимой и осенью.\n",
    "\n",
    "Сегментировали клиентов и выделили 7 кластеров. Клиенты кластера 0 характеризует низкая срежней стоимостью заказа, совершили 1 заказ в основном с 1 товаром. Кластер 1 характеризуется совершением клиентами по 1 закзу с 1 наименованием, но высокой стоимости, чаще покупаются хох товары. Кластер 2 характеризует совершение более 2 заказов, основная категория покупок растения и другое. Клиенты кластера 3 совершили по 1 заказу в среднем с более 4 товарами. К кластеру 4 относятся клиенты, совершающие покупк категории другое с наивсшей стоимостью. К кластеру 5 относим пользователй с небольними покупками категории интерьер. Кластер 6 - пользователи, покупающие много растений."
   ]
  },
  {
   "cell_type": "markdown",
   "metadata": {},
   "source": [
    "## Материалы исследования\n",
    "<a id = 'material'></a>"
   ]
  },
  {
   "cell_type": "markdown",
   "metadata": {},
   "source": [
    "* [Презентация](https://drive.google.com/file/d/17wm3umV81EHfWw7qxig6uW0qC4GjRNri/view?usp=sharing)  \n",
    "* [Дашборд](https://public.tableau.com/profile/dmitry8264#!/vizhome/Book1_16188514871640/Dashboard2?publish=yes)"
   ]
  },
  {
   "cell_type": "code",
   "execution_count": null,
   "metadata": {},
   "outputs": [],
   "source": []
  }
 ],
 "metadata": {
  "kernelspec": {
   "display_name": "Python 3",
   "language": "python",
   "name": "python3"
  },
  "language_info": {
   "codemirror_mode": {
    "name": "ipython",
    "version": 3
   },
   "file_extension": ".py",
   "mimetype": "text/x-python",
   "name": "python",
   "nbconvert_exporter": "python",
   "pygments_lexer": "ipython3",
   "version": "3.7.5"
  },
  "toc": {
   "base_numbering": 1,
   "nav_menu": {},
   "number_sections": false,
   "sideBar": true,
   "skip_h1_title": true,
   "title_cell": "Table of Contents",
   "title_sidebar": "Contents",
   "toc_cell": false,
   "toc_position": {},
   "toc_section_display": true,
   "toc_window_display": false
  }
 },
 "nbformat": 4,
 "nbformat_minor": 2
}
